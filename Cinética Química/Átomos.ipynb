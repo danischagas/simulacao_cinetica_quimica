{
 "cells": [
  {
   "cell_type": "markdown",
   "id": "ccd390db-7e9e-4427-97c8-e4f6717742fb",
   "metadata": {},
   "source": [
    "# Instalações e Importações"
   ]
  },
  {
   "cell_type": "code",
   "execution_count": 1,
   "id": "66a8eedb-cc7b-4e44-a763-c096c8d23fa8",
   "metadata": {},
   "outputs": [
    {
     "name": "stdout",
     "output_type": "stream",
     "text": [
      "Requirement already satisfied: pygame in c:\\venv\\ilumpy\\lib\\site-packages (2.5.0)\n",
      "Note: you may need to restart the kernel to use updated packages.\n"
     ]
    }
   ],
   "source": [
    "pip install pygame"
   ]
  },
  {
   "cell_type": "code",
   "execution_count": 2,
   "id": "e73822a4-6683-4953-b60d-dbf848e88e60",
   "metadata": {},
   "outputs": [
    {
     "name": "stdout",
     "output_type": "stream",
     "text": [
      "Requirement already satisfied: pip in c:\\venv\\ilumpy\\lib\\site-packages (23.2.1)\n",
      "Note: you may need to restart the kernel to use updated packages.\n"
     ]
    }
   ],
   "source": [
    "pip install --upgrade pip"
   ]
  },
  {
   "cell_type": "code",
   "execution_count": 10,
   "id": "0c3a1426-2f74-4cfe-8e05-80a173ad84f5",
   "metadata": {},
   "outputs": [],
   "source": [
    "import random\n",
    "import numpy as np\n",
    "import pygame\n",
    "import matplotlib.pyplot as plt\n",
    "import math\n",
    "import sys"
   ]
  },
  {
   "cell_type": "markdown",
   "id": "1b45bf9e-028b-4a2b-9ec5-3ff21553de13",
   "metadata": {},
   "source": [
    "- pycharm"
   ]
  },
  {
   "cell_type": "markdown",
   "id": "cfb08ff4-5a99-4e5d-af0f-e24d8f3ab74d",
   "metadata": {},
   "source": [
    "<hr>"
   ]
  },
  {
   "cell_type": "code",
   "execution_count": 11,
   "id": "f78551c3-361d-425d-b685-9ea37959d57f",
   "metadata": {},
   "outputs": [],
   "source": [
    "pygame.init()\n",
    "screen = pygame.display.set_mode((800, 600)) # width, height\n",
    "pygame.display.set_caption(\"Simulação de Átomos\")"
   ]
  },
  {
   "cell_type": "code",
   "execution_count": null,
   "id": "7077ee77-ce64-47ed-a1c6-c7fe0274ea35",
   "metadata": {},
   "outputs": [],
   "source": [
    "class Window:\n",
    "    def __init__(self, width, height, title):\n",
    "        self.width = width\n",
    "        self.height = height\n",
    "        self.title = title\n",
    "        self.screen = None\n",
    "\n",
    "    def init(self):\n",
    "        pygame.init()\n",
    "        self.screen = pygame.display.set_mode((self.width, self.height))\n",
    "        pygame.display.set_caption(self.title)\n",
    "\n",
    "    def quit(self):\n",
    "        pygame.quit()\n",
    "        \n",
    "        \n",
    "\n",
    "    def draw(self):\n",
    "        # Draw the molecule on the screen\n",
    "        pass"
   ]
  },
  {
   "cell_type": "markdown",
   "id": "db163906-76ef-4276-8a04-f7623182b62a",
   "metadata": {},
   "source": [
    "# DANI"
   ]
  },
  {
   "cell_type": "code",
   "execution_count": 5,
   "id": "e6b461a4-84b5-4876-81f1-8f5f0f674bd8",
   "metadata": {},
   "outputs": [
    {
     "ename": "NameError",
     "evalue": "name 'vector' is not defined",
     "output_type": "error",
     "traceback": [
      "\u001b[1;31m---------------------------------------------------------------------------\u001b[0m",
      "\u001b[1;31mNameError\u001b[0m                                 Traceback (most recent call last)",
      "\u001b[1;32mC:\\Users\\DEBORA~1\\AppData\\Local\\Temp/ipykernel_8892/146161613.py\u001b[0m in \u001b[0;36m<module>\u001b[1;34m\u001b[0m\n\u001b[0;32m     59\u001b[0m \u001b[1;33m\u001b[0m\u001b[0m\n\u001b[0;32m     60\u001b[0m \u001b[1;32mif\u001b[0m \u001b[0m__name__\u001b[0m \u001b[1;33m==\u001b[0m \u001b[1;34m\"__main__\"\u001b[0m\u001b[1;33m:\u001b[0m\u001b[1;33m\u001b[0m\u001b[1;33m\u001b[0m\u001b[0m\n\u001b[1;32m---> 61\u001b[1;33m     \u001b[0mmain\u001b[0m\u001b[1;33m(\u001b[0m\u001b[1;33m)\u001b[0m\u001b[1;33m\u001b[0m\u001b[1;33m\u001b[0m\u001b[0m\n\u001b[0m",
      "\u001b[1;32mC:\\Users\\DEBORA~1\\AppData\\Local\\Temp/ipykernel_8892/146161613.py\u001b[0m in \u001b[0;36mmain\u001b[1;34m()\u001b[0m\n\u001b[0;32m     28\u001b[0m     \u001b[0mparticles\u001b[0m \u001b[1;33m=\u001b[0m \u001b[1;33m[\u001b[0m\u001b[1;33m]\u001b[0m\u001b[1;33m\u001b[0m\u001b[1;33m\u001b[0m\u001b[0m\n\u001b[0;32m     29\u001b[0m     \u001b[1;32mfor\u001b[0m \u001b[0m_\u001b[0m \u001b[1;32min\u001b[0m \u001b[0mrange\u001b[0m\u001b[1;33m(\u001b[0m\u001b[0mnum_particles\u001b[0m\u001b[1;33m)\u001b[0m\u001b[1;33m:\u001b[0m\u001b[1;33m\u001b[0m\u001b[1;33m\u001b[0m\u001b[0m\n\u001b[1;32m---> 30\u001b[1;33m         pos = vector(random.uniform(-container_radius, container_radius),\n\u001b[0m\u001b[0;32m     31\u001b[0m                      \u001b[0mrandom\u001b[0m\u001b[1;33m.\u001b[0m\u001b[0muniform\u001b[0m\u001b[1;33m(\u001b[0m\u001b[1;33m-\u001b[0m\u001b[0mcontainer_radius\u001b[0m\u001b[1;33m,\u001b[0m \u001b[0mcontainer_radius\u001b[0m\u001b[1;33m)\u001b[0m\u001b[1;33m,\u001b[0m\u001b[1;33m\u001b[0m\u001b[1;33m\u001b[0m\u001b[0m\n\u001b[0;32m     32\u001b[0m                      random.uniform(-container_radius, container_radius))\n",
      "\u001b[1;31mNameError\u001b[0m: name 'vector' is not defined"
     ]
    }
   ],
   "source": [
    "class Particle:\n",
    "    def __init__(self, pos, radius, velocity):\n",
    "        self.sphere = sphere(pos=pos, radius=radius, color=vector(random.random(), random.random(), random.random()))\n",
    "        self.velocity = velocity\n",
    "\n",
    "    def update_position(self, dt):\n",
    "        self.sphere.pos += self.velocity * dt\n",
    "\n",
    "def detect_collision(p1, p2):\n",
    "    dist = np.linalg.norm(p1.sphere.pos - p2.sphere.pos)\n",
    "    return dist <= p1.sphere.radius + p2.sphere.radius\n",
    "\n",
    "def handle_collision(p1, p2):\n",
    "    # Calculate the new velocities after collision (assuming perfectly elastic collision)\n",
    "    v1, v2 = p1.velocity, p2.velocity\n",
    "    m1, m2 = p1.sphere.radius**3, p2.sphere.radius**3  # Assume equal densities for simplicity\n",
    "    v1_new = v1 - 2 * m2 / (m1 + m2) * np.dot(v1 - v2, p1.sphere.pos - p2.sphere.pos) / np.linalg.norm(p1.sphere.pos - p2.sphere.pos)**2 * (p1.sphere.pos - p2.sphere.pos)\n",
    "    v2_new = v2 - 2 * m1 / (m1 + m2) * np.dot(v2 - v1, p2.sphere.pos - p1.sphere.pos) / np.linalg.norm(p2.sphere.pos - p1.sphere.pos)**2 * (p2.sphere.pos - p1.sphere.pos)\n",
    "    p1.velocity, p2.velocity = v1_new, v2_new\n",
    "\n",
    "def main():\n",
    "    # Simulation parameters\n",
    "    num_particles = 50\n",
    "    container_radius = 10\n",
    "    particle_radius = 0.5\n",
    "    max_velocity = 2\n",
    "\n",
    "    particles = []\n",
    "    for _ in range(num_particles):\n",
    "        pos = vector(random.uniform(-container_radius, container_radius),\n",
    "                     random.uniform(-container_radius, container_radius),\n",
    "                     random.uniform(-container_radius, container_radius))\n",
    "        velocity = vector(random.uniform(-max_velocity, max_velocity),\n",
    "                          random.uniform(-max_velocity, max_velocity),\n",
    "                          random.uniform(-max_velocity, max_velocity))\n",
    "        particles.append(Particle(pos, particle_radius, velocity))\n",
    "\n",
    "    while True:\n",
    "        rate(60)  # Limit the frame rate to make the simulation visible\n",
    "\n",
    "        # Update particle positions\n",
    "        dt = 0.01  # Time step\n",
    "        for particle in particles:\n",
    "            particle.update_position(dt)\n",
    "\n",
    "            # Handle collisions with container walls\n",
    "            if abs(particle.sphere.pos.x) >= container_radius - particle.sphere.radius:\n",
    "                particle.velocity.x *= -1\n",
    "            if abs(particle.sphere.pos.y) >= container_radius - particle.sphere.radius:\n",
    "                particle.velocity.y *= -1\n",
    "            if abs(particle.sphere.pos.z) >= container_radius - particle.sphere.radius:\n",
    "                particle.velocity.z *= -1\n",
    "\n",
    "        # Handle collisions between particles\n",
    "        for i in range(num_particles):\n",
    "            for j in range(i + 1, num_particles):\n",
    "                if detect_collision(particles[i], particles[j]):\n",
    "                    handle_collision(particles[i], particles[j])\n",
    "\n",
    "if __name__ == \"__main__\":\n",
    "    main()"
   ]
  },
  {
   "cell_type": "code",
   "execution_count": null,
   "id": "bc2439ab-0125-43dc-bb15-92210ccd1f61",
   "metadata": {},
   "outputs": [],
   "source": []
  }
 ],
 "metadata": {
  "kernelspec": {
   "display_name": "ilumpy",
   "language": "python",
   "name": "ilumpy"
  },
  "language_info": {
   "codemirror_mode": {
    "name": "ipython",
    "version": 3
   },
   "file_extension": ".py",
   "mimetype": "text/x-python",
   "name": "python",
   "nbconvert_exporter": "python",
   "pygments_lexer": "ipython3",
   "version": "3.9.7"
  }
 },
 "nbformat": 4,
 "nbformat_minor": 5
}

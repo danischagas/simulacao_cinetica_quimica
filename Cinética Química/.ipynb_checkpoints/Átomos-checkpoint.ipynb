{
 "cells": [
  {
   "cell_type": "markdown",
   "id": "b605671b-af28-4b66-92e8-51d99af0d67d",
   "metadata": {},
   "source": [
    "# <center> Descrição do Movimento das Partículas </center>"
   ]
  },
  {
   "cell_type": "markdown",
   "id": "d9f7e16a-f975-4e88-8d13-7f73d4b5fc64",
   "metadata": {},
   "source": [
    "**Descrição:**\n",
    "- Considerando posição e velocidade, temperatura;\n",
    "- Obedecer princípios e leis que envolvam a colisão das partículas;\n",
    "- Conservação do momento e da energia;\n",
    "- Natureza estatítica e termodinâmica da partícula;"
   ]
  },
  {
   "cell_type": "markdown",
   "id": "ccd390db-7e9e-4427-97c8-e4f6717742fb",
   "metadata": {},
   "source": [
    "# Instalações e Importações"
   ]
  },
  {
   "cell_type": "code",
   "execution_count": 1,
   "id": "66a8eedb-cc7b-4e44-a763-c096c8d23fa8",
   "metadata": {},
   "outputs": [
    {
     "name": "stdout",
     "output_type": "stream",
     "text": [
      "Requirement already satisfied: pygame in c:\\venv\\ilumpy\\lib\\site-packages (2.5.0)\n",
      "Note: you may need to restart the kernel to use updated packages.\n"
     ]
    }
   ],
   "source": [
    "pip install pygame"
   ]
  },
  {
   "cell_type": "code",
   "execution_count": 2,
   "id": "e73822a4-6683-4953-b60d-dbf848e88e60",
   "metadata": {},
   "outputs": [
    {
     "name": "stdout",
     "output_type": "stream",
     "text": [
      "Requirement already satisfied: pip in c:\\venv\\ilumpy\\lib\\site-packages (23.2.1)\n",
      "Note: you may need to restart the kernel to use updated packages.\n"
     ]
    }
   ],
   "source": [
    "pip install --upgrade pip"
   ]
  },
  {
   "cell_type": "code",
   "execution_count": 3,
   "id": "0c3a1426-2f74-4cfe-8e05-80a173ad84f5",
   "metadata": {},
   "outputs": [
    {
     "name": "stdout",
     "output_type": "stream",
     "text": [
      "pygame 2.5.0 (SDL 2.28.0, Python 3.9.7)\n",
      "Hello from the pygame community. https://www.pygame.org/contribute.html\n"
     ]
    }
   ],
   "source": [
    "import random\n",
    "import numpy as np\n",
    "import pygame\n",
    "import matplotlib.pyplot as plt\n",
    "import math\n",
    "import sys"
   ]
  },
  {
   "cell_type": "markdown",
   "id": "1b45bf9e-028b-4a2b-9ec5-3ff21553de13",
   "metadata": {},
   "source": [
    "- pycharm pode se fazer necessária em algum momento, mas não temos certeza;"
   ]
  },
  {
   "cell_type": "markdown",
   "id": "cfb08ff4-5a99-4e5d-af0f-e24d8f3ab74d",
   "metadata": {},
   "source": [
    "<hr>"
   ]
  },
  {
   "cell_type": "markdown",
   "id": "44dc167c-d7eb-41ea-bed1-eafd98ded1ba",
   "metadata": {},
   "source": [
    "# Código"
   ]
  },
  {
   "cell_type": "markdown",
   "id": "5f7d60ab-a6fd-4907-9e0e-e24771da4d96",
   "metadata": {},
   "source": [
    "pygame.init()\n",
    "screen = pygame.display.set_mode((800, 600)) # width, height\n",
    "pygame.display.set_caption(\"Simulação de Átomos\")\n",
    "\n",
    "# janela está abrindo adequadamente"
   ]
  },
  {
   "cell_type": "code",
   "execution_count": 4,
   "id": "7077ee77-ce64-47ed-a1c6-c7fe0274ea35",
   "metadata": {},
   "outputs": [],
   "source": [
    "class Window:\n",
    "    def __init__(self, width, height, title):\n",
    "        self.width = 800\n",
    "        self.height = 600\n",
    "        self.title = \"Simulação de Átomos\"\n",
    "        self.screen = None\n",
    "\n",
    "    def init(self):\n",
    "        pygame.init()\n",
    "        self.screen = pygame.display.set_mode((self.width, self.height))\n",
    "        pygame.display.set_caption(self.title)\n",
    "\n",
    "    def quit(self):\n",
    "        pygame.quit()\n",
    "        \n",
    "        \n",
    "\n",
    "    def draw(self):\n",
    "        # Draw the molecule on the screen\n",
    "        pass"
   ]
  },
  {
   "cell_type": "code",
   "execution_count": 10,
   "id": "d9ca5fa0-ca8e-4926-979b-44ed84f8af94",
   "metadata": {},
   "outputs": [
    {
     "ename": "SystemExit",
     "evalue": "",
     "output_type": "error",
     "traceback": [
      "An exception has occurred, use %tb to see the full traceback.\n",
      "\u001b[1;31mSystemExit\u001b[0m\n"
     ]
    }
   ],
   "source": [
    "# Initialize Pygame\n",
    "pygame.init()\n",
    "\n",
    "# Simulation parameters\n",
    "rate_constant = 0.01\n",
    "particle_speed = 3.0\n",
    "\n",
    "# Pygame setup\n",
    "screen_width = 800\n",
    "screen_height = 600\n",
    "screen = pygame.display.set_mode((screen_width, screen_height))\n",
    "pygame.display.set_caption(\"Chemistry Kinetics Simulation\")\n",
    "\n",
    "# Colors\n",
    "white = (255, 255, 255)\n",
    "\n",
    "# Particle class\n",
    "class Particle:\n",
    "    def __init__(self, x, y, vx, vy, color):\n",
    "        self.x = x\n",
    "        self.y = y\n",
    "        self.radius = 10\n",
    "        self.vx = vx\n",
    "        self.vy = vy\n",
    "        self.color = color\n",
    "\n",
    "    def update(self):\n",
    "        self.x += self.vx\n",
    "        self.y += self.vy\n",
    "\n",
    "        # Bounce off the walls\n",
    "        if self.x < self.radius or self.x > screen_width - self.radius:\n",
    "            self.vx *= -1\n",
    "        if self.y < self.radius or self.y > screen_height - self.radius:\n",
    "            self.vy *= -1\n",
    "\n",
    "    def draw(self):\n",
    "        pygame.draw.circle(screen, self.color, (int(self.x), int(self.y)), self.radius)\n",
    "\n",
    "# Initialize particles with random velocities and colors\n",
    "particle_A = Particle(100, 300, particle_speed, -particle_speed, (255, 0, 0))  # Red particle\n",
    "particle_B = Particle(700, 300, -particle_speed, particle_speed, (0, 0, 255))  # Blue particle\n",
    "\n",
    "# Main loop\n",
    "clock = pygame.time.Clock()\n",
    "running = True\n",
    "\n",
    "while running:\n",
    "    for event in pygame.event.get():\n",
    "        if event.type == pygame.QUIT:\n",
    "            running = False\n",
    "\n",
    "    # Update particle positions\n",
    "    particle_A.update()\n",
    "    particle_B.update()\n",
    "\n",
    "    # Check for collision\n",
    "    distance = ((particle_A.x - particle_B.x) ** 2 + (particle_A.y - particle_B.y) ** 2) ** 0.5\n",
    "    if distance < particle_A.radius + particle_B.radius:\n",
    "        # Update particle velocities upon collision\n",
    "        particle_A.vx *= -1\n",
    "        particle_A.vy *= -1\n",
    "        particle_B.vx *= -1\n",
    "        particle_B.vy *= -1\n",
    "\n",
    "    # Clear the screen\n",
    "    screen.fill(white)\n",
    "\n",
    "    # Draw particles\n",
    "    particle_A.draw()\n",
    "    particle_B.draw()\n",
    "\n",
    "    # Update the display\n",
    "    pygame.display.flip()\n",
    "\n",
    "    # Limit the frame rate\n",
    "    clock.tick(60)\n",
    "\n",
    "pygame.quit()\n",
    "sys.exit()"
   ]
  },
  {
   "cell_type": "code",
   "execution_count": null,
   "id": "e6af2a20-8da2-43f1-b86a-f73c60bbc5d7",
   "metadata": {},
   "outputs": [],
   "source": []
  }
 ],
 "metadata": {
  "kernelspec": {
   "display_name": "ilumpy",
   "language": "python",
   "name": "ilumpy"
  },
  "language_info": {
   "codemirror_mode": {
    "name": "ipython",
    "version": 3
   },
   "file_extension": ".py",
   "mimetype": "text/x-python",
   "name": "python",
   "nbconvert_exporter": "python",
   "pygments_lexer": "ipython3",
   "version": "3.9.7"
  }
 },
 "nbformat": 4,
 "nbformat_minor": 5
}

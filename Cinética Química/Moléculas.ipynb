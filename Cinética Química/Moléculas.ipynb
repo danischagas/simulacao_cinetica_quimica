{
 "cells": [
  {
   "cell_type": "code",
   "execution_count": 10,
   "id": "f5b9dfbf-59d9-4e23-8114-fd6964fbba32",
   "metadata": {},
   "outputs": [],
   "source": [
    "import random\n",
    "import numpy as np\n",
    "import pygame\n",
    "import matplotlib.pyplot as plt\n",
    "import math\n",
    "import sys"
   ]
  },
  {
   "cell_type": "markdown",
   "id": "3af6da0d-6e1c-4e0d-b8b6-749af1e61f3b",
   "metadata": {},
   "source": [
    "- pycharm"
   ]
  },
  {
   "cell_type": "markdown",
   "id": "a5b6da1a-b63d-4d4e-bbfa-b3bed68b34ed",
   "metadata": {},
   "source": [
    "<hr>"
   ]
  },
  {
   "cell_type": "code",
   "execution_count": 8,
   "id": "c945ccd6-9022-4f07-8527-047943fe799e",
   "metadata": {},
   "outputs": [],
   "source": [
    "pygame.init()\n",
    "screen = pygame.display.set_mode((800, 600)) # width, height\n",
    "pygame.display.set_caption(\"Molecular Simulation\")"
   ]
  },
  {
   "cell_type": "code",
   "execution_count": null,
   "id": "9f163abe-275f-4ef1-8549-6ec1bef25a11",
   "metadata": {},
   "outputs": [],
   "source": [
    "class Window:\n",
    "    def __init__(self, width, height, title):\n",
    "        self.width = width\n",
    "        self.height = height\n",
    "        self.title = title\n",
    "        self.screen = None\n",
    "\n",
    "    def init(self):\n",
    "        pygame.init()\n",
    "        self.screen = pygame.display.set_mode((self.width, self.height))\n",
    "        pygame.display.set_caption(self.title)\n",
    "\n",
    "    def quit(self):\n",
    "        pygame.quit()\n",
    "        \n",
    "        \n",
    "class Molecule:\n",
    "    def __init__(self, x, y):\n",
    "        self.x = x\n",
    "        self.y = y\n",
    "        # Add more attributes as needed (velocity, color, etc.)\n",
    "\n",
    "    def update(self):\n",
    "        # Update molecule properties (e.g., position)\n",
    "        pass\n",
    "\n",
    "    def draw(self):\n",
    "        # Draw the molecule on the screen\n",
    "        pass"
   ]
  },
  {
   "cell_type": "code",
   "execution_count": null,
   "id": "f46048a9-594e-4eca-8a52-27d4821d5abf",
   "metadata": {},
   "outputs": [],
   "source": [
    "molecules = [Molecule(400, 300), Molecule(200, 100)]  # Create initial molecules\n",
    "\n",
    "while True:\n",
    "    for event in pygame.event.get():\n",
    "        if event.type == pygame.QUIT:\n",
    "            pygame.quit()\n",
    "            sys.exit()\n",
    "\n",
    "    for molecule in molecules:\n",
    "        molecule.update()\n",
    "\n",
    "    screen.fill((0, 0, 0))  # Clear the screen\n",
    "    for molecule in molecules:\n",
    "        molecule.draw()\n",
    "\n",
    "    pygame.display.flip()\n",
    "    clock.tick(60)  # Limit frame rate to 60 FPS"
   ]
  },
  {
   "cell_type": "code",
   "execution_count": null,
   "id": "122e3cc3-779f-4f9d-ae54-668599b8ece7",
   "metadata": {},
   "outputs": [],
   "source": [
    "# Set up display\n",
    "#width, height = 800, 600\n",
    "#screen = pygame.display.set_mode((width, height))\n",
    "#pygame.display.set_caption(\"Molecule Simulation\")\n",
    "\n",
    "clock = pygame.time.Clock()"
   ]
  },
  {
   "cell_type": "code",
   "execution_count": 5,
   "id": "86586ec9-77a9-49c4-a781-4a8ff38be3c0",
   "metadata": {},
   "outputs": [
    {
     "ename": "NameError",
     "evalue": "name 'vector' is not defined",
     "output_type": "error",
     "traceback": [
      "\u001b[1;31m---------------------------------------------------------------------------\u001b[0m",
      "\u001b[1;31mNameError\u001b[0m                                 Traceback (most recent call last)",
      "\u001b[1;32mC:\\Users\\DEBORA~1\\AppData\\Local\\Temp/ipykernel_8892/146161613.py\u001b[0m in \u001b[0;36m<module>\u001b[1;34m\u001b[0m\n\u001b[0;32m     59\u001b[0m \u001b[1;33m\u001b[0m\u001b[0m\n\u001b[0;32m     60\u001b[0m \u001b[1;32mif\u001b[0m \u001b[0m__name__\u001b[0m \u001b[1;33m==\u001b[0m \u001b[1;34m\"__main__\"\u001b[0m\u001b[1;33m:\u001b[0m\u001b[1;33m\u001b[0m\u001b[1;33m\u001b[0m\u001b[0m\n\u001b[1;32m---> 61\u001b[1;33m     \u001b[0mmain\u001b[0m\u001b[1;33m(\u001b[0m\u001b[1;33m)\u001b[0m\u001b[1;33m\u001b[0m\u001b[1;33m\u001b[0m\u001b[0m\n\u001b[0m",
      "\u001b[1;32mC:\\Users\\DEBORA~1\\AppData\\Local\\Temp/ipykernel_8892/146161613.py\u001b[0m in \u001b[0;36mmain\u001b[1;34m()\u001b[0m\n\u001b[0;32m     28\u001b[0m     \u001b[0mparticles\u001b[0m \u001b[1;33m=\u001b[0m \u001b[1;33m[\u001b[0m\u001b[1;33m]\u001b[0m\u001b[1;33m\u001b[0m\u001b[1;33m\u001b[0m\u001b[0m\n\u001b[0;32m     29\u001b[0m     \u001b[1;32mfor\u001b[0m \u001b[0m_\u001b[0m \u001b[1;32min\u001b[0m \u001b[0mrange\u001b[0m\u001b[1;33m(\u001b[0m\u001b[0mnum_particles\u001b[0m\u001b[1;33m)\u001b[0m\u001b[1;33m:\u001b[0m\u001b[1;33m\u001b[0m\u001b[1;33m\u001b[0m\u001b[0m\n\u001b[1;32m---> 30\u001b[1;33m         pos = vector(random.uniform(-container_radius, container_radius),\n\u001b[0m\u001b[0;32m     31\u001b[0m                      \u001b[0mrandom\u001b[0m\u001b[1;33m.\u001b[0m\u001b[0muniform\u001b[0m\u001b[1;33m(\u001b[0m\u001b[1;33m-\u001b[0m\u001b[0mcontainer_radius\u001b[0m\u001b[1;33m,\u001b[0m \u001b[0mcontainer_radius\u001b[0m\u001b[1;33m)\u001b[0m\u001b[1;33m,\u001b[0m\u001b[1;33m\u001b[0m\u001b[1;33m\u001b[0m\u001b[0m\n\u001b[0;32m     32\u001b[0m                      random.uniform(-container_radius, container_radius))\n",
      "\u001b[1;31mNameError\u001b[0m: name 'vector' is not defined"
     ]
    }
   ],
   "source": [
    "class Particle:\n",
    "    def __init__(self, pos, radius, velocity):\n",
    "        self.sphere = sphere(pos=pos, radius=radius, color=vector(random.random(), random.random(), random.random()))\n",
    "        self.velocity = velocity\n",
    "\n",
    "    def update_position(self, dt):\n",
    "        self.sphere.pos += self.velocity * dt\n",
    "\n",
    "def detect_collision(p1, p2):\n",
    "    dist = np.linalg.norm(p1.sphere.pos - p2.sphere.pos)\n",
    "    return dist <= p1.sphere.radius + p2.sphere.radius\n",
    "\n",
    "def handle_collision(p1, p2):\n",
    "    # Calculate the new velocities after collision (assuming perfectly elastic collision)\n",
    "    v1, v2 = p1.velocity, p2.velocity\n",
    "    m1, m2 = p1.sphere.radius**3, p2.sphere.radius**3  # Assume equal densities for simplicity\n",
    "    v1_new = v1 - 2 * m2 / (m1 + m2) * np.dot(v1 - v2, p1.sphere.pos - p2.sphere.pos) / np.linalg.norm(p1.sphere.pos - p2.sphere.pos)**2 * (p1.sphere.pos - p2.sphere.pos)\n",
    "    v2_new = v2 - 2 * m1 / (m1 + m2) * np.dot(v2 - v1, p2.sphere.pos - p1.sphere.pos) / np.linalg.norm(p2.sphere.pos - p1.sphere.pos)**2 * (p2.sphere.pos - p1.sphere.pos)\n",
    "    p1.velocity, p2.velocity = v1_new, v2_new\n",
    "\n",
    "def main():\n",
    "    # Simulation parameters\n",
    "    num_particles = 50\n",
    "    container_radius = 10\n",
    "    particle_radius = 0.5\n",
    "    max_velocity = 2\n",
    "\n",
    "    particles = []\n",
    "    for _ in range(num_particles):\n",
    "        pos = vector(random.uniform(-container_radius, container_radius),\n",
    "                     random.uniform(-container_radius, container_radius),\n",
    "                     random.uniform(-container_radius, container_radius))\n",
    "        velocity = vector(random.uniform(-max_velocity, max_velocity),\n",
    "                          random.uniform(-max_velocity, max_velocity),\n",
    "                          random.uniform(-max_velocity, max_velocity))\n",
    "        particles.append(Particle(pos, particle_radius, velocity))\n",
    "\n",
    "    while True:\n",
    "        rate(60)  # Limit the frame rate to make the simulation visible\n",
    "\n",
    "        # Update particle positions\n",
    "        dt = 0.01  # Time step\n",
    "        for particle in particles:\n",
    "            particle.update_position(dt)\n",
    "\n",
    "            # Handle collisions with container walls\n",
    "            if abs(particle.sphere.pos.x) >= container_radius - particle.sphere.radius:\n",
    "                particle.velocity.x *= -1\n",
    "            if abs(particle.sphere.pos.y) >= container_radius - particle.sphere.radius:\n",
    "                particle.velocity.y *= -1\n",
    "            if abs(particle.sphere.pos.z) >= container_radius - particle.sphere.radius:\n",
    "                particle.velocity.z *= -1\n",
    "\n",
    "        # Handle collisions between particles\n",
    "        for i in range(num_particles):\n",
    "            for j in range(i + 1, num_particles):\n",
    "                if detect_collision(particles[i], particles[j]):\n",
    "                    handle_collision(particles[i], particles[j])\n",
    "\n",
    "if __name__ == \"__main__\":\n",
    "    main()"
   ]
  }
 ],
 "metadata": {
  "kernelspec": {
   "display_name": "ilumpy",
   "language": "python",
   "name": "ilumpy"
  },
  "language_info": {
   "codemirror_mode": {
    "name": "ipython",
    "version": 3
   },
   "file_extension": ".py",
   "mimetype": "text/x-python",
   "name": "python",
   "nbconvert_exporter": "python",
   "pygments_lexer": "ipython3",
   "version": "3.9.7"
  }
 },
 "nbformat": 4,
 "nbformat_minor": 5
}

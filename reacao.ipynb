{
 "cells": [
  {
   "cell_type": "markdown",
   "id": "1417556c-d9eb-4a18-9265-85b982e21ee3",
   "metadata": {},
   "source": [
    "## Importações:"
   ]
  },
  {
   "cell_type": "code",
   "execution_count": 1,
   "id": "206185ca-ce53-4077-b2f2-5c5765311490",
   "metadata": {},
   "outputs": [],
   "source": [
    "import numpy as np\n",
    "import random as rd\n",
    "import matplotlib.pyplot as plt\n",
    "from matplotlib.patches import Circle\n",
    "import matplotlib.animation as animation\n",
    "from itertools import combinations\n",
    "from scipy.optimize import curve_fit\n",
    "#from scipy.interpolate import interp1d\n",
    "plt.style.use('seaborn-bright')\n",
    "import pandas as pd"
   ]
  },
  {
   "cell_type": "code",
   "execution_count": 2,
   "id": "8a52a156-064b-4db8-994e-18e4eb40b8ee",
   "metadata": {},
   "outputs": [],
   "source": [
    "from funcoes import Particula, mudar_passo, gerar_particulas, simular_reacao"
   ]
  },
  {
   "cell_type": "markdown",
   "id": "64e60c82-c036-4606-a3e7-ac56d0703669",
   "metadata": {},
   "source": [
    "## Parâmetros da simulação:"
   ]
  },
  {
   "cell_type": "code",
   "execution_count": 3,
   "id": "7c8aee18-0637-43d6-b7cc-22045f248725",
   "metadata": {},
   "outputs": [],
   "source": [
    "#Parâmetros da simulação:\n",
    "\n",
    "numero_particulas = 100\n",
    "tamanho_caixa = 50\n",
    "RAIO = 0.5\n",
    "MASSA = 1\n",
    "probabilidade_reacao = 0.7\n",
    "tipo = 'atomo'\n",
    "\n",
    "tempo_final = 50\n",
    "numero_passos = 400\n",
    "tempo_cada_passo = tempo_final/numero_passos\n",
    "\n",
    "#lista_particulas = gerar_particulas(numero_particulas, RAIO, MASSA, tamanho_caixa, tipo)"
   ]
  },
  {
   "cell_type": "markdown",
   "id": "d3d229af-0be0-4df6-8c10-15b328242eed",
   "metadata": {},
   "source": [
    "## Simulação da reação química:"
   ]
  },
  {
   "cell_type": "markdown",
   "id": "6a709a26-85df-4bba-a2d6-ca26f6101750",
   "metadata": {},
   "source": [
    "- Se ocorre uma reação ela é necessariamente \n",
    "- Tem conservação de massa?\n",
    "- Eu preciso que em algum lugar seja definido o tipo das partículas para eu conseguir fazer um if \n",
    "- talvez transformar nossa partícula em uma matriz igual do amauri e tirar o resto das classes\n",
    "- precisa atualizar a matriz de partículas \n",
    "- verificar se há colisão\n",
    "- Testar se é melhor fazer uma nova classe 'molécula' ou usar 'nova_particula = Particula(nova_massa, novo_raio, nova_posicao, nova_velocidade, tipo)\n",
    "- Checar se a conservação de volume está no livro\n",
    "- Tirar uma das partículas e gerar uma nova a partir da outra\n",
    "- Usar o itertools (tem uma função que não repete) para usar o particula1 com particula2\n",
    "- itertools.combinations"
   ]
  },
  {
   "cell_type": "code",
   "execution_count": 4,
   "id": "cfc9dffa-1253-466e-8c73-5f0357b3c940",
   "metadata": {},
   "outputs": [
    {
     "data": {
      "text/plain": [
       "<matplotlib.legend.Legend at 0x260a7ef0d00>"
      ]
     },
     "execution_count": 4,
     "metadata": {},
     "output_type": "execute_result"
    },
    {
     "data": {
      "image/png": "[encoded data removed]",
      "text/plain": [
       "<Figure size 432x288 with 1 Axes>"
      ]
     },
     "metadata": {
      "needs_background": "light"
     },
     "output_type": "display_data"
    }
   ],
   "source": [
    "lista_particulas = gerar_particulas(numero_particulas, RAIO, MASSA, tamanho_caixa, tipo)\n",
    "\n",
    "lista_atomos, lista_moleculas = [], []\n",
    "\n",
    "# Compute simulation (It takes some time if numero_passos and numero_particulas are large)\n",
    "for i in range(numero_passos):\n",
    "     # Simular colisões\n",
    "    simular_reacao(lista_particulas, probabilidade_reacao)\n",
    "\n",
    "    # Atualizar posições e velocidades\n",
    "    mudar_passo(lista_particulas, tempo_cada_passo, tamanho_caixa)\n",
    "    \n",
    "    a_count, m_count = 0, 0\n",
    "    \n",
    "    for particula in lista_particulas:\n",
    "        if particula.tipo == 'atomo':\n",
    "            a_count += 1\n",
    "        else:\n",
    "            m_count += 1\n",
    "    \n",
    "    lista_atomos.append(a_count)\n",
    "    lista_moleculas.append(m_count)\n",
    "\n",
    "plt.scatter(list(range(numero_passos)),lista_atomos,label='átomos')\n",
    "plt.scatter(list(range(numero_passos)),lista_moleculas,label='moléculas')\n",
    "plt.legend()"
   ]
  },
  {
   "cell_type": "markdown",
   "id": "8951f67c-942c-458a-b574-a11ee52007b4",
   "metadata": {},
   "source": [
    "## Gerar animação da reação:"
   ]
  },
  {
   "cell_type": "code",
   "execution_count": 5,
   "id": "608faf55-f36f-4fe0-8a6c-d1ce5e0351cf",
   "metadata": {},
   "outputs": [
    {
     "name": "stderr",
     "output_type": "stream",
     "text": [
      "C:\\Users\\DANIEL~1\\AppData\\Local\\Temp/ipykernel_20220/751259133.py:26: UserWarning: Setting the 'color' property will override the edgecolor or facecolor properties.\n",
      "  circle = plt.Circle((x, y), RAIO, fill=True, color='blue', edgecolor='black')\n"
     ]
    },
    {
     "data": {
      "image/png": "[encoded data removed]",
      "text/plain": [
       "<Figure size 720x720 with 1 Axes>"
      ]
     },
     "metadata": {},
     "output_type": "display_data"
    }
   ],
   "source": [
    "lista_atomos2, lista_moleculas2 = [], []\n",
    "\n",
    "def criar_animacao_simulacao_reacao(lista_particulas, tamanho_caixa, RAIO, NUM_STEPS, probabilidade_reacao):\n",
    "    fig, ax = plt.subplots(figsize=(10, 10))\n",
    "    ims = []\n",
    "\n",
    "    ax.set_xlim(0, tamanho_caixa)\n",
    "    ax.set_ylim(0, tamanho_caixa)\n",
    "    \n",
    "    ax.set_xticks([])\n",
    "    ax.set_yticks([])\n",
    "    ax.set_title('Simulação de Reação Química', fontsize=20)\n",
    "     \n",
    "    for k in range(NUM_STEPS):\n",
    "        # Chamando a função para simular reações\n",
    "        simular_reacao(lista_particulas, probabilidade_reacao)\n",
    "\n",
    "        # Desenha as partículas após a simulação de reação\n",
    "        circles = []\n",
    "        a_count, m_count = 0, 0\n",
    "        \n",
    "        for particula in lista_particulas:\n",
    "            if k < len(particula.todas_posicoes):\n",
    "                x = particula.todas_posicoes[k][0]\n",
    "                y = particula.todas_posicoes[k][1]\n",
    "                circle = plt.Circle((x, y), RAIO, fill=True, color='blue', edgecolor='black')\n",
    "                ax.add_artist(circle)\n",
    "                circles.append(circle)\n",
    "            \n",
    "            if particula.tipo == 'atomo':\n",
    "                a_count += 1\n",
    "            else:\n",
    "                m_count += 1\n",
    "        \n",
    "        lista_atomos2.append(a_count)\n",
    "        lista_moleculas2.append(m_count)\n",
    "        \n",
    "        ims.append(circles)\n",
    "\n",
    "    ani = animation.ArtistAnimation(fig, ims, interval=40, blit=True, repeat_delay=100)\n",
    "    writer = animation.PillowWriter(fps=10, bitrate=4000)\n",
    "    ani.save(\"resultados/simulacao_reacao.gif\", writer=writer, dpi=100)\n",
    "\n",
    "criar_animacao_simulacao_reacao(lista_particulas, tamanho_caixa, RAIO, numero_passos, probabilidade_reacao)"
   ]
  },
  {
   "cell_type": "markdown",
   "id": "46553d29-cfab-4bbd-8e7b-10b83c835a15",
   "metadata": {},
   "source": [
    "## Criando DataFrame para trabalhar com os dados:"
   ]
  },
  {
   "cell_type": "code",
   "execution_count": 6,
   "id": "263d7e7f-a90c-4b54-849d-059cdaff0cd8",
   "metadata": {},
   "outputs": [
    {
     "name": "stdout",
     "output_type": "stream",
     "text": [
      "400\n",
      "400\n",
      "400\n"
     ]
    }
   ],
   "source": [
    "lista = {'Atomos': lista_atomos, 'Moléculas': lista_moleculas, 'tempo': range(numero_passos)}\n",
    "\n",
    "print(len(lista_atomos))\n",
    "print(len(lista_moleculas))\n",
    "print(len(range(numero_passos)))\n",
    "\n",
    "\n",
    "df = pd.DataFrame(lista)\n",
    "\n",
    "atomodf = df['Atomos'] #df.iloc[0 : 70, 0]\n",
    "temporeagente = df['tempo'] #df.iloc[0:70, 2]\n",
    "\n",
    "produtodf = df.iloc[1 : 400, 1]\n",
    "tempoproduto = df.iloc[1 : 400, 2]\n",
    "\n"
   ]
  },
  {
   "cell_type": "code",
   "execution_count": 7,
   "id": "d79fd1b0-9f46-4a1b-a18b-84c39c4d21b5",
   "metadata": {},
   "outputs": [
    {
     "data": {
      "text/html": [
       "<div>\n",
       "<style scoped>\n",
       "    .dataframe tbody tr th:only-of-type {\n",
       "        vertical-align: middle;\n",
       "    }\n",
       "\n",
       "    .dataframe tbody tr th {\n",
       "        vertical-align: top;\n",
       "    }\n",
       "\n",
       "    .dataframe thead th {\n",
       "        text-align: right;\n",
       "    }\n",
       "</style>\n",
       "<table border=\"1\" class=\"dataframe\">\n",
       "  <thead>\n",
       "    <tr style=\"text-align: right;\">\n",
       "      <th></th>\n",
       "      <th>Atomos</th>\n",
       "      <th>Moléculas</th>\n",
       "      <th>tempo</th>\n",
       "    </tr>\n",
       "  </thead>\n",
       "  <tbody>\n",
       "    <tr>\n",
       "      <th>0</th>\n",
       "      <td>100</td>\n",
       "      <td>0</td>\n",
       "      <td>0</td>\n",
       "    </tr>\n",
       "    <tr>\n",
       "      <th>1</th>\n",
       "      <td>98</td>\n",
       "      <td>1</td>\n",
       "      <td>1</td>\n",
       "    </tr>\n",
       "    <tr>\n",
       "      <th>2</th>\n",
       "      <td>96</td>\n",
       "      <td>2</td>\n",
       "      <td>2</td>\n",
       "    </tr>\n",
       "    <tr>\n",
       "      <th>3</th>\n",
       "      <td>94</td>\n",
       "      <td>3</td>\n",
       "      <td>3</td>\n",
       "    </tr>\n",
       "    <tr>\n",
       "      <th>4</th>\n",
       "      <td>92</td>\n",
       "      <td>4</td>\n",
       "      <td>4</td>\n",
       "    </tr>\n",
       "    <tr>\n",
       "      <th>...</th>\n",
       "      <td>...</td>\n",
       "      <td>...</td>\n",
       "      <td>...</td>\n",
       "    </tr>\n",
       "    <tr>\n",
       "      <th>395</th>\n",
       "      <td>24</td>\n",
       "      <td>38</td>\n",
       "      <td>395</td>\n",
       "    </tr>\n",
       "    <tr>\n",
       "      <th>396</th>\n",
       "      <td>24</td>\n",
       "      <td>38</td>\n",
       "      <td>396</td>\n",
       "    </tr>\n",
       "    <tr>\n",
       "      <th>397</th>\n",
       "      <td>24</td>\n",
       "      <td>38</td>\n",
       "      <td>397</td>\n",
       "    </tr>\n",
       "    <tr>\n",
       "      <th>398</th>\n",
       "      <td>24</td>\n",
       "      <td>38</td>\n",
       "      <td>398</td>\n",
       "    </tr>\n",
       "    <tr>\n",
       "      <th>399</th>\n",
       "      <td>24</td>\n",
       "      <td>38</td>\n",
       "      <td>399</td>\n",
       "    </tr>\n",
       "  </tbody>\n",
       "</table>\n",
       "<p>400 rows × 3 columns</p>\n",
       "</div>"
      ],
      "text/plain": [
       "     Atomos  Moléculas  tempo\n",
       "0       100          0      0\n",
       "1        98          1      1\n",
       "2        96          2      2\n",
       "3        94          3      3\n",
       "4        92          4      4\n",
       "..      ...        ...    ...\n",
       "395      24         38    395\n",
       "396      24         38    396\n",
       "397      24         38    397\n",
       "398      24         38    398\n",
       "399      24         38    399\n",
       "\n",
       "[400 rows x 3 columns]"
      ]
     },
     "metadata": {},
     "output_type": "display_data"
    }
   ],
   "source": [
    "display(df)"
   ]
  },
  {
   "cell_type": "code",
   "execution_count": 8,
   "id": "49415d56-cd75-476f-a966-9f2d97dd18dd",
   "metadata": {},
   "outputs": [],
   "source": [
    "df.to_csv('dados.csv', index=False)"
   ]
  },
  {
   "cell_type": "markdown",
   "id": "e274569e-2d35-4ecf-a9b6-1bf44f5f40d7",
   "metadata": {},
   "source": [
    "## Fitagem com função exponencial:"
   ]
  },
  {
   "cell_type": "code",
   "execution_count": 9,
   "id": "0fd40d9a-89f4-48ff-9ca2-ba18b6036c12",
   "metadata": {
    "tags": []
   },
   "outputs": [
    {
     "name": "stdout",
     "output_type": "stream",
     "text": [
      "[7.37748501e+01 3.19525874e-02 2.54200943e+01]\n",
      "O valor de k é: 0.031952587389665055\n"
     ]
    },
    {
     "name": "stderr",
     "output_type": "stream",
     "text": [
      "c:\\venv\\ilumpy\\lib\\site-packages\\pandas\\core\\arraylike.py:364: RuntimeWarning: overflow encountered in exp\n",
      "  result = getattr(ufunc, method)(*inputs, **kwargs)\n"
     ]
    },
    {
     "data": {
      "image/png": "[encoded data removed]",
      "text/plain": [
       "<Figure size 432x288 with 1 Axes>"
      ]
     },
     "metadata": {
      "needs_background": "light"
     },
     "output_type": "display_data"
    }
   ],
   "source": [
    "def exponencial(t, a, k, c):\n",
    "    return a * np.exp(-k * t) + c\n",
    "\n",
    "popt, _ = curve_fit(exponencial, temporeagente, atomodf)\n",
    "print(popt)\n",
    "\n",
    "valores_fit_reagente = exponencial(temporeagente, *popt)\n",
    "\n",
    "k = popt[1]\n",
    "print(\"O valor de k é:\", k)\n",
    "\n",
    "plt.scatter(temporeagente, atomodf , label='Dados Originais')\n",
    "plt.plot(temporeagente, valores_fit_reagente, label='Ajuste Exponencial', color='red')\n",
    "\n",
    "\n",
    "plt.legend()\n",
    "plt.show()"
   ]
  },
  {
   "cell_type": "markdown",
   "id": "830602e4-54fa-4e1d-98cf-5f3544139e12",
   "metadata": {},
   "source": [
    "## Fitagem com função logarítmica:"
   ]
  },
  {
   "cell_type": "code",
   "execution_count": 10,
   "id": "a0f2048c-d7c8-4faf-b841-4e8769d9156d",
   "metadata": {},
   "outputs": [
    {
     "name": "stderr",
     "output_type": "stream",
     "text": [
      "c:\\venv\\ilumpy\\lib\\site-packages\\pandas\\core\\arraylike.py:364: RuntimeWarning: invalid value encountered in log\n",
      "  result = getattr(ufunc, method)(*inputs, **kwargs)\n"
     ]
    },
    {
     "name": "stdout",
     "output_type": "stream",
     "text": [
      "[ 6.39605414  3.64119937 -5.79454049]\n",
      "O valor de k é: 3.641199366910122\n"
     ]
    },
    {
     "data": {
      "image/png": "[encoded data removed]",
      "text/plain": [
       "<Figure size 432x288 with 1 Axes>"
      ]
     },
     "metadata": {
      "needs_background": "light"
     },
     "output_type": "display_data"
    }
   ],
   "source": [
    "def logaritimica(x, a, b, c):\n",
    "    return a * np.log(b * x) + c\n",
    "\n",
    "popt, _ = curve_fit(logaritimica, tempoproduto, produtodf)\n",
    "print(popt)\n",
    "valores_fit_produto = logaritimica(tempoproduto, *popt)\n",
    "\n",
    "b = popt[1]\n",
    "print(\"O valor de k é:\", b)\n",
    "\n",
    "plt.scatter(tempoproduto, produtodf , label='Dados Originais', color='green')\n",
    "plt.plot(tempoproduto, valores_fit_produto, label='Ajuste Exponencial', color='purple')\n",
    "plt.legend()\n",
    "plt.show()"
   ]
  },
  {
   "cell_type": "code",
   "execution_count": 11,
   "id": "da74da8b-1baa-4f8a-9d9e-db7a565b279d",
   "metadata": {},
   "outputs": [
    {
     "data": {
      "image/png": "[encoded data removed]",
      "text/plain": [
       "<Figure size 432x288 with 1 Axes>"
      ]
     },
     "metadata": {
      "needs_background": "light"
     },
     "output_type": "display_data"
    }
   ],
   "source": [
    "plt.scatter(temporeagente, atomodf , label='Dados Originais')\n",
    "plt.plot(temporeagente, valores_fit_reagente, label='Ajuste Exponencial', color='red')\n",
    "plt.scatter(tempoproduto, produtodf , label='Dados Originais', color='green')\n",
    "plt.plot(tempoproduto, valores_fit_produto, label='Ajuste Exponencial', color='purple')\n",
    "plt.legend()\n",
    "plt.show()"
   ]
  },
  {
   "cell_type": "markdown",
   "id": "19b3554f-74e3-4d9a-a75c-ab3f08d4549e",
   "metadata": {},
   "source": [
    "## Análise do Método da Velocidade Inicial:"
   ]
  },
  {
   "cell_type": "code",
   "execution_count": 12,
   "id": "c7f9f033-fc0b-4804-8dfb-a1dc9a550667",
   "metadata": {},
   "outputs": [],
   "source": [
    "# Vlor de K pela quantidade de partículas iniciais\n",
    "# Initial rate method"
   ]
  },
  {
   "cell_type": "code",
   "execution_count": null,
   "id": "dee7feaf-1d56-49cf-af0d-ba38d1a2ecc5",
   "metadata": {},
   "outputs": [
    {
     "name": "stdout",
     "output_type": "stream",
     "text": [
      "[20, 20, 20, 20, 20, 20, 20, 20, 20, 20, 20, 20, 20, 20, 20, 20, 20, 20, 20, 20, 20, 20, 20, 20, 20, 20, 20, 20, 20, 20, 20, 20, 20, 20, 20, 20, 20, 20, 20, 20, 20, 20, 20, 20, 20, 18, 18, 18, 18, 18, 18, 18, 18, 18, 18, 18, 18, 18, 18, 18, 18, 18, 18, 18, 18, 18, 18, 18, 18, 16, 16, 16, 16, 16, 16, 16, 16, 16, 16, 16, 16, 16, 16, 16, 16, 16, 16, 16, 16, 16, 16, 14, 14, 14, 14, 14, 14, 14, 14, 14, 14, 14, 14, 14, 14, 14, 14, 14, 14, 14, 14, 14, 14, 14, 14, 14, 14, 14, 14, 14, 14, 14, 14, 14, 14, 14, 14, 14, 14, 14, 14, 14, 14, 14, 14, 14, 14, 14, 14, 14, 14, 14, 14, 14, 14, 14, 14, 14, 14, 14, 14, 14, 12, 12, 12, 12, 12, 12, 12, 12, 12, 12, 12, 12, 12, 12, 12, 12, 12, 12, 12, 12, 12, 12, 12, 12, 12, 12, 12, 12, 12, 12, 12, 12, 12, 12, 12, 12, 12, 12, 12, 12, 12, 12, 12, 12, 12, 12, 12, 12, 12, 12, 12, 12, 12, 12, 12, 12, 12, 12, 12, 12, 12, 12, 12, 12, 12, 12, 12, 12, 12, 12, 12, 12, 12, 12, 12, 12, 12, 12, 12, 12, 12, 12, 12, 12, 12, 12, 12, 12, 12, 12, 12, 12, 12, 12, 12, 12, 12, 12, 12, 12, 12, 12, 12, 12, 12, 12, 12, 12, 12, 12, 12, 12, 12, 12, 12, 12, 12, 12, 12, 12, 12, 12, 12, 12, 12, 12, 12, 12, 12, 12, 12, 12, 12, 12, 12, 12, 12, 12, 12, 12, 12, 12, 12, 12, 12, 12, 12, 12, 12, 12, 12, 12, 12, 12, 12, 12, 12, 12, 12, 12, 12, 12, 12, 12, 12, 12, 12, 12, 12, 12, 12, 12, 12, 12, 12, 12, 12, 12, 12, 12, 12, 12, 12, 12, 12, 12, 12, 12, 12, 12, 12, 12, 12, 12, 12, 12, 12, 12, 12, 12, 12, 12, 12, 12, 12, 12, 12, 12, 12, 12, 12, 12, 12, 12, 12, 12, 12, 12, 12, 12, 12, 12, 12, 12, 12, 12, 12, 12, 12, 12, 12, 12, 12, 12, 12, 12, 12, 12, 12, 12, 12, 12, 12, 12, 12, 12, 12, 12]\n",
      "[60, 58, 58, 56, 56, 54, 52, 52, 52, 50, 50, 50, 50, 50, 50, 48, 48, 48, 46, 44, 42, 42, 40, 40, 40, 40, 40, 38, 36, 34, 32, 32, 32, 32, 32, 30, 30, 30, 28, 28, 28, 28, 28, 28, 28, 26, 26, 26, 24, 24, 24, 24, 24, 24, 24, 22, 20, 20, 20, 20, 20, 20, 20, 20, 20, 20, 20, 20, 20, 20, 20, 20, 20, 20, 20, 20, 20, 20, 20, 20, 20, 20, 20, 20, 20, 20, 20, 20, 20, 20, 20, 20, 20, 20, 20, 20, 20, 20, 20, 20, 20, 20, 20, 20, 20, 20, 20, 20, 20, 18, 18, 18, 18, 18, 18, 18, 18, 18, 18, 18, 18, 18, 18, 18, 18, 18, 18, 18, 18, 18, 18, 18, 16, 16, 16, 16, 16, 16, 16, 16, 16, 16, 16, 16, 16, 16, 16, 16, 16, 16, 16, 16, 16, 16, 16, 16, 16, 16, 16, 16, 16, 16, 16, 16, 16, 16, 16, 16, 16, 16, 16, 16, 16, 16, 16, 16, 16, 16, 16, 16, 16, 16, 16, 16, 16, 16, 16, 16, 16, 16, 16, 16, 16, 16, 16, 16, 16, 16, 16, 16, 16, 16, 16, 16, 16, 16, 16, 16, 16, 16, 16, 16, 16, 16, 16, 16, 16, 16, 16, 16, 16, 16, 16, 16, 16, 16, 16, 16, 16, 16, 16, 16, 16, 16, 16, 16, 16, 16, 16, 16, 16, 16, 16, 16, 16, 16, 16, 16, 16, 16, 16, 16, 14, 14, 14, 14, 14, 14, 14, 14, 14, 14, 14, 14, 14, 14, 14, 14, 14, 14, 14, 14, 14, 14, 14, 14, 14, 14, 14, 14, 14, 14, 14, 14, 14, 14, 14, 14, 14, 14, 14, 12, 12, 12, 12, 12, 12, 12, 12, 12, 12, 12, 12, 12, 12, 12, 12, 12, 12, 12, 12, 12, 12, 12, 12, 12, 12, 12, 12, 12, 12, 12, 12, 12, 12, 12, 12, 12, 12, 12, 12, 12, 12, 12, 12, 12, 12, 12, 12, 12, 12, 12, 12, 12, 12, 12, 12, 12, 12, 12, 12, 12, 12, 12, 12, 12, 12, 12, 12, 12, 12, 12, 12, 12, 12, 12, 12, 12, 12, 12, 12, 12, 12, 12, 12, 12, 12, 12, 12, 12, 12, 12, 12, 12, 12, 12, 12, 12, 12, 12, 12, 12, 12, 12, 12, 12, 12, 12, 12, 12]\n"
     ]
    }
   ],
   "source": [
    "numero_particulas = [20, 60, 100] #, 140, 180, 200]\n",
    "\n",
    "parametros_ajustados = []\n",
    "valores_ajustados = []\n",
    "valores_iniciais = []\n",
    "\n",
    "for num_particulas in numero_particulas:\n",
    "    lista_particulas = gerar_particulas(num_particulas, RAIO, MASSA, tamanho_caixa, tipo)\n",
    "    lista_atomos =  []\n",
    "\n",
    "    # Compute simulation\n",
    "    for i in range(numero_passos):\n",
    "        # Simular colisões\n",
    "        simular_reacao(lista_particulas, probabilidade_reacao)\n",
    "\n",
    "        # Atualizar posições e velocidades\n",
    "        mudar_passo(lista_particulas, tempo_cada_passo, tamanho_caixa)\n",
    "\n",
    "        a_count, m_count = 0, 0\n",
    "\n",
    "        for particula in lista_particulas:\n",
    "            if particula.tipo == 'atomo':\n",
    "                a_count += 1\n",
    "\n",
    "        lista_atomos.append(a_count)\n",
    "       \n",
    "    temporeagente = range(numero_passos)  # Certifique-se de ter o tempo correto aqui\n",
    "    atomodf = lista_atomos  # Certifique-se de ter os dados corretos aqui\n",
    "    valores_iniciais.append(atomodf)\n",
    "    \n",
    "    print(atomodf)\n",
    "\n",
    "    popt, _ = curve_fit(exponencial, temporeagente, atomodf)\n",
    "    parametros_ajustados.append(popt)\n",
    "    valores_fit_reagente = exponencial(temporeagente, *popt)\n",
    "    valores_ajustados.append(valores_fit_reagente)\n",
    "\n",
    "# Agora, você pode usar os resultados para fazer o que deseja\n",
    "# Por exemplo, você pode imprimir os parâmetros ajustados\n",
    "for i, popt in enumerate(parametros_ajustados):\n",
    "    print(f\"Para N = {numero_particulas[i]}, os parâmetros ajustados são: k={popt[1]}\")\n",
    "\n",
    "# Ou plotar os resultados\n",
    "plt.figure(figsize=(10, 5))\n",
    "for i, num_particulas in enumerate(numero_particulas):\n",
    "    plt.plot(temporeagente, valores_ajustados[i], label=f'N = {num_particulas}')\n",
    "    \n",
    "for dados in valores_iniciais:\n",
    "    plt.scatter(temporeagente, dados, s=10)\n",
    "\n",
    "plt.legend()\n",
    "plt.show()\n",
    "\n",
    "\n",
    "#plt.scatter(range(numero_passos), lista_atomos, label= f'N = {num_particulas}')\n",
    "#plt.legend()\n",
    "#plt.show()  # Adicionei um comando para mostrar o gráfico a cada iteração (remova se desejar plotar todas juntas)\n"
   ]
  },
  {
   "cell_type": "markdown",
   "id": "c47bd2e0-a3af-4c36-9824-6607cbd97b2f",
   "metadata": {},
   "source": [
    "## COLOCAR TÍTULOS E NOMES DE EIXOS NOS GRÁFICOS"
   ]
  },
  {
   "cell_type": "markdown",
   "id": "ef0a089f-7bfa-48d7-b4df-e781a43b39e5",
   "metadata": {},
   "source": [
    "----"
   ]
  },
  {
   "cell_type": "markdown",
   "id": "d86ae99c-b226-47f2-979b-e023a9ca72cc",
   "metadata": {
    "tags": []
   },
   "source": [
    "---"
   ]
  },
  {
   "cell_type": "markdown",
   "id": "54cd31e7-041b-4fec-ab17-25d9baf399f6",
   "metadata": {},
   "source": [
    "---"
   ]
  },
  {
   "cell_type": "markdown",
   "id": "e1526869-aa25-4e9e-be24-2af9288bd776",
   "metadata": {},
   "source": [
    "---"
   ]
  },
  {
   "cell_type": "code",
   "execution_count": 14,
   "id": "f1d8c732-073f-467e-a9cd-cce2f93b3c09",
   "metadata": {},
   "outputs": [
    {
     "data": {
      "image/png": "[encoded data removed]",
      "text/plain": [
       "<Figure size 720x432 with 1 Axes>"
      ]
     },
     "metadata": {
      "needs_background": "light"
     },
     "output_type": "display_data"
    }
   ],
   "source": [
    "# Calcular a diferença no tempo (assumindo que o intervalo de tempo é constante)\n",
    "delta_t_novo = df['tempo'][1] - df['tempo'][0]\n",
    "\n",
    "# Calcular a derivada da concentração ajustada\n",
    "velocidade_reacao_ajustada = np.gradient(valores_fit_produto, delta_t_novo)\n",
    "\n",
    "# taxa de variação da concentração de átomos ajustada em função do tempo\n",
    "# A velocidade de reação ajustada é d[atomos]/dtempo\n",
    "\n",
    "# plotando a velocidade de reação ajustada\n",
    "import matplotlib.pyplot as plt\n",
    "\n",
    "plt.figure(figsize=(10, 6))\n",
    "plt.plot(df['tempo'][:-1], velocidade_reacao_ajustada, '-', label='Velocidade de Reação Ajustada')\n",
    "plt.legend()\n",
    "plt.title('Velocidade de Reação Ajustada')\n",
    "plt.xlabel('Tempo')\n",
    "plt.ylabel('Velocidade de Reação')\n",
    "plt.show()"
   ]
  },
  {
   "cell_type": "code",
   "execution_count": null,
   "id": "d2b16c1a-f981-4af6-bd6d-ea7fadf3dab1",
   "metadata": {},
   "outputs": [],
   "source": []
  },
  {
   "cell_type": "code",
   "execution_count": 15,
   "id": "8da50784-1e11-403d-8f52-ca970cad5207",
   "metadata": {},
   "outputs": [
    {
     "ename": "ValueError",
     "evalue": "The model function generated NaN values and the fit aborted! Please check your model function and/or set boundaries on parameters where applicable. In cases like this, using \"nan_policy='omit'\" will probably not work.",
     "output_type": "error",
     "traceback": [
      "\u001b[1;31m---------------------------------------------------------------------------\u001b[0m",
      "\u001b[1;31mValueError\u001b[0m                                Traceback (most recent call last)",
      "\u001b[1;32mC:\\Users\\DANIEL~1\\AppData\\Local\\Temp/ipykernel_20220/1915612684.py\u001b[0m in \u001b[0;36m<module>\u001b[1;34m\u001b[0m\n\u001b[0;32m     18\u001b[0m \u001b[1;33m\u001b[0m\u001b[0m\n\u001b[0;32m     19\u001b[0m \u001b[1;31m# 5. Realize o Ajuste\u001b[0m\u001b[1;33m\u001b[0m\u001b[1;33m\u001b[0m\u001b[0m\n\u001b[1;32m---> 20\u001b[1;33m \u001b[0mresultados\u001b[0m \u001b[1;33m=\u001b[0m \u001b[0mmodelo\u001b[0m\u001b[1;33m.\u001b[0m\u001b[0mfit\u001b[0m\u001b[1;33m(\u001b[0m\u001b[0matomodf\u001b[0m\u001b[1;33m,\u001b[0m \u001b[0mt\u001b[0m\u001b[1;33m=\u001b[0m\u001b[0mdf\u001b[0m\u001b[1;33m[\u001b[0m\u001b[1;34m'tempo'\u001b[0m\u001b[1;33m]\u001b[0m\u001b[1;33m,\u001b[0m \u001b[0mparams\u001b[0m\u001b[1;33m=\u001b[0m\u001b[0mparams\u001b[0m\u001b[1;33m)\u001b[0m\u001b[1;33m\u001b[0m\u001b[1;33m\u001b[0m\u001b[0m\n\u001b[0m\u001b[0;32m     21\u001b[0m \u001b[1;33m\u001b[0m\u001b[0m\n\u001b[0;32m     22\u001b[0m \u001b[1;31m# 6. Obtenha os Resultados do Ajuste\u001b[0m\u001b[1;33m\u001b[0m\u001b[1;33m\u001b[0m\u001b[0m\n",
      "\u001b[1;32mc:\\venv\\ilumpy\\lib\\site-packages\\lmfit\\model.py\u001b[0m in \u001b[0;36mfit\u001b[1;34m(self, data, params, weights, method, iter_cb, scale_covar, verbose, fit_kws, nan_policy, calc_covar, max_nfev, **kwargs)\u001b[0m\n\u001b[0;32m   1021\u001b[0m                              \u001b[0mnan_policy\u001b[0m\u001b[1;33m=\u001b[0m\u001b[0mself\u001b[0m\u001b[1;33m.\u001b[0m\u001b[0mnan_policy\u001b[0m\u001b[1;33m,\u001b[0m \u001b[0mcalc_covar\u001b[0m\u001b[1;33m=\u001b[0m\u001b[0mcalc_covar\u001b[0m\u001b[1;33m,\u001b[0m\u001b[1;33m\u001b[0m\u001b[1;33m\u001b[0m\u001b[0m\n\u001b[0;32m   1022\u001b[0m                              max_nfev=max_nfev, **fit_kws)\n\u001b[1;32m-> 1023\u001b[1;33m         \u001b[0moutput\u001b[0m\u001b[1;33m.\u001b[0m\u001b[0mfit\u001b[0m\u001b[1;33m(\u001b[0m\u001b[0mdata\u001b[0m\u001b[1;33m=\u001b[0m\u001b[0mdata\u001b[0m\u001b[1;33m,\u001b[0m \u001b[0mweights\u001b[0m\u001b[1;33m=\u001b[0m\u001b[0mweights\u001b[0m\u001b[1;33m)\u001b[0m\u001b[1;33m\u001b[0m\u001b[1;33m\u001b[0m\u001b[0m\n\u001b[0m\u001b[0;32m   1024\u001b[0m         \u001b[0moutput\u001b[0m\u001b[1;33m.\u001b[0m\u001b[0mcomponents\u001b[0m \u001b[1;33m=\u001b[0m \u001b[0mself\u001b[0m\u001b[1;33m.\u001b[0m\u001b[0mcomponents\u001b[0m\u001b[1;33m\u001b[0m\u001b[1;33m\u001b[0m\u001b[0m\n\u001b[0;32m   1025\u001b[0m         \u001b[1;32mreturn\u001b[0m \u001b[0moutput\u001b[0m\u001b[1;33m\u001b[0m\u001b[1;33m\u001b[0m\u001b[0m\n",
      "\u001b[1;32mc:\\venv\\ilumpy\\lib\\site-packages\\lmfit\\model.py\u001b[0m in \u001b[0;36mfit\u001b[1;34m(self, data, params, weights, method, nan_policy, **kwargs)\u001b[0m\n\u001b[0;32m   1379\u001b[0m         \u001b[0mself\u001b[0m\u001b[1;33m.\u001b[0m\u001b[0muserkws\u001b[0m\u001b[1;33m.\u001b[0m\u001b[0mupdate\u001b[0m\u001b[1;33m(\u001b[0m\u001b[0mkwargs\u001b[0m\u001b[1;33m)\u001b[0m\u001b[1;33m\u001b[0m\u001b[1;33m\u001b[0m\u001b[0m\n\u001b[0;32m   1380\u001b[0m         \u001b[0mself\u001b[0m\u001b[1;33m.\u001b[0m\u001b[0minit_fit\u001b[0m \u001b[1;33m=\u001b[0m \u001b[0mself\u001b[0m\u001b[1;33m.\u001b[0m\u001b[0mmodel\u001b[0m\u001b[1;33m.\u001b[0m\u001b[0meval\u001b[0m\u001b[1;33m(\u001b[0m\u001b[0mparams\u001b[0m\u001b[1;33m=\u001b[0m\u001b[0mself\u001b[0m\u001b[1;33m.\u001b[0m\u001b[0mparams\u001b[0m\u001b[1;33m,\u001b[0m \u001b[1;33m**\u001b[0m\u001b[0mself\u001b[0m\u001b[1;33m.\u001b[0m\u001b[0muserkws\u001b[0m\u001b[1;33m)\u001b[0m\u001b[1;33m\u001b[0m\u001b[1;33m\u001b[0m\u001b[0m\n\u001b[1;32m-> 1381\u001b[1;33m         \u001b[0m_ret\u001b[0m \u001b[1;33m=\u001b[0m \u001b[0mself\u001b[0m\u001b[1;33m.\u001b[0m\u001b[0mminimize\u001b[0m\u001b[1;33m(\u001b[0m\u001b[0mmethod\u001b[0m\u001b[1;33m=\u001b[0m\u001b[0mself\u001b[0m\u001b[1;33m.\u001b[0m\u001b[0mmethod\u001b[0m\u001b[1;33m)\u001b[0m\u001b[1;33m\u001b[0m\u001b[1;33m\u001b[0m\u001b[0m\n\u001b[0m\u001b[0;32m   1382\u001b[0m \u001b[1;33m\u001b[0m\u001b[0m\n\u001b[0;32m   1383\u001b[0m         \u001b[1;32mfor\u001b[0m \u001b[0mattr\u001b[0m \u001b[1;32min\u001b[0m \u001b[0mdir\u001b[0m\u001b[1;33m(\u001b[0m\u001b[0m_ret\u001b[0m\u001b[1;33m)\u001b[0m\u001b[1;33m:\u001b[0m\u001b[1;33m\u001b[0m\u001b[1;33m\u001b[0m\u001b[0m\n",
      "\u001b[1;32mc:\\venv\\ilumpy\\lib\\site-packages\\lmfit\\minimizer.py\u001b[0m in \u001b[0;36mminimize\u001b[1;34m(self, method, params, **kws)\u001b[0m\n\u001b[0;32m   2361\u001b[0m                         val.lower().startswith(user_method)):\n\u001b[0;32m   2362\u001b[0m                     \u001b[0mkwargs\u001b[0m\u001b[1;33m[\u001b[0m\u001b[1;34m'method'\u001b[0m\u001b[1;33m]\u001b[0m \u001b[1;33m=\u001b[0m \u001b[0mval\u001b[0m\u001b[1;33m\u001b[0m\u001b[1;33m\u001b[0m\u001b[0m\n\u001b[1;32m-> 2363\u001b[1;33m         \u001b[1;32mreturn\u001b[0m \u001b[0mfunction\u001b[0m\u001b[1;33m(\u001b[0m\u001b[1;33m**\u001b[0m\u001b[0mkwargs\u001b[0m\u001b[1;33m)\u001b[0m\u001b[1;33m\u001b[0m\u001b[1;33m\u001b[0m\u001b[0m\n\u001b[0m\u001b[0;32m   2364\u001b[0m \u001b[1;33m\u001b[0m\u001b[0m\n\u001b[0;32m   2365\u001b[0m \u001b[1;33m\u001b[0m\u001b[0m\n",
      "\u001b[1;32mc:\\venv\\ilumpy\\lib\\site-packages\\lmfit\\minimizer.py\u001b[0m in \u001b[0;36mleastsq\u001b[1;34m(self, params, max_nfev, **kws)\u001b[0m\n\u001b[0;32m   1698\u001b[0m         \u001b[0mresult\u001b[0m\u001b[1;33m.\u001b[0m\u001b[0mcall_kws\u001b[0m \u001b[1;33m=\u001b[0m \u001b[0mlskws\u001b[0m\u001b[1;33m\u001b[0m\u001b[1;33m\u001b[0m\u001b[0m\n\u001b[0;32m   1699\u001b[0m         \u001b[1;32mtry\u001b[0m\u001b[1;33m:\u001b[0m\u001b[1;33m\u001b[0m\u001b[1;33m\u001b[0m\u001b[0m\n\u001b[1;32m-> 1700\u001b[1;33m             \u001b[0mlsout\u001b[0m \u001b[1;33m=\u001b[0m \u001b[0mscipy_leastsq\u001b[0m\u001b[1;33m(\u001b[0m\u001b[0mself\u001b[0m\u001b[1;33m.\u001b[0m\u001b[0m__residual\u001b[0m\u001b[1;33m,\u001b[0m \u001b[0mvariables\u001b[0m\u001b[1;33m,\u001b[0m \u001b[1;33m**\u001b[0m\u001b[0mlskws\u001b[0m\u001b[1;33m)\u001b[0m\u001b[1;33m\u001b[0m\u001b[1;33m\u001b[0m\u001b[0m\n\u001b[0m\u001b[0;32m   1701\u001b[0m         \u001b[1;32mexcept\u001b[0m \u001b[0mAbortFitException\u001b[0m\u001b[1;33m:\u001b[0m\u001b[1;33m\u001b[0m\u001b[1;33m\u001b[0m\u001b[0m\n\u001b[0;32m   1702\u001b[0m             \u001b[1;32mpass\u001b[0m\u001b[1;33m\u001b[0m\u001b[1;33m\u001b[0m\u001b[0m\n",
      "\u001b[1;32mc:\\venv\\ilumpy\\lib\\site-packages\\scipy\\optimize\\minpack.py\u001b[0m in \u001b[0;36mleastsq\u001b[1;34m(func, x0, args, Dfun, full_output, col_deriv, ftol, xtol, gtol, maxfev, epsfcn, factor, diag)\u001b[0m\n\u001b[0;32m    421\u001b[0m         \u001b[1;32mif\u001b[0m \u001b[0mmaxfev\u001b[0m \u001b[1;33m==\u001b[0m \u001b[1;36m0\u001b[0m\u001b[1;33m:\u001b[0m\u001b[1;33m\u001b[0m\u001b[1;33m\u001b[0m\u001b[0m\n\u001b[0;32m    422\u001b[0m             \u001b[0mmaxfev\u001b[0m \u001b[1;33m=\u001b[0m \u001b[1;36m200\u001b[0m\u001b[1;33m*\u001b[0m\u001b[1;33m(\u001b[0m\u001b[0mn\u001b[0m \u001b[1;33m+\u001b[0m \u001b[1;36m1\u001b[0m\u001b[1;33m)\u001b[0m\u001b[1;33m\u001b[0m\u001b[1;33m\u001b[0m\u001b[0m\n\u001b[1;32m--> 423\u001b[1;33m         retval = _minpack._lmdif(func, x0, args, full_output, ftol, xtol,\n\u001b[0m\u001b[0;32m    424\u001b[0m                                  gtol, maxfev, epsfcn, factor, diag)\n\u001b[0;32m    425\u001b[0m     \u001b[1;32melse\u001b[0m\u001b[1;33m:\u001b[0m\u001b[1;33m\u001b[0m\u001b[1;33m\u001b[0m\u001b[0m\n",
      "\u001b[1;32mc:\\venv\\ilumpy\\lib\\site-packages\\lmfit\\minimizer.py\u001b[0m in \u001b[0;36m__residual\u001b[1;34m(self, fvars, apply_bounds_transformation)\u001b[0m\n\u001b[0;32m    588\u001b[0m             \u001b[1;32mraise\u001b[0m \u001b[0mAbortFitException\u001b[0m\u001b[1;33m(\u001b[0m\u001b[1;34m\"fit aborted: too many function evaluations (%d).\"\u001b[0m \u001b[1;33m%\u001b[0m \u001b[0mself\u001b[0m\u001b[1;33m.\u001b[0m\u001b[0mmax_nfev\u001b[0m\u001b[1;33m)\u001b[0m\u001b[1;33m\u001b[0m\u001b[1;33m\u001b[0m\u001b[0m\n\u001b[0;32m    589\u001b[0m \u001b[1;33m\u001b[0m\u001b[0m\n\u001b[1;32m--> 590\u001b[1;33m         \u001b[0mout\u001b[0m \u001b[1;33m=\u001b[0m \u001b[0mself\u001b[0m\u001b[1;33m.\u001b[0m\u001b[0muserfcn\u001b[0m\u001b[1;33m(\u001b[0m\u001b[0mparams\u001b[0m\u001b[1;33m,\u001b[0m \u001b[1;33m*\u001b[0m\u001b[0mself\u001b[0m\u001b[1;33m.\u001b[0m\u001b[0muserargs\u001b[0m\u001b[1;33m,\u001b[0m \u001b[1;33m**\u001b[0m\u001b[0mself\u001b[0m\u001b[1;33m.\u001b[0m\u001b[0muserkws\u001b[0m\u001b[1;33m)\u001b[0m\u001b[1;33m\u001b[0m\u001b[1;33m\u001b[0m\u001b[0m\n\u001b[0m\u001b[0;32m    591\u001b[0m \u001b[1;33m\u001b[0m\u001b[0m\n\u001b[0;32m    592\u001b[0m         \u001b[1;32mif\u001b[0m \u001b[0mcallable\u001b[0m\u001b[1;33m(\u001b[0m\u001b[0mself\u001b[0m\u001b[1;33m.\u001b[0m\u001b[0miter_cb\u001b[0m\u001b[1;33m)\u001b[0m\u001b[1;33m:\u001b[0m\u001b[1;33m\u001b[0m\u001b[1;33m\u001b[0m\u001b[0m\n",
      "\u001b[1;32mc:\\venv\\ilumpy\\lib\\site-packages\\lmfit\\model.py\u001b[0m in \u001b[0;36m_residual\u001b[1;34m(self, params, data, weights, **kwargs)\u001b[0m\n\u001b[0;32m    762\u001b[0m                    \u001b[1;34m'boundaries on parameters where applicable. In cases like '\u001b[0m\u001b[1;33m\u001b[0m\u001b[1;33m\u001b[0m\u001b[0m\n\u001b[0;32m    763\u001b[0m                    'this, using \"nan_policy=\\'omit\\'\" will probably not work.')\n\u001b[1;32m--> 764\u001b[1;33m             \u001b[1;32mraise\u001b[0m \u001b[0mValueError\u001b[0m\u001b[1;33m(\u001b[0m\u001b[0mmsg\u001b[0m\u001b[1;33m)\u001b[0m\u001b[1;33m\u001b[0m\u001b[1;33m\u001b[0m\u001b[0m\n\u001b[0m\u001b[0;32m    765\u001b[0m \u001b[1;33m\u001b[0m\u001b[0m\n\u001b[0;32m    766\u001b[0m         \u001b[0mdiff\u001b[0m \u001b[1;33m=\u001b[0m \u001b[0mmodel\u001b[0m \u001b[1;33m-\u001b[0m \u001b[0mdata\u001b[0m\u001b[1;33m\u001b[0m\u001b[1;33m\u001b[0m\u001b[0m\n",
      "\u001b[1;31mValueError\u001b[0m: The model function generated NaN values and the fit aborted! Please check your model function and/or set boundaries on parameters where applicable. In cases like this, using \"nan_policy='omit'\" will probably not work."
     ]
    }
   ],
   "source": [
    "import numpy as np\n",
    "from lmfit import Model\n",
    "import matplotlib.pyplot as plt\n",
    "\n",
    "# 1. Defina a função exponencial\n",
    "def exponencial(t, a, k, c):\n",
    "    return a * np.exp(-k * t) + c\n",
    "\n",
    "# 2. Crie um Modelo com o lmfit\n",
    "modelo = Model(exponencial)\n",
    "\n",
    "# 3. Crie Parâmetros Iniciais\n",
    "params = modelo.make_params(a=1, k=1, c=1)\n",
    "\n",
    "# 4. Dados de Exemplo (Substitua com seus próprios dados)\n",
    "tempo = np.array([0, 1, 2, 3, 4, 5])\n",
    "valores = np.array([10, 7, 5, 3, 2, 1])\n",
    "\n",
    "# 5. Realize o Ajuste\n",
    "resultados = modelo.fit(atomodf, t=df['tempo'], params=params)\n",
    "\n",
    "# 6. Obtenha os Resultados do Ajuste\n",
    "print(resultados.fit_report())\n",
    "\n",
    "# 7. Visualize o Ajuste\n",
    "plt.scatter(tempo, valores, label='Dados Originais')\n",
    "plt.plot(tempo, resultados.best_fit, label='Ajuste Exponencial', color='red')\n",
    "plt.legend()\n",
    "plt.show()\n"
   ]
  },
  {
   "cell_type": "markdown",
   "id": "100da71f-28ff-47ec-aceb-d9c13ebc8660",
   "metadata": {},
   "source": [
    "## Fitagem com Spline Cúbica:"
   ]
  },
  {
   "cell_type": "code",
   "execution_count": null,
   "id": "ff11fca0-e53d-4339-8491-c1b63b6007de",
   "metadata": {},
   "outputs": [],
   "source": [
    "# Tempo e concentração de átomos\n",
    "tempo = np.arange(numero_passos)\n",
    "\n",
    "# Interpolação utilizando spline cúbica\n",
    "fa = interp1d(tempo, lista_atomos, kind='cubic')\n",
    "fm = interp1d(tempo, lista_moleculas, kind='cubic')\n",
    "\n",
    "# Novos pontos de tempo para a curva ajustada \n",
    "tempo_novo = np.linspace(tempo.min(), tempo.max(), 10000)\n",
    "\n",
    "# Avaliação da função ajustada\n",
    "concentracao_ajustada_atomos = fa(tempo_novo)\n",
    "concentracao_ajustada_moleculas = fm(tempo_novo)\n",
    "\n",
    "\n",
    "# Agora você tem a concentração ajustada em função do tempo\n",
    "\n",
    "# plotar os dados e a curva ajustada\n",
    "import matplotlib.pyplot as plt\n",
    "\n",
    "plt.figure(figsize=(10, 6))\n",
    "plt.plot(tempo, lista_atomos, 'o', label='Átomos inicial ')\n",
    "plt.plot(tempo_novo, concentracao_ajustada_atomos, '-', label='Átomos com ajuste com Spline Cúbica')\n",
    "\n",
    "plt.plot(tempo, lista_moleculas, 'o', label='Móleculas inicial ')\n",
    "plt.plot(tempo_novo, concentracao_ajustada_moleculas, '-', label='Móleculas com ajuste com Spline Cúbica')\n",
    "plt.legend()\n",
    "plt.title('Ajuste com Spline Cúbica')\n",
    "plt.xlabel('Tempo')\n",
    "plt.ylabel('Concentração dos reagentes e produtos')\n",
    "plt.show()\n"
   ]
  },
  {
   "cell_type": "markdown",
   "id": "e023bcf3-d22d-4aaf-bf69-3d5be04e1566",
   "metadata": {
    "tags": []
   },
   "source": [
    "## Gráfico da derivada da concentração por tempo:"
   ]
  }
 ],
 "metadata": {
  "kernelspec": {
   "display_name": "ilumpy",
   "language": "python",
   "name": "ilumpy"
  },
  "language_info": {
   "codemirror_mode": {
    "name": "ipython",
    "version": 3
   },
   "file_extension": ".py",
   "mimetype": "text/x-python",
   "name": "python",
   "nbconvert_exporter": "python",
   "pygments_lexer": "ipython3",
   "version": "3.9.7"
  }
 },
 "nbformat": 4,
 "nbformat_minor": 5
}

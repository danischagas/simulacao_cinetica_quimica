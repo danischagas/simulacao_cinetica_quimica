{
 "cells": [
  {
   "cell_type": "markdown",
   "id": "1417556c-d9eb-4a18-9265-85b982e21ee3",
   "metadata": {},
   "source": [
    "## Importações:"
   ]
  },
  {
   "cell_type": "code",
   "execution_count": 1,
   "id": "206185ca-ce53-4077-b2f2-5c5765311490",
   "metadata": {},
   "outputs": [],
   "source": [
    "import numpy as np\n",
    "import random as rd\n",
    "import matplotlib.pyplot as plt\n",
    "from matplotlib.patches import Circle\n",
    "import matplotlib.animation as animation\n",
    "from itertools import combinations\n",
    "from scipy.optimize import curve_fit\n",
    "#from scipy.interpolate import interp1d\n",
    "plt.style.use('seaborn-bright')\n",
    "import pandas as pd"
   ]
  },
  {
   "cell_type": "code",
   "execution_count": 2,
   "id": "8a52a156-064b-4db8-994e-18e4eb40b8ee",
   "metadata": {},
   "outputs": [],
   "source": [
    "from funcoes import Particula, mudar_passo, gerar_particulas, simular_reacao"
   ]
  },
  {
   "cell_type": "markdown",
   "id": "64e60c82-c036-4606-a3e7-ac56d0703669",
   "metadata": {},
   "source": [
    "## Parâmetros da simulação:"
   ]
  },
  {
   "cell_type": "code",
   "execution_count": null,
   "id": "7c8aee18-0637-43d6-b7cc-22045f248725",
   "metadata": {},
   "outputs": [],
   "source": [
    "#Parâmetros da simulação:\n",
    "\n",
    "numero_particulas = 100\n",
    "tamanho_caixa = 50\n",
    "RAIO = 0.5\n",
    "MASSA = 1\n",
    "probabilidade_reacao = 0.7\n",
    "tipo = 'atomo'\n",
    "\n",
    "tempo_final = 10\n",
    "numero_passos = 700\n",
    "tempo_cada_passo = tempo_final/numero_passos\n",
    "\n",
    "#lista_particulas = gerar_particulas(numero_particulas, RAIO, MASSA, tamanho_caixa, tipo)"
   ]
  },
  {
   "cell_type": "markdown",
   "id": "d3d229af-0be0-4df6-8c10-15b328242eed",
   "metadata": {},
   "source": [
    "## Simulação da reação química:"
   ]
  },
  {
   "cell_type": "markdown",
   "id": "6a709a26-85df-4bba-a2d6-ca26f6101750",
   "metadata": {},
   "source": [
    "- Se ocorre uma reação ela é necessariamente \n",
    "- Tem conservação de massa?\n",
    "- Eu preciso que em algum lugar seja definido o tipo das partículas para eu conseguir fazer um if \n",
    "- talvez transformar nossa partícula em uma matriz igual do amauri e tirar o resto das classes\n",
    "- precisa atualizar a matriz de partículas \n",
    "- verificar se há colisão\n",
    "- Testar se é melhor fazer uma nova classe 'molécula' ou usar 'nova_particula = Particula(nova_massa, novo_raio, nova_posicao, nova_velocidade, tipo)\n",
    "- Checar se a conservação de volume está no livro\n",
    "- Tirar uma das partículas e gerar uma nova a partir da outra\n",
    "- Usar o itertools (tem uma função que não repete) para usar o particula1 com particula2\n",
    "- itertools.combinations"
   ]
  },
  {
   "cell_type": "code",
   "execution_count": null,
   "id": "cfc9dffa-1253-466e-8c73-5f0357b3c940",
   "metadata": {},
   "outputs": [],
   "source": [
    "lista_particulas = gerar_particulas(numero_particulas, RAIO, MASSA, tamanho_caixa, tipo)\n",
    "\n",
    "lista_atomos, lista_moleculas = [], []\n",
    "\n",
    "# Compute simulation (It takes some time if numero_passos and numero_particulas are large)\n",
    "for i in range(numero_passos):\n",
    "     # Simular colisões\n",
    "    simular_reacao(lista_particulas, probabilidade_reacao)\n",
    "\n",
    "    # Atualizar posições e velocidades\n",
    "    mudar_passo(lista_particulas, tempo_cada_passo, tamanho_caixa)\n",
    "    \n",
    "    a_count, m_count = 0, 0\n",
    "    \n",
    "    for particula in lista_particulas:\n",
    "        if particula.tipo == 'atomo':\n",
    "            a_count += 1\n",
    "        else:\n",
    "            m_count += 1\n",
    "    \n",
    "    lista_atomos.append(a_count)\n",
    "    lista_moleculas.append(m_count)\n",
    "\n",
    "plt.scatter(list(range(numero_passos)),lista_atomos,label='átomos')\n",
    "plt.scatter(list(range(numero_passos)),lista_moleculas,label='moléculas')\n",
    "plt.legend()"
   ]
  },
  {
   "cell_type": "markdown",
   "id": "8951f67c-942c-458a-b574-a11ee52007b4",
   "metadata": {},
   "source": [
    "## Gerar animação da reação:"
   ]
  },
  {
   "cell_type": "code",
   "execution_count": null,
   "id": "608faf55-f36f-4fe0-8a6c-d1ce5e0351cf",
   "metadata": {},
   "outputs": [
    {
     "name": "stderr",
     "output_type": "stream",
     "text": [
      "C:\\Users\\DANIEL~1\\AppData\\Local\\Temp/ipykernel_9972/751259133.py:26: UserWarning: Setting the 'color' property will override the edgecolor or facecolor properties.\n",
      "  circle = plt.Circle((x, y), RAIO, fill=True, color='blue', edgecolor='black')\n"
     ]
    }
   ],
   "source": [
    "lista_atomos2, lista_moleculas2 = [], []\n",
    "\n",
    "def criar_animacao_simulacao_reacao(lista_particulas, tamanho_caixa, RAIO, NUM_STEPS, probabilidade_reacao):\n",
    "    fig, ax = plt.subplots(figsize=(10, 10))\n",
    "    ims = []\n",
    "\n",
    "    ax.set_xlim(0, tamanho_caixa)\n",
    "    ax.set_ylim(0, tamanho_caixa)\n",
    "    \n",
    "    ax.set_xticks([])\n",
    "    ax.set_yticks([])\n",
    "    ax.set_title('Simulação de Reação Química', fontsize=20)\n",
    "     \n",
    "    for k in range(NUM_STEPS):\n",
    "        # Chamando a função para simular reações\n",
    "        simular_reacao(lista_particulas, probabilidade_reacao)\n",
    "\n",
    "        # Desenha as partículas após a simulação de reação\n",
    "        circles = []\n",
    "        a_count, m_count = 0, 0\n",
    "        \n",
    "        for particula in lista_particulas:\n",
    "            if k < len(particula.todas_posicoes):\n",
    "                x = particula.todas_posicoes[k][0]\n",
    "                y = particula.todas_posicoes[k][1]\n",
    "                circle = plt.Circle((x, y), RAIO, fill=True, color='blue', edgecolor='black')\n",
    "                ax.add_artist(circle)\n",
    "                circles.append(circle)\n",
    "            \n",
    "            if particula.tipo == 'atomo':\n",
    "                a_count += 1\n",
    "            else:\n",
    "                m_count += 1\n",
    "        \n",
    "        lista_atomos2.append(a_count)\n",
    "        lista_moleculas2.append(m_count)\n",
    "        \n",
    "        ims.append(circles)\n",
    "\n",
    "    ani = animation.ArtistAnimation(fig, ims, interval=40, blit=True, repeat_delay=100)\n",
    "    writer = animation.PillowWriter(fps=10, bitrate=4000)\n",
    "    ani.save(\"resultados/simulacao_reacao.gif\", writer=writer, dpi=100)\n",
    "\n",
    "criar_animacao_simulacao_reacao(lista_particulas, tamanho_caixa, RAIO, numero_passos, probabilidade_reacao)"
   ]
  },
  {
   "cell_type": "markdown",
   "id": "46553d29-cfab-4bbd-8e7b-10b83c835a15",
   "metadata": {},
   "source": [
    "## Criando DataFrame para trabalhar com os dados:"
   ]
  },
  {
   "cell_type": "code",
   "execution_count": null,
   "id": "263d7e7f-a90c-4b54-849d-059cdaff0cd8",
   "metadata": {},
   "outputs": [],
   "source": [
    "lista = {'Atomos': lista_atomos, 'Moléculas': lista_moleculas, 'tempo': range(numero_passos)}\n",
    "\n",
    "print(len(lista_atomos))\n",
    "print(len(lista_moleculas))\n",
    "print(len(range(numero_passos)))\n",
    "\n",
    "\n",
    "df = pd.DataFrame(lista)\n",
    "\n",
    "atomodf = df['Atomos'] #df.iloc[0 : 70, 0]\n",
    "temporeagente = df['tempo'] #df.iloc[0:70, 2]\n",
    "\n",
    "produtodf = df.iloc[1 : 99, 1]\n",
    "tempoproduto = df.iloc[1 : 99, 2]\n",
    "\n"
   ]
  },
  {
   "cell_type": "code",
   "execution_count": null,
   "id": "d79fd1b0-9f46-4a1b-a18b-84c39c4d21b5",
   "metadata": {},
   "outputs": [],
   "source": [
    "display(df)"
   ]
  },
  {
   "cell_type": "code",
   "execution_count": null,
   "id": "49415d56-cd75-476f-a966-9f2d97dd18dd",
   "metadata": {},
   "outputs": [],
   "source": [
    "df.to_csv('dados.csv', index=False)"
   ]
  },
  {
   "cell_type": "markdown",
   "id": "e274569e-2d35-4ecf-a9b6-1bf44f5f40d7",
   "metadata": {},
   "source": [
    "## Fitagem com função exponencial:"
   ]
  },
  {
   "cell_type": "code",
   "execution_count": null,
   "id": "0fd40d9a-89f4-48ff-9ca2-ba18b6036c12",
   "metadata": {
    "tags": []
   },
   "outputs": [],
   "source": [
    "def exponencial(t, a, k, c):\n",
    "    return a * np.exp(-k * t) + c\n",
    "\n",
    "popt, _ = curve_fit(exponencial, temporeagente, atomodf)\n",
    "print(popt)\n",
    "\n",
    "valores_fit_reagente = exponencial(temporeagente, *popt)\n",
    "\n",
    "k = popt[1]\n",
    "print(\"O valor de k é:\", k)\n",
    "\n",
    "plt.scatter(temporeagente, atomodf , label='Dados Originais')\n",
    "plt.plot(temporeagente, valores_fit_reagente, label='Ajuste Exponencial', color='red')\n",
    "\n",
    "\n",
    "plt.legend()\n",
    "plt.show()"
   ]
  },
  {
   "cell_type": "markdown",
   "id": "830602e4-54fa-4e1d-98cf-5f3544139e12",
   "metadata": {},
   "source": [
    "## Fitagem com função logarítmica:"
   ]
  },
  {
   "cell_type": "code",
   "execution_count": null,
   "id": "a0f2048c-d7c8-4faf-b841-4e8769d9156d",
   "metadata": {},
   "outputs": [],
   "source": [
    "def logaritimica(x, a, b, c):\n",
    "    return a * np.log(b * x) + c\n",
    "\n",
    "popt, _ = curve_fit(logaritimica, tempoproduto, produtodf)\n",
    "print(popt)\n",
    "valores_fit_produto = logaritimica(tempoproduto, *popt)\n",
    "\n",
    "b = popt[1]\n",
    "print(\"O valor de k é:\", b)\n",
    "\n",
    "plt.scatter(temporeagente, atomodf , label='Dados Originais')\n",
    "plt.plot(temporeagente, valores_fit_reagente, label='Ajuste Exponencial', color='red')\n",
    "plt.scatter(tempoproduto, produtodf , label='Dados Originais', color='green')\n",
    "plt.plot(tempoproduto, valores_fit_produto, label='Ajuste Exponencial', color='purple')\n",
    "plt.legend()\n",
    "plt.show()"
   ]
  },
  {
   "cell_type": "markdown",
   "id": "19b3554f-74e3-4d9a-a75c-ab3f08d4549e",
   "metadata": {},
   "source": [
    "## Análise do Método da Velocidade Inicial:"
   ]
  },
  {
   "cell_type": "code",
   "execution_count": null,
   "id": "c7f9f033-fc0b-4804-8dfb-a1dc9a550667",
   "metadata": {},
   "outputs": [],
   "source": [
    "# Vlor de K pela quantidade de partículas iniciais\n",
    "# Initial rate method"
   ]
  },
  {
   "cell_type": "code",
   "execution_count": null,
   "id": "dee7feaf-1d56-49cf-af0d-ba38d1a2ecc5",
   "metadata": {},
   "outputs": [],
   "source": [
    "numero_particulas = [20, 60] #100, 140, 180, 200]\n",
    "\n",
    "parametros_ajustados = []\n",
    "valores_ajustados = []\n",
    "\n",
    "for num_particulas in numero_particulas:\n",
    "    lista_particulas = gerar_particulas(num_particulas, RAIO, MASSA, tamanho_caixa, tipo)\n",
    "    lista_atomos =  []\n",
    "\n",
    "    # Compute simulation\n",
    "    for i in range(numero_passos):\n",
    "        # Simular colisões\n",
    "        simular_reacao(lista_particulas, probabilidade_reacao)\n",
    "\n",
    "        # Atualizar posições e velocidades\n",
    "        mudar_passo(lista_particulas, tempo_cada_passo, tamanho_caixa)\n",
    "\n",
    "        a_count, m_count = 0, 0\n",
    "\n",
    "        for particula in lista_particulas:\n",
    "            if particula.tipo == 'atomo':\n",
    "                a_count += 1\n",
    "            else:\n",
    "\n",
    "        lista_atomos.append(a_count)\n",
    "       \n",
    "    temporeagente = range(numero_passos)  # Certifique-se de ter o tempo correto aqui\n",
    "    atomodf = lista_atomos  # Certifique-se de ter os dados corretos aqui\n",
    "\n",
    "    popt, _ = curve_fit(exponencial, temporeagente, atomodf)\n",
    "    parametros_ajustados.append(popt)\n",
    "    valores_fit_reagente = exponencial(temporeagente, *popt)\n",
    "    valores_ajustados.append(valores_fit_reagente)\n",
    "\n",
    "# Agora, você pode usar os resultados para fazer o que deseja\n",
    "# Por exemplo, você pode imprimir os parâmetros ajustados\n",
    "for i, popt in enumerate(parametros_ajustados):\n",
    "    print(f\"Para N = {numero_particulas[i]}, os parâmetros ajustados são: a={popt[0]}, k={popt[1]}, c={popt[2]}\")\n",
    "\n",
    "# Ou plotar os resultados\n",
    "plt.figure(figsize=(10, 5))\n",
    "for i, num_particulas in enumerate(numero_particulas):\n",
    "    plt.plot(temporeagente, valores_ajustados[i], label=f'N = {num_particulas}')\n",
    "\n",
    "    \n",
    "plt.legend()\n",
    "plt.show()\n",
    "\n",
    "\n",
    "#plt.scatter(range(numero_passos), lista_atomos, label= f'N = {num_particulas}')\n",
    "#plt.legend()\n",
    "#plt.show()  # Adicionei um comando para mostrar o gráfico a cada iteração (remova se desejar plotar todas juntas)\n"
   ]
  },
  {
   "cell_type": "code",
   "execution_count": null,
   "id": "05433e60-d9b5-496b-bb00-8c7c8fc76dde",
   "metadata": {},
   "outputs": [],
   "source": [
    "#plotar K pela concentração"
   ]
  },
  {
   "cell_type": "markdown",
   "id": "ef0a089f-7bfa-48d7-b4df-e781a43b39e5",
   "metadata": {},
   "source": [
    "----"
   ]
  },
  {
   "cell_type": "markdown",
   "id": "d86ae99c-b226-47f2-979b-e023a9ca72cc",
   "metadata": {
    "tags": []
   },
   "source": [
    "---"
   ]
  },
  {
   "cell_type": "markdown",
   "id": "54cd31e7-041b-4fec-ab17-25d9baf399f6",
   "metadata": {},
   "source": [
    "---"
   ]
  },
  {
   "cell_type": "markdown",
   "id": "e1526869-aa25-4e9e-be24-2af9288bd776",
   "metadata": {},
   "source": [
    "---"
   ]
  },
  {
   "cell_type": "code",
   "execution_count": null,
   "id": "f1d8c732-073f-467e-a9cd-cce2f93b3c09",
   "metadata": {},
   "outputs": [],
   "source": [
    "# Calcular a diferença no tempo (assumindo que o intervalo de tempo é constante)\n",
    "delta_t_novo = df['tempo'][1] - df['tempo'][0]\n",
    "\n",
    "# Calcular a derivada da concentração ajustada\n",
    "velocidade_reacao_ajustada = np.gradient(valores_fit_produto, delta_t_novo)\n",
    "\n",
    "# taxa de variação da concentração de átomos ajustada em função do tempo\n",
    "# A velocidade de reação ajustada é d[atomos]/dtempo\n",
    "\n",
    "# plotando a velocidade de reação ajustada\n",
    "import matplotlib.pyplot as plt\n",
    "\n",
    "plt.figure(figsize=(10, 6))\n",
    "plt.plot(df['tempo'][:-1], velocidade_reacao_ajustada, '-', label='Velocidade de Reação Ajustada')\n",
    "plt.legend()\n",
    "plt.title('Velocidade de Reação Ajustada')\n",
    "plt.xlabel('Tempo')\n",
    "plt.ylabel('Velocidade de Reação')\n",
    "plt.show()"
   ]
  },
  {
   "cell_type": "code",
   "execution_count": null,
   "id": "d2b16c1a-f981-4af6-bd6d-ea7fadf3dab1",
   "metadata": {},
   "outputs": [],
   "source": []
  },
  {
   "cell_type": "code",
   "execution_count": null,
   "id": "8da50784-1e11-403d-8f52-ca970cad5207",
   "metadata": {},
   "outputs": [],
   "source": [
    "import numpy as np\n",
    "from lmfit import Model\n",
    "import matplotlib.pyplot as plt\n",
    "\n",
    "# 1. Defina a função exponencial\n",
    "def exponencial(t, a, k, c):\n",
    "    return a * np.exp(-k * t) + c\n",
    "\n",
    "# 2. Crie um Modelo com o lmfit\n",
    "modelo = Model(exponencial)\n",
    "\n",
    "# 3. Crie Parâmetros Iniciais\n",
    "params = modelo.make_params(a=1, k=1, c=1)\n",
    "\n",
    "# 4. Dados de Exemplo (Substitua com seus próprios dados)\n",
    "tempo = np.array([0, 1, 2, 3, 4, 5])\n",
    "valores = np.array([10, 7, 5, 3, 2, 1])\n",
    "\n",
    "# 5. Realize o Ajuste\n",
    "resultados = modelo.fit(atomodf, t=df['tempo'], params=params)\n",
    "\n",
    "# 6. Obtenha os Resultados do Ajuste\n",
    "print(resultados.fit_report())\n",
    "\n",
    "# 7. Visualize o Ajuste\n",
    "plt.scatter(tempo, valores, label='Dados Originais')\n",
    "plt.plot(tempo, resultados.best_fit, label='Ajuste Exponencial', color='red')\n",
    "plt.legend()\n",
    "plt.show()\n"
   ]
  },
  {
   "cell_type": "markdown",
   "id": "100da71f-28ff-47ec-aceb-d9c13ebc8660",
   "metadata": {},
   "source": [
    "## Fitagem com Spline Cúbica:"
   ]
  },
  {
   "cell_type": "code",
   "execution_count": null,
   "id": "ff11fca0-e53d-4339-8491-c1b63b6007de",
   "metadata": {},
   "outputs": [],
   "source": [
    "# Tempo e concentração de átomos\n",
    "tempo = np.arange(numero_passos)\n",
    "\n",
    "# Interpolação utilizando spline cúbica\n",
    "fa = interp1d(tempo, lista_atomos, kind='cubic')\n",
    "fm = interp1d(tempo, lista_moleculas, kind='cubic')\n",
    "\n",
    "# Novos pontos de tempo para a curva ajustada \n",
    "tempo_novo = np.linspace(tempo.min(), tempo.max(), 10000)\n",
    "\n",
    "# Avaliação da função ajustada\n",
    "concentracao_ajustada_atomos = fa(tempo_novo)\n",
    "concentracao_ajustada_moleculas = fm(tempo_novo)\n",
    "\n",
    "\n",
    "# Agora você tem a concentração ajustada em função do tempo\n",
    "\n",
    "# plotar os dados e a curva ajustada\n",
    "import matplotlib.pyplot as plt\n",
    "\n",
    "plt.figure(figsize=(10, 6))\n",
    "plt.plot(tempo, lista_atomos, 'o', label='Átomos inicial ')\n",
    "plt.plot(tempo_novo, concentracao_ajustada_atomos, '-', label='Átomos com ajuste com Spline Cúbica')\n",
    "\n",
    "plt.plot(tempo, lista_moleculas, 'o', label='Móleculas inicial ')\n",
    "plt.plot(tempo_novo, concentracao_ajustada_moleculas, '-', label='Móleculas com ajuste com Spline Cúbica')\n",
    "plt.legend()\n",
    "plt.title('Ajuste com Spline Cúbica')\n",
    "plt.xlabel('Tempo')\n",
    "plt.ylabel('Concentração dos reagentes e produtos')\n",
    "plt.show()\n"
   ]
  },
  {
   "cell_type": "markdown",
   "id": "e023bcf3-d22d-4aaf-bf69-3d5be04e1566",
   "metadata": {
    "tags": []
   },
   "source": [
    "## Gráfico da derivada da concentração por tempo:"
   ]
  }
 ],
 "metadata": {
  "kernelspec": {
   "display_name": "ilumpy",
   "language": "python",
   "name": "ilumpy"
  },
  "language_info": {
   "codemirror_mode": {
    "name": "ipython",
    "version": 3
   },
   "file_extension": ".py",
   "mimetype": "text/x-python",
   "name": "python",
   "nbconvert_exporter": "python",
   "pygments_lexer": "ipython3",
   "version": "3.9.7"
  }
 },
 "nbformat": 4,
 "nbformat_minor": 5
}

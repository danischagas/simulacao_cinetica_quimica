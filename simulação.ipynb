{
 "cells": [
  {
   "cell_type": "code",
   "execution_count": 1,
   "id": "f0d46bab-11dd-49ff-9872-a275cad2d6d5",
   "metadata": {},
   "outputs": [
    {
     "name": "stdout",
     "output_type": "stream",
     "text": [
      "Collecting vpythonNote: you may need to restart the kernel to use updated packages.\n",
      "\n",
      "  Using cached vpython-7.6.4-cp39-cp39-win_amd64.whl (3.5 MB)"
     ]
    },
    {
     "name": "stderr",
     "output_type": "stream",
     "text": [
      "ERROR: Could not install packages due to an OSError: [WinError 5] Acesso negado: 'C:\\\\venv\\\\ilumpy\\\\Lib\\\\site-packages\\\\~ornado\\\\speedups.cp39-win_amd64.pyd'\n",
      "Check the permissions.\n"
     ]
    },
    {
     "name": "stdout",
     "output_type": "stream",
     "text": [
      "\n",
      "Collecting jupyter-server-proxy\n",
      "  Using cached jupyter_server_proxy-4.0.0-py3-none-any.whl (32 kB)\n",
      "Requirement already satisfied: numpy in c:\\venv\\ilumpy\\lib\\site-packages (from vpython) (1.19.5)\n",
      "Requirement already satisfied: ipykernel in c:\\venv\\ilumpy\\lib\\site-packages (from vpython) (6.4.1)\n",
      "Collecting jupyter\n",
      "  Using cached jupyter-1.0.0-py2.py3-none-any.whl (2.7 kB)\n",
      "Collecting autobahn<27,>=22.6.1\n",
      "  Using cached autobahn-23.6.2-py2.py3-none-any.whl\n",
      "Collecting txaio>=21.2.1\n",
      "  Using cached txaio-23.1.1-py2.py3-none-any.whl (30 kB)\n",
      "Collecting hyperlink>=21.0.0\n",
      "  Using cached hyperlink-21.0.0-py2.py3-none-any.whl (74 kB)\n",
      "Requirement already satisfied: setuptools in c:\\venv\\ilumpy\\lib\\site-packages (from autobahn<27,>=22.6.1->vpython) (57.4.0)\n",
      "Collecting cryptography>=3.4.6\n",
      "  Using cached cryptography-41.0.3-cp37-abi3-win_amd64.whl (2.6 MB)\n",
      "Collecting cffi>=1.12\n",
      "  Using cached cffi-1.15.1-cp39-cp39-win_amd64.whl (179 kB)\n",
      "Collecting pycparser\n",
      "  Using cached pycparser-2.21-py2.py3-none-any.whl (118 kB)\n",
      "Requirement already satisfied: idna>=2.5 in c:\\venv\\ilumpy\\lib\\site-packages (from hyperlink>=21.0.0->autobahn<27,>=22.6.1->vpython) (3.2)\n",
      "Requirement already satisfied: ipython-genutils in c:\\venv\\ilumpy\\lib\\site-packages (from ipykernel->vpython) (0.2.0)\n",
      "Requirement already satisfied: traitlets<6.0,>=4.1.0 in c:\\venv\\ilumpy\\lib\\site-packages (from ipykernel->vpython) (5.1.0)\n",
      "Requirement already satisfied: matplotlib-inline<0.2.0,>=0.1.0 in c:\\venv\\ilumpy\\lib\\site-packages (from ipykernel->vpython) (0.1.3)\n",
      "Requirement already satisfied: tornado<7.0,>=4.2 in c:\\venv\\ilumpy\\lib\\site-packages (from ipykernel->vpython) (6.1)\n"
     ]
    },
    {
     "name": "stderr",
     "output_type": "stream",
     "text": [
      "\n",
      "WARNING: You are using pip version 21.2.4; however, version 23.2.1 is available.\n",
      "You should consider upgrading via the 'c:\\venv\\ilumpy\\Scripts\\python.exe -m pip install --upgrade pip' command.\n"
     ]
    }
   ],
   "source": [
    "#pip install vpython"
   ]
  },
  {
   "cell_type": "code",
   "execution_count": 6,
   "id": "b2d3a2b3-4e22-4ac3-8fe3-8142a234adf4",
   "metadata": {},
   "outputs": [
    {
     "ename": "ModuleNotFoundError",
     "evalue": "No module named 'vpython'",
     "output_type": "error",
     "traceback": [
      "\u001b[1;31m---------------------------------------------------------------------------\u001b[0m",
      "\u001b[1;31mModuleNotFoundError\u001b[0m                       Traceback (most recent call last)",
      "\u001b[1;32mC:\\Users\\DANIEL~1\\AppData\\Local\\Temp/ipykernel_13452/980854956.py\u001b[0m in \u001b[0;36m<module>\u001b[1;34m\u001b[0m\n\u001b[1;32m----> 1\u001b[1;33m \u001b[1;32mfrom\u001b[0m \u001b[0mvpython\u001b[0m \u001b[1;32mimport\u001b[0m \u001b[0msphere\u001b[0m\u001b[1;33m,\u001b[0m \u001b[0mscene\u001b[0m\u001b[1;33m,\u001b[0m \u001b[0mvector\u001b[0m\u001b[1;33m,\u001b[0m \u001b[0mrate\u001b[0m\u001b[1;33m\u001b[0m\u001b[1;33m\u001b[0m\u001b[0m\n\u001b[0m\u001b[0;32m      2\u001b[0m \u001b[1;32mimport\u001b[0m \u001b[0mrandom\u001b[0m\u001b[1;33m\u001b[0m\u001b[1;33m\u001b[0m\u001b[0m\n\u001b[0;32m      3\u001b[0m \u001b[1;32mimport\u001b[0m \u001b[0mnumpy\u001b[0m \u001b[1;32mas\u001b[0m \u001b[0mnp\u001b[0m\u001b[1;33m\u001b[0m\u001b[1;33m\u001b[0m\u001b[0m\n\u001b[0;32m      4\u001b[0m \u001b[1;33m\u001b[0m\u001b[0m\n\u001b[0;32m      5\u001b[0m \u001b[1;32mclass\u001b[0m \u001b[0mParticle\u001b[0m\u001b[1;33m:\u001b[0m\u001b[1;33m\u001b[0m\u001b[1;33m\u001b[0m\u001b[0m\n",
      "\u001b[1;31mModuleNotFoundError\u001b[0m: No module named 'vpython'"
     ]
    }
   ],
   "source": [
    "from vpython import sphere, scene, vector, rate\n",
    "import random\n",
    "import numpy as np\n",
    "\n",
    "class Particle:\n",
    "    def __init__(self, pos, radius, velocity):\n",
    "        self.sphere = sphere(pos=pos, radius=radius, color=vector(random.random(), random.random(), random.random()))\n",
    "        self.velocity = velocity\n",
    "\n",
    "    def update_position(self, dt):\n",
    "        self.sphere.pos += self.velocity * dt\n",
    "\n",
    "def detect_collision(p1, p2):\n",
    "    dist = np.linalg.norm(p1.sphere.pos - p2.sphere.pos)\n",
    "    return dist <= p1.sphere.radius + p2.sphere.radius\n",
    "\n",
    "def handle_collision(p1, p2):\n",
    "    # Calculate the new velocities after collision (assuming perfectly elastic collision)\n",
    "    v1, v2 = p1.velocity, p2.velocity\n",
    "    m1, m2 = p1.sphere.radius**3, p2.sphere.radius**3  # Assume equal densities for simplicity\n",
    "    v1_new = v1 - 2 * m2 / (m1 + m2) * np.dot(v1 - v2, p1.sphere.pos - p2.sphere.pos) / np.linalg.norm(p1.sphere.pos - p2.sphere.pos)**2 * (p1.sphere.pos - p2.sphere.pos)\n",
    "    v2_new = v2 - 2 * m1 / (m1 + m2) * np.dot(v2 - v1, p2.sphere.pos - p1.sphere.pos) / np.linalg.norm(p2.sphere.pos - p1.sphere.pos)**2 * (p2.sphere.pos - p1.sphere.pos)\n",
    "    p1.velocity, p2.velocity = v1_new, v2_new\n",
    "\n",
    "def main():\n",
    "    # Simulation parameters\n",
    "    num_particles = 50\n",
    "    container_radius = 10\n",
    "    particle_radius = 0.5\n",
    "    max_velocity = 2\n",
    "\n",
    "    particles = []\n",
    "    for _ in range(num_particles):\n",
    "        pos = vector(random.uniform(-container_radius, container_radius),\n",
    "                     random.uniform(-container_radius, container_radius),\n",
    "                     random.uniform(-container_radius, container_radius))\n",
    "        velocity = vector(random.uniform(-max_velocity, max_velocity),\n",
    "                          random.uniform(-max_velocity, max_velocity),\n",
    "                          random.uniform(-max_velocity, max_velocity))\n",
    "        particles.append(Particle(pos, particle_radius, velocity))\n",
    "\n",
    "    while True:\n",
    "        rate(60)  # Limit the frame rate to make the simulation visible\n",
    "\n",
    "        # Update particle positions\n",
    "        dt = 0.01  # Time step\n",
    "        for particle in particles:\n",
    "            particle.update_position(dt)\n",
    "\n",
    "            # Handle collisions with container walls\n",
    "            if abs(particle.sphere.pos.x) >= container_radius - particle.sphere.radius:\n",
    "                particle.velocity.x *= -1\n",
    "            if abs(particle.sphere.pos.y) >= container_radius - particle.sphere.radius:\n",
    "                particle.velocity.y *= -1\n",
    "            if abs(particle.sphere.pos.z) >= container_radius - particle.sphere.radius:\n",
    "                particle.velocity.z *= -1\n",
    "\n",
    "        # Handle collisions between particles\n",
    "        for i in range(num_particles):\n",
    "            for j in range(i + 1, num_particles):\n",
    "                if detect_collision(particles[i], particles[j]):\n",
    "                    handle_collision(particles[i], particles[j])\n",
    "\n",
    "if __name__ == \"__main__\":\n",
    "    main()\n"
   ]
  },
  {
   "cell_type": "code",
   "execution_count": 3,
   "id": "d5f8c598-5e04-407e-97f1-a8b373a6edc4",
   "metadata": {},
   "outputs": [
    {
     "data": {
      "image/png": "[encoded data removed]",
      "text/plain": [
       "<Figure size 432x288 with 1 Axes>"
      ]
     },
     "metadata": {
      "needs_background": "light"
     },
     "output_type": "display_data"
    }
   ],
   "source": [
    "import matplotlib.pyplot as plt\n",
    "import numpy as np\n",
    "\n",
    "class Particle:\n",
    "    def __init__(self, position, radius, velocity):\n",
    "        self.position = position\n",
    "        self.radius = radius\n",
    "        self.velocity = velocity\n",
    "\n",
    "def detect_collision(p1, p2):\n",
    "    dist = np.linalg.norm(p1.position - p2.position)\n",
    "    return dist <= p1.radius + p2.radius\n",
    "\n",
    "def handle_collision(p1, p2):\n",
    "    # Calculate the new velocities after collision (assuming perfectly elastic collision)\n",
    "    v1, v2 = p1.velocity, p2.velocity\n",
    "    m1, m2 = p1.radius**3, p2.radius**3  # Assume equal densities for simplicity\n",
    "    v1_new = v1 - 2 * m2 / (m1 + m2) * np.dot(v1 - v2, p1.position - p2.position) / np.linalg.norm(p1.position - p2.position)**2 * (p1.position - p2.position)\n",
    "    v2_new = v2 - 2 * m1 / (m1 + m2) * np.dot(v2 - v1, p2.position - p1.position) / np.linalg.norm(p2.position - p1.position)**2 * (p2.position - p1.position)\n",
    "    p1.velocity, p2.velocity = v1_new, v2_new\n",
    "\n",
    "def main():\n",
    "    # Simulation parameters\n",
    "    num_particles = 50\n",
    "    container_radius = 10\n",
    "    particle_radius = 0.5\n",
    "    max_velocity = 2\n",
    "\n",
    "    particles = []\n",
    "    for _ in range(num_particles):\n",
    "        position = np.array([np.random.uniform(-container_radius, container_radius) for _ in range(3)])\n",
    "        velocity = np.array([np.random.uniform(-max_velocity, max_velocity) for _ in range(3)])\n",
    "        particles.append(Particle(position, particle_radius, velocity))\n",
    "\n",
    "    fig = plt.figure()\n",
    "    ax = fig.add_subplot(111, projection='3d')\n",
    "    ax.set_xlim(-container_radius, container_radius)\n",
    "    ax.set_ylim(-container_radius, container_radius)\n",
    "    ax.set_zlim(-container_radius, container_radius)\n",
    "\n",
    "    for particle in particles:\n",
    "        ax.scatter(*particle.position, color='b', s=20)\n",
    "\n",
    "    dt = 0.01  # Time step\n",
    "    num_steps = 500\n",
    "    for step in range(num_steps):\n",
    "        for particle in particles:\n",
    "            # Update particle positions\n",
    "            particle.position += particle.velocity * dt\n",
    "\n",
    "            # Handle collisions with container walls\n",
    "            for i in range(3):\n",
    "                if abs(particle.position[i]) >= container_radius - particle.radius:\n",
    "                    particle.velocity[i] *= -1\n",
    "\n",
    "        # Handle collisions between particles\n",
    "        for i in range(num_particles):\n",
    "            for j in range(i + 1, num_particles):\n",
    "                if detect_collision(particles[i], particles[j]):\n",
    "                    handle_collision(particles[i], particles[j])\n",
    "\n",
    "        # Update visualization\n",
    "        ax.cla()\n",
    "        ax.set_xlim(-container_radius, container_radius)\n",
    "        ax.set_ylim(-container_radius, container_radius)\n",
    "        ax.set_zlim(-container_radius, container_radius)\n",
    "        for particle in particles:\n",
    "            ax.scatter(*particle.position, color='b', s=20)\n",
    "\n",
    "        plt.pause(0.01)\n",
    "\n",
    "if __name__ == \"__main__\":\n",
    "    main()\n",
    "\n",
    "    "
   ]
  },
  {
   "cell_type": "code",
   "execution_count": 4,
   "id": "a8a3ff4e-b8ab-49a1-aab2-9dbdbfd16131",
   "metadata": {},
   "outputs": [
    {
     "data": {
      "image/png": "[encoded data removed]",
      "text/plain": [
       "<Figure size 432x288 with 1 Axes>"
      ]
     },
     "metadata": {
      "needs_background": "light"
     },
     "output_type": "display_data"
    }
   ],
   "source": [
    "import matplotlib.pyplot as plt\n",
    "import numpy as np\n",
    "from mpl_toolkits.mplot3d import Axes3D\n",
    "from matplotlib.animation import FuncAnimation\n",
    "\n",
    "class Particle:\n",
    "    def __init__(self, position, radius, velocity):\n",
    "        self.position = position\n",
    "        self.radius = radius\n",
    "        self.velocity = velocity\n",
    "\n",
    "def detect_collision(p1, p2):\n",
    "    dist = np.linalg.norm(p1.position - p2.position)\n",
    "    return dist <= p1.radius + p2.radius\n",
    "\n",
    "def handle_collision(p1, p2):\n",
    "    # Calculate the new velocities after collision (assuming perfectly elastic collision)\n",
    "    v1, v2 = p1.velocity, p2.velocity\n",
    "    m1, m2 = p1.radius**3, p2.radius**3  # Assume equal densities for simplicity\n",
    "    v1_new = v1 - 2 * m2 / (m1 + m2) * np.dot(v1 - v2, p1.position - p2.position) / np.linalg.norm(p1.position - p2.position)**2 * (p1.position - p2.position)\n",
    "    v2_new = v2 - 2 * m1 / (m1 + m2) * np.dot(v2 - v1, p2.position - p1.position) / np.linalg.norm(p2.position - p1.position)**2 * (p2.position - p1.position)\n",
    "    p1.velocity, p2.velocity = v1_new, v2_new\n",
    "\n",
    "def update(frame_number, particles, ax, dt, container_radius):\n",
    "    for particle in particles:\n",
    "        # Update particle positions\n",
    "        particle.position += particle.velocity * dt\n",
    "\n",
    "        # Handle collisions with container walls\n",
    "        for i in range(3):\n",
    "            if abs(particle.position[i]) >= container_radius - particle.radius:\n",
    "                particle.velocity[i] *= -1\n",
    "\n",
    "    # Handle collisions between particles\n",
    "    for i in range(len(particles)):\n",
    "        for j in range(i + 1, len(particles)):\n",
    "            if detect_collision(particles[i], particles[j]):\n",
    "                handle_collision(particles[i], particles[j])\n",
    "\n",
    "    # Update particle positions in the plot\n",
    "    ax.cla()\n",
    "    ax.set_xlim(-container_radius, container_radius)\n",
    "    ax.set_ylim(-container_radius, container_radius)\n",
    "    ax.set_zlim(-container_radius, container_radius)\n",
    "    for particle in particles:\n",
    "        ax.scatter(*particle.position, color='b', s=20)\n",
    "\n",
    "if __name__ == \"__main__\":\n",
    "    # Simulation parameters\n",
    "    num_particles = 50\n",
    "    container_radius = 10\n",
    "    particle_radius = 0.5\n",
    "    max_velocity = 2\n",
    "    dt = 0.01  # Time step\n",
    "\n",
    "    particles = []\n",
    "    for _ in range(num_particles):\n",
    "        position = np.array([np.random.uniform(-container_radius, container_radius) for _ in range(3)])\n",
    "        velocity = np.array([np.random.uniform(-max_velocity, max_velocity) for _ in range(3)])\n",
    "        particles.append(Particle(position, particle_radius, velocity))\n",
    "\n",
    "    fig = plt.figure()\n",
    "    ax = fig.add_subplot(111, projection='3d')\n",
    "    ax.set_xlim(-container_radius, container_radius)\n",
    "    ax.set_ylim(-container_radius, container_radius)\n",
    "    ax.set_zlim(-container_radius, container_radius)\n",
    "\n",
    "    # Create the animation\n",
    "    animation = FuncAnimation(fig, update, fargs=(particles, ax, dt, container_radius), interval=10)\n",
    "\n",
    "    plt.show()\n"
   ]
  },
  {
   "cell_type": "code",
   "execution_count": null,
   "id": "012779dd-6b56-4109-9ea6-db7491d5b471",
   "metadata": {},
   "outputs": [],
   "source": []
  }
 ],
 "metadata": {
  "kernelspec": {
   "display_name": "ilumpy",
   "language": "python",
   "name": "ilumpy"
  },
  "language_info": {
   "codemirror_mode": {
    "name": "ipython",
    "version": 3
   },
   "file_extension": ".py",
   "mimetype": "text/x-python",
   "name": "python",
   "nbconvert_exporter": "python",
   "pygments_lexer": "ipython3",
   "version": "3.9.7"
  }
 },
 "nbformat": 4,
 "nbformat_minor": 5
}

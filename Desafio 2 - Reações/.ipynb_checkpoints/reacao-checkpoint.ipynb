{
 "cells": [
  {
   "cell_type": "markdown",
   "id": "1417556c-d9eb-4a18-9265-85b982e21ee3",
   "metadata": {},
   "source": [
    "## Importações:"
   ]
  },
  {
   "cell_type": "code",
   "execution_count": 1,
   "id": "206185ca-ce53-4077-b2f2-5c5765311490",
   "metadata": {},
   "outputs": [],
   "source": [
    "import numpy as np\n",
    "import random\n",
    "import matplotlib.pyplot as plt\n",
    "from matplotlib.patches import Circle\n",
    "import matplotlib.animation as animation\n",
    "from itertools import combinations\n",
    "from scipy.optimize import curve_fit\n",
    "#from scipy.interpolate import interp1d\n",
    "plt.style.use('seaborn-bright')\n",
    "import pandas as pd"
   ]
  },
  {
   "cell_type": "code",
   "execution_count": 2,
   "id": "8a52a156-064b-4db8-994e-18e4eb40b8ee",
   "metadata": {},
   "outputs": [],
   "source": [
    "from funcoes import Particula, mudar_passo, gerar_particulas, simular_reacao"
   ]
  },
  {
   "cell_type": "markdown",
   "id": "64e60c82-c036-4606-a3e7-ac56d0703669",
   "metadata": {},
   "source": [
    "## Parâmetros da simulação:"
   ]
  },
  {
   "cell_type": "code",
   "execution_count": 26,
   "id": "7c8aee18-0637-43d6-b7cc-22045f248725",
   "metadata": {},
   "outputs": [],
   "source": [
    "#Parâmetros da simulação:\n",
    "\n",
    "numero_particulas = 100\n",
    "tamanho_caixa = 50\n",
    "RAIO = 0.5\n",
    "MASSA = 1\n",
    "probabilidade_reacao = 0.7\n",
    "tipo = 'atomo'\n",
    "\n",
    "tempo_final = 50\n",
    "numero_passos = 100\n",
    "tempo_cada_passo = tempo_final/numero_passos"
   ]
  },
  {
   "cell_type": "markdown",
   "id": "d3d229af-0be0-4df6-8c10-15b328242eed",
   "metadata": {},
   "source": [
    "## Simulação da reação química:"
   ]
  },
  {
   "cell_type": "markdown",
   "id": "6a709a26-85df-4bba-a2d6-ca26f6101750",
   "metadata": {},
   "source": [
    "- Se ocorre uma reação ela é necessariamente \n",
    "- Tem conservação de massa?\n",
    "- Eu preciso que em algum lugar seja definido o tipo das partículas para eu conseguir fazer um if \n",
    "- talvez transformar nossa partícula em uma matriz igual do amauri e tirar o resto das classes\n",
    "- precisa atualizar a matriz de partículas \n",
    "- verificar se há colisão\n",
    "- Testar se é melhor fazer uma nova classe 'molécula' ou usar 'nova_particula = Particula(nova_massa, novo_raio, nova_posicao, nova_velocidade, tipo)\n",
    "- Checar se a conservação de volume está no livro\n",
    "- Tirar uma das partículas e gerar uma nova a partir da outra\n",
    "- Usar o itertools (tem uma função que não repete) para usar o particula1 com particula2\n",
    "- itertools.combinations"
   ]
  },
  {
   "cell_type": "code",
   "execution_count": 4,
   "id": "cfc9dffa-1253-466e-8c73-5f0357b3c940",
   "metadata": {},
   "outputs": [
    {
     "ename": "NameError",
     "evalue": "name 'random' is not defined",
     "output_type": "error",
     "traceback": [
      "\u001b[1;31m---------------------------------------------------------------------------\u001b[0m",
      "\u001b[1;31mNameError\u001b[0m                                 Traceback (most recent call last)",
      "\u001b[1;32mC:\\Users\\DANIEL~1\\AppData\\Local\\Temp/ipykernel_21564/4033995138.py\u001b[0m in \u001b[0;36m<module>\u001b[1;34m\u001b[0m\n\u001b[0;32m      6\u001b[0m \u001b[1;32mfor\u001b[0m \u001b[0mi\u001b[0m \u001b[1;32min\u001b[0m \u001b[0mrange\u001b[0m\u001b[1;33m(\u001b[0m\u001b[0mnumero_passos\u001b[0m\u001b[1;33m)\u001b[0m\u001b[1;33m:\u001b[0m\u001b[1;33m\u001b[0m\u001b[1;33m\u001b[0m\u001b[0m\n\u001b[0;32m      7\u001b[0m      \u001b[1;31m# Simular colisões\u001b[0m\u001b[1;33m\u001b[0m\u001b[1;33m\u001b[0m\u001b[0m\n\u001b[1;32m----> 8\u001b[1;33m     \u001b[0msimular_reacao\u001b[0m\u001b[1;33m(\u001b[0m\u001b[0mlista_particulas\u001b[0m\u001b[1;33m,\u001b[0m \u001b[0mprobabilidade_reacao\u001b[0m\u001b[1;33m)\u001b[0m\u001b[1;33m\u001b[0m\u001b[1;33m\u001b[0m\u001b[0m\n\u001b[0m\u001b[0;32m      9\u001b[0m \u001b[1;33m\u001b[0m\u001b[0m\n\u001b[0;32m     10\u001b[0m     \u001b[1;31m# Atualizar posições e velocidades\u001b[0m\u001b[1;33m\u001b[0m\u001b[1;33m\u001b[0m\u001b[0m\n",
      "\u001b[1;32mC:\\JupyterLab\\4° Semestre\\Cinética química\\simulacao_cinetica_quimica\\Desafio 2 - Reações\\funcoes.py\u001b[0m in \u001b[0;36msimular_reacao\u001b[1;34m(lista_particulas, probabilidade_reacao)\u001b[0m\n\u001b[0;32m    150\u001b[0m \u001b[1;33m\u001b[0m\u001b[0m\n\u001b[0;32m    151\u001b[0m \u001b[1;31m#             valor_aleatorio = 0\u001b[0m\u001b[1;33m\u001b[0m\u001b[1;33m\u001b[0m\u001b[0m\n\u001b[1;32m--> 152\u001b[1;33m             \u001b[0mvalor_aleatorio\u001b[0m \u001b[1;33m=\u001b[0m \u001b[0mrandom\u001b[0m\u001b[1;33m.\u001b[0m\u001b[0mrandom\u001b[0m\u001b[1;33m(\u001b[0m\u001b[1;33m)\u001b[0m\u001b[1;33m\u001b[0m\u001b[1;33m\u001b[0m\u001b[0m\n\u001b[0m\u001b[0;32m    153\u001b[0m \u001b[1;33m\u001b[0m\u001b[0m\n\u001b[0;32m    154\u001b[0m             \u001b[1;32mif\u001b[0m \u001b[0mvalor_aleatorio\u001b[0m \u001b[1;33m<\u001b[0m \u001b[0mprobabilidade_reacao\u001b[0m\u001b[1;33m:\u001b[0m\u001b[1;33m\u001b[0m\u001b[1;33m\u001b[0m\u001b[0m\n",
      "\u001b[1;31mNameError\u001b[0m: name 'random' is not defined"
     ]
    }
   ],
   "source": [
    "lista_particulas = gerar_particulas(numero_particulas, RAIO, MASSA, tamanho_caixa, tipo)\n",
    "\n",
    "lista_atomos, lista_moleculas = [], []\n",
    "\n",
    "# Compute simulation (It takes some time if numero_passos and numero_particulas are large)\n",
    "for i in range(numero_passos):\n",
    "     # Simular colisões\n",
    "    simular_reacao(lista_particulas, probabilidade_reacao)\n",
    "\n",
    "    # Atualizar posições e velocidades\n",
    "    mudar_passo(lista_particulas, tempo_cada_passo, tamanho_caixa)\n",
    "    \n",
    "    a_count, m_count = 0, 0\n",
    "    \n",
    "    for particula in lista_particulas:\n",
    "        if particula.tipo == 'atomo':\n",
    "            a_count += 1\n",
    "        else:\n",
    "            m_count += 1\n",
    "    \n",
    "    lista_atomos.append(a_count)\n",
    "    lista_moleculas.append(m_count)\n",
    "\n",
    "plt.scatter(list(range(numero_passos)),lista_atomos,label='átomos')\n",
    "plt.scatter(list(range(numero_passos)),lista_moleculas,label='moléculas')\n",
    "plt.xlabel('Tempo')\n",
    "plt.ylabel('Número de partículas')\n",
    "plt.savefig('semajuste.png')\n",
    "plt.legend()\n",
    "plt.show()"
   ]
  },
  {
   "cell_type": "markdown",
   "id": "8951f67c-942c-458a-b574-a11ee52007b4",
   "metadata": {},
   "source": [
    "## Gerar animação da reação:"
   ]
  },
  {
   "cell_type": "code",
   "execution_count": null,
   "id": "608faf55-f36f-4fe0-8a6c-d1ce5e0351cf",
   "metadata": {},
   "outputs": [],
   "source": [
    "lista_atomos2, lista_moleculas2 = [], []\n",
    "\n",
    "def criar_animacao_simulacao_reacao(lista_particulas, tamanho_caixa, RAIO, NUM_STEPS, probabilidade_reacao):\n",
    "    fig, ax = plt.subplots(figsize=(10, 10))\n",
    "    ims = []\n",
    "\n",
    "    ax.set_xlim(0, tamanho_caixa)\n",
    "    ax.set_ylim(0, tamanho_caixa)\n",
    "    \n",
    "    ax.set_xticks([])\n",
    "    ax.set_yticks([])\n",
    "    ax.set_title('Simulação de Reação Química', fontsize=20)\n",
    "     \n",
    "    for k in range(NUM_STEPS):\n",
    "        # Chamando a função para simular reações\n",
    "        simular_reacao(lista_particulas, probabilidade_reacao)\n",
    "\n",
    "        # Desenha as partículas após a simulação de reação\n",
    "        circles = []\n",
    "        a_count, m_count = 0, 0\n",
    "        \n",
    "        for particula in lista_particulas:\n",
    "            if k < len(particula.todas_posicoes):\n",
    "                x = particula.todas_posicoes[k][0]\n",
    "                y = particula.todas_posicoes[k][1]\n",
    "                circle = plt.Circle((x, y), RAIO, fill=True, color='blue', edgecolor='black')\n",
    "                ax.add_artist(circle)\n",
    "                circles.append(circle)\n",
    "            \n",
    "            if particula.tipo == 'atomo':\n",
    "                a_count += 1\n",
    "            else:\n",
    "                m_count += 1\n",
    "        \n",
    "        lista_atomos2.append(a_count)\n",
    "        lista_moleculas2.append(m_count)\n",
    "        \n",
    "        ims.append(circles)\n",
    "\n",
    "    ani = animation.ArtistAnimation(fig, ims, interval=40, blit=True, repeat_delay=100)\n",
    "    writer = animation.PillowWriter(fps=10, bitrate=4000)\n",
    "    ani.save(\"resultados/simulacao_reacao.gif\", writer=writer, dpi=100)\n",
    "\n",
    "criar_animacao_simulacao_reacao(lista_particulas, tamanho_caixa, RAIO, numero_passos, probabilidade_reacao)"
   ]
  },
  {
   "cell_type": "markdown",
   "id": "46553d29-cfab-4bbd-8e7b-10b83c835a15",
   "metadata": {},
   "source": [
    "## Criando DataFrame para trabalhar com os dados:"
   ]
  },
  {
   "cell_type": "code",
   "execution_count": null,
   "id": "263d7e7f-a90c-4b54-849d-059cdaff0cd8",
   "metadata": {},
   "outputs": [],
   "source": [
    "lista = {'Atomos': lista_atomos, 'Moléculas': lista_moleculas, 'tempo': range(numero_passos)}\n",
    "\n",
    "print(len(lista_atomos))\n",
    "print(len(lista_moleculas))\n",
    "print(len(range(numero_passos)))\n",
    "\n",
    "\n",
    "df = pd.DataFrame(lista)\n",
    "\n",
    "atomodf = df['Atomos'] #df.iloc[0 : 70, 0]\n",
    "temporeagente = df['tempo'] #df.iloc[0:70, 2]\n",
    "\n",
    "produtodf = df.iloc[1 : 400, 1]\n",
    "tempoproduto = df.iloc[1 : 400, 2]\n",
    "\n"
   ]
  },
  {
   "cell_type": "markdown",
   "id": "e274569e-2d35-4ecf-a9b6-1bf44f5f40d7",
   "metadata": {},
   "source": [
    "## Fitagem com função exponencial:"
   ]
  },
  {
   "cell_type": "code",
   "execution_count": 20,
   "id": "0fd40d9a-89f4-48ff-9ca2-ba18b6036c12",
   "metadata": {
    "tags": []
   },
   "outputs": [
    {
     "name": "stderr",
     "output_type": "stream",
     "text": [
      "C:\\Users\\DANIEL~1\\AppData\\Local\\Temp/ipykernel_16720/1900547886.py:2: RuntimeWarning: overflow encountered in exp\n",
      "  return a * np.exp(-k * t)\n"
     ]
    },
    {
     "name": "stdout",
     "output_type": "stream",
     "text": [
      "O valor de k é: 0.0032777060057594606\n"
     ]
    },
    {
     "data": {
      "image/png": "[encoded data removed]",
      "text/plain": [
       "<Figure size 432x288 with 1 Axes>"
      ]
     },
     "metadata": {
      "needs_background": "light"
     },
     "output_type": "display_data"
    }
   ],
   "source": [
    "def exponencial(t, a, k):\n",
    "    return a * np.exp(-k * t)\n",
    "\n",
    "popt, _ = curve_fit(exponencial, temporeagente, atomodf)\n",
    "valores_fit_reagente = exponencial(temporeagente, *popt)\n",
    "\n",
    "k = popt[1]\n",
    "print(\"O valor de k é:\", k)\n",
    "\n",
    "plt.scatter(temporeagente, atomodf , label='Dados Originais (Reagente)')\n",
    "plt.plot(temporeagente, valores_fit_reagente, label='Ajuste dos dados com função Exponencial', color='red')\n",
    "plt.savefig('nome_do_arquivo.png')\n",
    "plt.xlabel('Número de partículas')\n",
    "plt.ylabel('Tempo')\n",
    "plt.legend()\n",
    "plt.show()"
   ]
  },
  {
   "cell_type": "markdown",
   "id": "830602e4-54fa-4e1d-98cf-5f3544139e12",
   "metadata": {},
   "source": [
    "## Fitagem com função logarítmica:"
   ]
  },
  {
   "cell_type": "code",
   "execution_count": null,
   "id": "a0f2048c-d7c8-4faf-b841-4e8769d9156d",
   "metadata": {},
   "outputs": [],
   "source": [
    "def logaritimica(x, a, b, c):\n",
    "    return a * np.log(b * x) + c\n",
    "\n",
    "popt, _ = curve_fit(logaritimica, tempoproduto, produtodf)\n",
    "valores_fit_produto = logaritimica(tempoproduto, *popt)\n",
    "\n",
    "b = popt[1]\n",
    "print(\"O valor de k é:\", b)\n",
    "\n",
    "plt.scatter(tempoproduto, produtodf , label='Dados Originais (produto)', color='green')\n",
    "plt.plot(tempoproduto, valores_fit_produto, label='Ajuste dos dados com função Exponencial', color='purple')\n",
    "plt.xlabel('Eixo X (rótulo)')\n",
    "plt.ylabel('Eixo Y (rótulo)')\n",
    "plt.legend()\n",
    "plt.show()"
   ]
  },
  {
   "cell_type": "code",
   "execution_count": null,
   "id": "da74da8b-1baa-4f8a-9d9e-db7a565b279d",
   "metadata": {},
   "outputs": [],
   "source": [
    "plt.scatter(temporeagente, atomodf , label='Dados Originais (reagente)')\n",
    "plt.plot(temporeagente, valores_fit_reagente, label='Dados ajustados com função Exponencial (reagente)', color='red')\n",
    "plt.scatter(tempoproduto, produtodf , label='Dados Originais (produto)', color='green')\n",
    "plt.plot(tempoproduto, valores_fit_produto, label='Dados ajustados com função Exponencial (produto)', color='purple')\n",
    "plt.xlabel('Tempo')\n",
    "plt.ylabel('Número de partículas')\n",
    "plt.legend()\n",
    "plt.savefig('dadosajustadaos.png')\n",
    "plt.show()\n"
   ]
  },
  {
   "cell_type": "markdown",
   "id": "19b3554f-74e3-4d9a-a75c-ab3f08d4549e",
   "metadata": {},
   "source": [
    "## Análise do Método da Velocidade Inicial:"
   ]
  },
  {
   "cell_type": "code",
   "execution_count": null,
   "id": "c7f9f033-fc0b-4804-8dfb-a1dc9a550667",
   "metadata": {},
   "outputs": [],
   "source": [
    "# Vlor de K pela quantidade de partículas iniciais\n",
    "# Initial rate method"
   ]
  },
  {
   "cell_type": "code",
   "execution_count": null,
   "id": "dee7feaf-1d56-49cf-af0d-ba38d1a2ecc5",
   "metadata": {
    "tags": []
   },
   "outputs": [],
   "source": [
    "numero_particulas = [20, 60, 100] #, 140, 180, 200]\n",
    "\n",
    "parametros_ajustados = []\n",
    "valores_ajustados = []\n",
    "valores_iniciais = []\n",
    "\n",
    "for num_particulas in numero_particulas:\n",
    "    lista_particulas = gerar_particulas(num_particulas, RAIO, MASSA, tamanho_caixa, tipo)\n",
    "    lista_atomos =  []\n",
    "\n",
    "    # Compute simulation\n",
    "    for i in range(numero_passos):\n",
    "        # Simular colisões\n",
    "        simular_reacao(lista_particulas, probabilidade_reacao)\n",
    "\n",
    "        # Atualizar posições e velocidades\n",
    "        mudar_passo(lista_particulas, tempo_cada_passo, tamanho_caixa)\n",
    "\n",
    "        a_count, m_count = 0, 0\n",
    "\n",
    "        for particula in lista_particulas:\n",
    "            if particula.tipo == 'atomo':\n",
    "                a_count += 1\n",
    "\n",
    "        lista_atomos.append(a_count)\n",
    "       \n",
    "    temporeagente = range(numero_passos)  \n",
    "    atomodf = lista_atomos  \n",
    "    valores_iniciais.append(atomodf)\n",
    "    \n",
    "    popt, _ = curve_fit(exponencial, temporeagente, atomodf)\n",
    "    parametros_ajustados.append(popt)\n",
    "    valores_fit_reagente = exponencial(temporeagente, *popt)\n",
    "    valores_ajustados.append(valores_fit_reagente)\n",
    "\n",
    "\n",
    "for i, popt in enumerate(parametros_ajustados):\n",
    "    print(f\"Para N = {numero_particulas[i]}, os parâmetros ajustados são: k={popt[1]}\")\n",
    "\n",
    "\n",
    "plt.figure(figsize=(10, 5))\n",
    "for i, num_particulas in enumerate(numero_particulas):\n",
    "    plt.plot(temporeagente, valores_ajustados[i], label=f'N = {num_particulas}')\n",
    "    \n",
    "for dados in valores_iniciais:\n",
    "    plt.scatter(temporeagente, dados, s=10)\n",
    "\n",
    "plt.xlabel('Número de partículas')\n",
    "plt.ylabel('Tempo')\n",
    "plt.legend()\n",
    "plt.savefig('concentracaoinicial.png')\n",
    "plt.show()"
   ]
  },
  {
   "cell_type": "markdown",
   "id": "9a561106-7d65-4b8c-be5b-fe6f1f8ff531",
   "metadata": {},
   "source": [
    "## Mudar a probabilidade:"
   ]
  },
  {
   "cell_type": "code",
   "execution_count": 35,
   "id": "05c7322a-fddf-455a-9259-965a4e0a8b79",
   "metadata": {},
   "outputs": [
    {
     "name": "stderr",
     "output_type": "stream",
     "text": [
      "C:\\Users\\DANIEL~1\\AppData\\Local\\Temp/ipykernel_16720/883408267.py:2: RuntimeWarning: overflow encountered in exp\n",
      "  return a * np.exp(-k * t)\n",
      "C:\\Users\\DANIEL~1\\AppData\\Local\\Temp/ipykernel_16720/883408267.py:2: RuntimeWarning: overflow encountered in multiply\n",
      "  return a * np.exp(-k * t)\n"
     ]
    },
    {
     "name": "stdout",
     "output_type": "stream",
     "text": [
      "Para probabilidade_reacao = 0.1, o parâmetro ajustado k=96.54851224299966\n",
      "Para probabilidade_reacao = 0.3, o parâmetro ajustado k=93.73501001393028\n",
      "Para probabilidade_reacao = 0.5, o parâmetro ajustado k=90.1007850261722\n",
      "Para probabilidade_reacao = 0.7, o parâmetro ajustado k=87.76598121513854\n",
      "Para probabilidade_reacao = 0.9, o parâmetro ajustado k=80.85004263339322\n"
     ]
    },
    {
     "data": {
      "image/png": "[encoded data removed]",
      "text/plain": [
       "<Figure size 576x360 with 1 Axes>"
      ]
     },
     "metadata": {
      "needs_background": "light"
     },
     "output_type": "display_data"
    }
   ],
   "source": [
    "def exponencial(t, a, k):\n",
    "    return a * np.exp(-k * t)\n",
    "\n",
    "# Definir as probabilidades de reação a serem testadas\n",
    "probabilidades_reacao = [0.1, 0.3, 0.5, 0.7, 0.9]\n",
    "\n",
    "parametros_ajustados = []\n",
    "valores_ajustados = []\n",
    "valores_iniciais = []\n",
    "\n",
    "for probabilidade_reacao in probabilidades_reacao:\n",
    "    \n",
    "#     print(probabilidade_reacao)\n",
    "    \n",
    "    lista_particulas = gerar_particulas(numero_particulas, RAIO, MASSA, tamanho_caixa, tipo)\n",
    "    lista_atomos =  []\n",
    "\n",
    "    # Compute simulation\n",
    "    for i in range(numero_passos):\n",
    "        # Simular colisões\n",
    "        simular_reacao(lista_particulas, probabilidade_reacao, tempo_cada_passo)\n",
    "\n",
    "        # Atualizar posições e velocidades\n",
    "        mudar_passo(lista_particulas, tempo_cada_passo, tamanho_caixa)\n",
    "\n",
    "        a_count, m_count = 0, 0\n",
    "\n",
    "        for particula in lista_particulas:\n",
    "            if particula.tipo == 'atomo':\n",
    "                a_count += 1\n",
    "\n",
    "        lista_atomos.append(a_count)\n",
    "\n",
    "    temporeagente = range(numero_passos)\n",
    "    valores_iniciais.append(lista_atomos)\n",
    "    \n",
    "    popt, _ = curve_fit(exponencial, temporeagente, lista_atomos)\n",
    "    valores_fit_reagente = exponencial(temporeagente, *popt)\n",
    "\n",
    "    valores_ajustados.append(valores_fit_reagente)\n",
    "    parametros_ajustados.append(popt)\n",
    "\n",
    "for i, popt in enumerate(parametros_ajustados):\n",
    "    print(f\"Para probabilidade_reacao = {probabilidades_reacao[i]}, o parâmetro ajustado k={popt[0]}\")\n",
    "\n",
    "plt.figure(figsize=(8, 5))\n",
    "for i, probabilidade_reacao in enumerate(probabilidades_reacao):\n",
    "    plt.plot(temporeagente, valores_ajustados[i], label=f'Prob. Reação = {probabilidade_reacao}')\n",
    "\n",
    "for dados in valores_iniciais:\n",
    "    plt.scatter(temporeagente, dados, s=10)\n",
    "\n",
    "plt.ylabel('Número de partículas')\n",
    "plt.xlabel('Tempo')\n",
    "plt.xlim(0,50)\n",
    "plt.legend()\n",
    "plt.savefig('concentracaoinicial.png')\n",
    "plt.show()"
   ]
  },
  {
   "cell_type": "code",
   "execution_count": 32,
   "id": "39176ea2-9cae-494d-be50-db578112bf17",
   "metadata": {},
   "outputs": [],
   "source": [
    "k_list = []\n",
    "for parametro in parametros_ajustados:\n",
    "    k_list.append(parametro[0])"
   ]
  },
  {
   "cell_type": "code",
   "execution_count": 33,
   "id": "22e7ffd7-9199-48cc-a5d2-057cf89feb38",
   "metadata": {},
   "outputs": [
    {
     "data": {
      "text/plain": [
       "(Text(0.5, 0, 'Probabilidade de reação'), Text(0, 0.5, 'Coeficiente k'))"
      ]
     },
     "execution_count": 33,
     "metadata": {},
     "output_type": "execute_result"
    },
    {
     "data": {
      "image/png": "[encoded data removed]",
      "text/plain": [
       "<Figure size 432x288 with 1 Axes>"
      ]
     },
     "metadata": {
      "needs_background": "light"
     },
     "output_type": "display_data"
    }
   ],
   "source": [
    "plt.scatter(probabilidades_reacao[::-1],k_list)\n",
    "plt.xlabel('Probabilidade de reação'),plt.ylabel('Coeficiente k')"
   ]
  },
  {
   "cell_type": "code",
   "execution_count": null,
   "id": "4b1e68a3-2a67-4e0a-a570-33a3ca191581",
   "metadata": {},
   "outputs": [],
   "source": []
  }
 ],
 "metadata": {
  "kernelspec": {
   "display_name": "ilumpy",
   "language": "python",
   "name": "ilumpy"
  },
  "language_info": {
   "codemirror_mode": {
    "name": "ipython",
    "version": 3
   },
   "file_extension": ".py",
   "mimetype": "text/x-python",
   "name": "python",
   "nbconvert_exporter": "python",
   "pygments_lexer": "ipython3",
   "version": "3.9.7"
  }
 },
 "nbformat": 4,
 "nbformat_minor": 5
}

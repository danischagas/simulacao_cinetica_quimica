{
 "cells": [
  {
   "cell_type": "markdown",
   "id": "1417556c-d9eb-4a18-9265-85b982e21ee3",
   "metadata": {},
   "source": [
    "## Importações:"
   ]
  },
  {
   "cell_type": "code",
   "execution_count": 1,
   "id": "206185ca-ce53-4077-b2f2-5c5765311490",
   "metadata": {},
   "outputs": [],
   "source": [
    "import numpy as np\n",
    "import random as rd\n",
    "import matplotlib.pyplot as plt\n",
    "from matplotlib.patches import Circle\n",
    "import matplotlib.animation as animation\n",
    "from itertools import combinations\n",
    "from scipy.interpolate import interp1d\n",
    "plt.style.use('seaborn-bright')"
   ]
  },
  {
   "cell_type": "code",
   "execution_count": 2,
   "id": "8a52a156-064b-4db8-994e-18e4eb40b8ee",
   "metadata": {},
   "outputs": [],
   "source": [
    "from funcoes import Particula, mudar_passo, gerar_particulas, simular_reacao"
   ]
  },
  {
   "cell_type": "markdown",
   "id": "64e60c82-c036-4606-a3e7-ac56d0703669",
   "metadata": {},
   "source": [
    "## Realiza simulação:"
   ]
  },
  {
   "cell_type": "code",
   "execution_count": 10,
   "id": "7c8aee18-0637-43d6-b7cc-22045f248725",
   "metadata": {},
   "outputs": [],
   "source": [
    "#Parâmetros da simulação:\n",
    "\n",
    "numero_particulas = 100\n",
    "tamanho_caixa = 100\n",
    "RAIO = 0.5\n",
    "MASSA = 1\n",
    "probabilidade_reacao = 0.3\n",
    "tipo = 'atomo'\n",
    "\n",
    "tempo_final = 10\n",
    "numero_passos = 75\n",
    "tempo_cada_passo = tempo_final/numero_passos\n",
    "\n",
    "lista_particulas = gerar_particulas(numero_particulas, RAIO, MASSA, tamanho_caixa, tipo)"
   ]
  },
  {
   "cell_type": "markdown",
   "id": "77a09914-72a3-4091-a2c7-425d590aa8a9",
   "metadata": {},
   "source": [
    "## Resultados:"
   ]
  },
  {
   "cell_type": "markdown",
   "id": "39cc0d14-d446-43c8-8182-101c7aadf46a",
   "metadata": {},
   "source": [
    "--------------------------"
   ]
  },
  {
   "cell_type": "markdown",
   "id": "d3d229af-0be0-4df6-8c10-15b328242eed",
   "metadata": {},
   "source": [
    "## Simulação da reação química:"
   ]
  },
  {
   "cell_type": "markdown",
   "id": "6a709a26-85df-4bba-a2d6-ca26f6101750",
   "metadata": {},
   "source": [
    "- Se ocorre uma reação ela é necessariamente \n",
    "- Tem conservação de massa?\n",
    "- Eu preciso que em algum lugar seja definido o tipo das partículas para eu conseguir fazer um if \n",
    "- talvez transformar nossa partícula em uma matriz igual do amauri e tirar o resto das classes\n",
    "- precisa atualizar a matriz de partículas \n",
    "- verificar se há colisão\n",
    "- Testar se é melhor fazer uma nova classe 'molécula' ou usar 'nova_particula = Particula(nova_massa, novo_raio, nova_posicao, nova_velocidade, tipo)\n",
    "- Checar se a conservação de volume está no livro\n",
    "- Tirar uma das partículas e gerar uma nova a partir da outra\n",
    "- Usar o itertools (tem uma função que não repete) para usar o particula1 com particula2\n",
    "- itertools.combinations"
   ]
  },
  {
   "cell_type": "code",
   "execution_count": 11,
   "id": "cfc9dffa-1253-466e-8c73-5f0357b3c940",
   "metadata": {},
   "outputs": [
    {
     "data": {
      "text/plain": [
       "<matplotlib.legend.Legend at 0x179fc9691c0>"
      ]
     },
     "execution_count": 11,
     "metadata": {},
     "output_type": "execute_result"
    },
    {
     "data": {
      "image/png": "[encoded data removed]",
      "text/plain": [
       "<Figure size 432x288 with 1 Axes>"
      ]
     },
     "metadata": {
      "needs_background": "light"
     },
     "output_type": "display_data"
    }
   ],
   "source": [
    "#Parâmetros da simulação:\n",
    "\n",
    "numero_particulas = 50\n",
    "tamanho_caixa = 50\n",
    "RAIO = 2\n",
    "MASSA = 1\n",
    "probabilidade_reacao = 0.3\n",
    "tipo = 'atomo'\n",
    "\n",
    "tempo_final = 10\n",
    "numero_passos = 100\n",
    "tempo_cada_passo = tempo_final/numero_passos\n",
    "\n",
    "lista_particulas = gerar_particulas(numero_particulas, RAIO, MASSA, tamanho_caixa, tipo)\n",
    "\n",
    "lista_atomos, lista_moleculas = [], []\n",
    "\n",
    "# Compute simulation (It takes some time if numero_passos and numero_particulas are large)\n",
    "for i in range(numero_passos):\n",
    "     # Simular colisões\n",
    "    simular_reacao(lista_particulas, probabilidade_reacao)\n",
    "\n",
    "    # Atualizar posições e velocidades\n",
    "    mudar_passo(lista_particulas, tempo_cada_passo, tamanho_caixa)\n",
    "    \n",
    "    a_count, m_count = 0, 0\n",
    "    \n",
    "    for particula in lista_particulas:\n",
    "        if particula.tipo == 'atomo':\n",
    "            a_count += 1\n",
    "        else:\n",
    "            m_count += 1\n",
    "    \n",
    "    lista_atomos.append(a_count)\n",
    "    lista_moleculas.append(m_count)\n",
    "\n",
    "plt.scatter(list(range(numero_passos)),lista_atomos,label='átomos')\n",
    "plt.scatter(list(range(numero_passos)),lista_moleculas,label='moléculas')\n",
    "plt.legend()"
   ]
  },
  {
   "cell_type": "markdown",
   "id": "8951f67c-942c-458a-b574-a11ee52007b4",
   "metadata": {},
   "source": [
    "## Gerar animação da reação:"
   ]
  },
  {
   "cell_type": "code",
   "execution_count": 12,
   "id": "608faf55-f36f-4fe0-8a6c-d1ce5e0351cf",
   "metadata": {},
   "outputs": [
    {
     "name": "stderr",
     "output_type": "stream",
     "text": [
      "C:\\Users\\DANIEL~1\\AppData\\Local\\Temp/ipykernel_15664/4241441249.py:26: UserWarning: Setting the 'color' property will override the edgecolor or facecolor properties.\n",
      "  circle = plt.Circle((x, y), RAIO, fill=True, color='blue', edgecolor='black')\n"
     ]
    },
    {
     "data": {
      "image/png": "[encoded data removed]",
      "text/plain": [
       "<Figure size 720x720 with 1 Axes>"
      ]
     },
     "metadata": {},
     "output_type": "display_data"
    }
   ],
   "source": [
    "lista_atomos, lista_moleculas = [], []\n",
    "\n",
    "def criar_animacao_simulacao_reacao(lista_particulas, tamanho_caixa, RAIO, NUM_STEPS, probabilidade_reacao):\n",
    "    fig, ax = plt.subplots(figsize=(10, 10))\n",
    "    ims = []\n",
    "\n",
    "    ax.set_xlim(0, tamanho_caixa)\n",
    "    ax.set_ylim(0, tamanho_caixa)\n",
    "    \n",
    "    ax.set_xticks([])\n",
    "    ax.set_yticks([])\n",
    "    ax.set_title('Simulação de Reação Química', fontsize=20)\n",
    "     \n",
    "    for k in range(NUM_STEPS):\n",
    "        # Chamando a função para simular reações\n",
    "        simular_reacao(lista_particulas, probabilidade_reacao)\n",
    "\n",
    "        # Desenha as partículas após a simulação de reação\n",
    "        circles = []\n",
    "        a_count, m_count = 0, 0\n",
    "        \n",
    "        for particula in lista_particulas:\n",
    "            if k < len(particula.todas_posicoes):\n",
    "                x = particula.todas_posicoes[k][0]\n",
    "                y = particula.todas_posicoes[k][1]\n",
    "                circle = plt.Circle((x, y), RAIO, fill=True, color='blue', edgecolor='black')\n",
    "                ax.add_artist(circle)\n",
    "                circles.append(circle)\n",
    "            \n",
    "            if particula.tipo == 'atomo':\n",
    "                a_count += 1\n",
    "            else:\n",
    "                m_count += 1\n",
    "        \n",
    "        lista_atomos.append(a_count)\n",
    "        lista_moleculas.append(m_count)\n",
    "        \n",
    "        ims.append(circles)\n",
    "\n",
    "    ani = animation.ArtistAnimation(fig, ims, interval=40, blit=True, repeat_delay=100)\n",
    "    writer = animation.PillowWriter(fps=10, bitrate=4000)\n",
    "    ani.save(\"resultados/simulacao_reacao.gif\", writer=writer, dpi=100)\n",
    "\n",
    "criar_animacao_simulacao_reacao(lista_particulas, tamanho_caixa, RAIO, numero_passos, probabilidade_reacao)"
   ]
  },
  {
   "cell_type": "markdown",
   "id": "e023bcf3-d22d-4aaf-bf69-3d5be04e1566",
   "metadata": {},
   "source": [
    "## Gráfico da derivada da concentração por tempo:"
   ]
  },
  {
   "cell_type": "code",
   "execution_count": 15,
   "id": "f1d8c732-073f-467e-a9cd-cce2f93b3c09",
   "metadata": {},
   "outputs": [
    {
     "ename": "NameError",
     "evalue": "name 'tempo_novo' is not defined",
     "output_type": "error",
     "traceback": [
      "\u001b[1;31m---------------------------------------------------------------------------\u001b[0m",
      "\u001b[1;31mNameError\u001b[0m                                 Traceback (most recent call last)",
      "\u001b[1;32mC:\\Users\\DANIEL~1\\AppData\\Local\\Temp/ipykernel_15664/3721011653.py\u001b[0m in \u001b[0;36m<module>\u001b[1;34m\u001b[0m\n\u001b[0;32m      1\u001b[0m \u001b[1;31m# Calcular a diferença no tempo (assumindo que o intervalo de tempo é constante)\u001b[0m\u001b[1;33m\u001b[0m\u001b[1;33m\u001b[0m\u001b[0m\n\u001b[1;32m----> 2\u001b[1;33m \u001b[0mdelta_t_novo\u001b[0m \u001b[1;33m=\u001b[0m \u001b[0mtempo_novo\u001b[0m\u001b[1;33m[\u001b[0m\u001b[1;36m1\u001b[0m\u001b[1;33m]\u001b[0m \u001b[1;33m-\u001b[0m \u001b[0mtempo_novo\u001b[0m\u001b[1;33m[\u001b[0m\u001b[1;36m0\u001b[0m\u001b[1;33m]\u001b[0m\u001b[1;33m\u001b[0m\u001b[1;33m\u001b[0m\u001b[0m\n\u001b[0m\u001b[0;32m      3\u001b[0m \u001b[1;33m\u001b[0m\u001b[0m\n\u001b[0;32m      4\u001b[0m \u001b[1;31m# Calcular a derivada da concentração ajustada\u001b[0m\u001b[1;33m\u001b[0m\u001b[1;33m\u001b[0m\u001b[0m\n\u001b[0;32m      5\u001b[0m \u001b[0mvelocidade_reacao_ajustada\u001b[0m \u001b[1;33m=\u001b[0m \u001b[0mnp\u001b[0m\u001b[1;33m.\u001b[0m\u001b[0mgradient\u001b[0m\u001b[1;33m(\u001b[0m\u001b[0mconcentracao_ajustada\u001b[0m\u001b[1;33m,\u001b[0m \u001b[0mdelta_t_novo\u001b[0m\u001b[1;33m)\u001b[0m\u001b[1;33m\u001b[0m\u001b[1;33m\u001b[0m\u001b[0m\n",
      "\u001b[1;31mNameError\u001b[0m: name 'tempo_novo' is not defined"
     ]
    }
   ],
   "source": [
    "# Calcular a diferença no tempo (assumindo que o intervalo de tempo é constante)\n",
    "delta_t_novo = tempo_novo[1] - tempo_novo[0]\n",
    "\n",
    "# Calcular a derivada da concentração ajustada\n",
    "velocidade_reacao_ajustada = np.gradient(concentracao_ajustada, delta_t_novo)\n",
    "\n",
    "# taxa de variação da concentração de átomos ajustada em função do tempo\n",
    "# A velocidade de reação ajustada é d[atomos]/dtempo\n",
    "\n",
    "# plotando a velocidade de reação ajustada\n",
    "import matplotlib.pyplot as plt\n",
    "\n",
    "plt.figure(figsize=(10, 6))\n",
    "plt.plot(tempo_novo[:-1], velocidade_reacao_ajustada, '-', label='Velocidade de Reação Ajustada')\n",
    "plt.legend()\n",
    "plt.title('Velocidade de Reação Ajustada')\n",
    "plt.xlabel('Tempo')\n",
    "plt.ylabel('Velocidade de Reação')\n",
    "plt.show()"
   ]
  },
  {
   "cell_type": "markdown",
   "id": "e274569e-2d35-4ecf-a9b6-1bf44f5f40d7",
   "metadata": {},
   "source": [
    "## Fitagem com Spline Cúbica:"
   ]
  },
  {
   "cell_type": "code",
   "execution_count": 9,
   "id": "ff11fca0-e53d-4339-8491-c1b63b6007de",
   "metadata": {},
   "outputs": [
    {
     "data": {
      "image/png": "[encoded data removed]",
      "text/plain": [
       "<Figure size 720x432 with 1 Axes>"
      ]
     },
     "metadata": {
      "needs_background": "light"
     },
     "output_type": "display_data"
    }
   ],
   "source": [
    "# Tempo e concentração de átomos\n",
    "tempo = np.arange(numero_passos)\n",
    "\n",
    "# Interpolação utilizando spline cúbica\n",
    "f = interp1d(tempo, concentracao_atomos, kind='cubic')\n",
    "\n",
    "# Novos pontos de tempo para a curva ajustada \n",
    "tempo_novo = np.linspace(tempo.min(), tempo.max(), 1000)\n",
    "\n",
    "# Avaliação da função ajustada\n",
    "concentracao_ajustada = f(tempo_novo)\n",
    "\n",
    "# Agora você tem a concentração ajustada em função do tempo\n",
    "\n",
    "# plotar os dados e a curva ajustada\n",
    "import matplotlib.pyplot as plt\n",
    "\n",
    "plt.figure(figsize=(10, 6))\n",
    "plt.plot(tempo, concentracao_atomos, 'o', label='Dados Originais')\n",
    "plt.plot(tempo_novo, concentracao_ajustada, '-', label='Ajuste com Spline Cúbica')\n",
    "plt.legend()\n",
    "plt.title('Ajuste com Spline Cúbica')\n",
    "plt.xlabel('Tempo')\n",
    "plt.ylabel('Concentração de Átomos')\n",
    "plt.show()\n"
   ]
  }
 ],
 "metadata": {
  "kernelspec": {
   "display_name": "ilumpy",
   "language": "python",
   "name": "ilumpy"
  },
  "language_info": {
   "codemirror_mode": {
    "name": "ipython",
    "version": 3
   },
   "file_extension": ".py",
   "mimetype": "text/x-python",
   "name": "python",
   "nbconvert_exporter": "python",
   "pygments_lexer": "ipython3",
   "version": "3.9.7"
  }
 },
 "nbformat": 4,
 "nbformat_minor": 5
}

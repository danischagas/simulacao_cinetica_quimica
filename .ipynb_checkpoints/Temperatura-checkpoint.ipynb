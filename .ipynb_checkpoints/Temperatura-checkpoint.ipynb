{
 "cells": [
  {
   "cell_type": "markdown",
   "id": "1417556c-d9eb-4a18-9265-85b982e21ee3",
   "metadata": {},
   "source": [
    "## Importações:"
   ]
  },
  {
   "cell_type": "code",
   "execution_count": 1,
   "id": "206185ca-ce53-4077-b2f2-5c5765311490",
   "metadata": {},
   "outputs": [],
   "source": [
    "import numpy as np\n",
    "import random as rd\n",
    "import matplotlib.pyplot as plt\n",
    "from matplotlib.patches import Circle\n",
    "import matplotlib.animation as animation\n",
    "from itertools import combinations\n",
    "from scipy.optimize import curve_fit\n",
    "#from scipy.interpolate import interp1d\n",
    "plt.style.use('seaborn-bright')\n",
    "import pandas as pd\n",
    "import math"
   ]
  },
  {
   "cell_type": "code",
   "execution_count": 2,
   "id": "8a52a156-064b-4db8-994e-18e4eb40b8ee",
   "metadata": {},
   "outputs": [],
   "source": [
    "from funcoes import Particula, mudar_passo, gerar_particulas_dois_sistemas, simular_reacao, exponencial"
   ]
  },
  {
   "cell_type": "markdown",
   "id": "d2f1ef11-7c71-4d65-9324-5d631ee67853",
   "metadata": {
    "tags": []
   },
   "source": [
    "## Fluxograma do código:\n",
    "\n",
    "Todo o nosso trabalho é para girar em torno da equação de Arhhenius, que determina a energia de ativação e a temperatura do sistema. \n",
    "\n",
    "- Definir a equação de arhenius;\n",
    "- Fazer o plot;\n",
    "- Fitar a curva;\n",
    "- Através dela obter as energias de ativações de cada sistema;\n",
    "- Determinar um catalisador para o problema (como?);\n",
    "- Gerar o gráfico de coordenada de reação por energia de ativação com duas linhas de plot: com catalisador e sem catalisador;\n",
    "- Como lidar com a parte estereoquímica?\n",
    "- Fazer gráficos separados (como cada um dos componentes muda a velocidade de reação e depois como os três juntos interferem comparado com o do desafio passado.\n"
   ]
  },
  {
   "cell_type": "markdown",
   "id": "cb777b78-799f-4825-b159-bca19a732198",
   "metadata": {
    "tags": []
   },
   "source": [
    "# Simulando o sistema:"
   ]
  },
  {
   "cell_type": "markdown",
   "id": "c76bbafe-a127-4853-b3b3-5589d0f3a03a",
   "metadata": {
    "tags": []
   },
   "source": [
    "## Parâmetros da simulação:"
   ]
  },
  {
   "cell_type": "code",
   "execution_count": 3,
   "id": "b1a9a531-e225-41d0-ad57-760ba04c5856",
   "metadata": {},
   "outputs": [],
   "source": [
    "#Parâmetros da simulação:\n",
    "\n",
    "numero_particulas = 100\n",
    "tamanho_caixa = 50\n",
    "RAIO = 0.5\n",
    "MASSA = 1\n",
    "probabilidade_reacao = 0.7\n",
    "tipo = 'atomo'\n",
    "\n",
    "tempo_final = 50\n",
    "numero_passos = 400\n",
    "tempo_cada_passo = tempo_final/numero_passos"
   ]
  },
  {
   "cell_type": "markdown",
   "id": "c6f302af-ed33-4874-bae7-1c19878e2c28",
   "metadata": {
    "tags": []
   },
   "source": [
    "## Simulação da reação química:"
   ]
  },
  {
   "cell_type": "code",
   "execution_count": 8,
   "id": "184571c8-5ec8-41f8-9549-4e317012647a",
   "metadata": {
    "tags": []
   },
   "outputs": [
    {
     "data": {
      "image/png": "[encoded data removed]",
      "text/plain": [
       "<Figure size 432x288 with 1 Axes>"
      ]
     },
     "metadata": {
      "needs_background": "light"
     },
     "output_type": "display_data"
    }
   ],
   "source": [
    "lista_particulas_sistema1, lista_particulas_sistema2 = gerar_particulas_dois_sistemas(numero_particulas, RAIO, MASSA, tamanho_caixa, tipo)\n",
    "\n",
    "lista_reagentes_sistema1, lista_produtos_sistema1 = [], []\n",
    "lista_reagentes_sistema2, lista_produtos_sistema2 = [], []\n",
    "\n",
    "# Compute simulation (It takes some time if numero_passos and numero_particulas are large)\n",
    "for i in range(numero_passos):\n",
    "     # Simular colisões\n",
    "    simular_reacao(lista_particulas_sistema1, probabilidade_reacao)\n",
    "\n",
    "    # Atualizar posições e velocidades\n",
    "    mudar_passo(lista_particulas_sistema1, tempo_cada_passo, tamanho_caixa)\n",
    "    \n",
    "    a_count, m_count = 0, 0\n",
    "    \n",
    "    for particula in lista_particulas_sistema1:\n",
    "        if particula.tipo == 'atomo':\n",
    "            a_count += 1\n",
    "        else:\n",
    "            m_count += 1\n",
    "    \n",
    "    lista_reagentes_sistema1.append(a_count)\n",
    "    lista_produtos_sistema1.append(m_count)\n",
    "    \n",
    "    # Simular colisões para o sistema 2\n",
    "    simular_reacao(lista_particulas_sistema2, probabilidade_reacao)\n",
    "    # Atualizar posições e velocidades para o sistema 2\n",
    "    mudar_passo(lista_particulas_sistema2, tempo_cada_passo, tamanho_caixa)\n",
    "    \n",
    "    a_count, m_count = 0, 0\n",
    "    for particula in lista_particulas_sistema2:\n",
    "        if particula.tipo == 'atomo':\n",
    "            a_count += 1\n",
    "        else:\n",
    "            m_count += 1\n",
    "    lista_reagentes_sistema2.append(a_count)\n",
    "    lista_produtos_sistema2.append(m_count)\n",
    "    \n",
    "\n",
    "plt.scatter(list(range(numero_passos)),lista_reagentes_sistema1,label='Reagentes sistema 1')\n",
    "plt.scatter(list(range(numero_passos)),lista_reagentes_sistema2,label='Reagentes sistema 2')\n",
    "plt.xlabel('Tempo')\n",
    "plt.ylabel('Número de partículas')\n",
    "\n",
    "plt.legend()\n",
    "plt.savefig('Simulação_reagentes_doissistemas.png')\n",
    "plt.show()"
   ]
  },
  {
   "cell_type": "markdown",
   "id": "7398d0d0-30f9-45eb-97ff-a03548880cf4",
   "metadata": {},
   "source": [
    "## Dataframe:"
   ]
  },
  {
   "cell_type": "code",
   "execution_count": 9,
   "id": "597b5ead-4150-4d67-8928-20ffe125bac2",
   "metadata": {},
   "outputs": [
    {
     "name": "stdout",
     "output_type": "stream",
     "text": [
      "400\n",
      "400\n",
      "400\n"
     ]
    }
   ],
   "source": [
    "lista = {'Reagentes sistema 1': lista_reagentes_sistema1, 'Reagentes sistema 2': lista_reagentes_sistema2, 'tempo': range(numero_passos)}\n",
    "\n",
    "print(len(lista_reagentes_sistema1))\n",
    "print(len(lista_reagentes_sistema1))\n",
    "print(len(range(numero_passos)))\n",
    "\n",
    "\n",
    "df = pd.DataFrame(lista)\n",
    "\n",
    "sistema1_df = df['Reagentes sistema 1'] #df.iloc[0 : 70, 0]\n",
    "sistema2_df = df['Reagentes sistema 2'] #df.iloc[0 : 70, 0]\n",
    "temporeacao = df['tempo'] #df.iloc[0:70, 2]"
   ]
  },
  {
   "cell_type": "code",
   "execution_count": 10,
   "id": "9f03a319-3a9e-4c01-8bbc-a92ded4dcdd8",
   "metadata": {},
   "outputs": [
    {
     "data": {
      "text/html": [
       "<div>\n",
       "<style scoped>\n",
       "    .dataframe tbody tr th:only-of-type {\n",
       "        vertical-align: middle;\n",
       "    }\n",
       "\n",
       "    .dataframe tbody tr th {\n",
       "        vertical-align: top;\n",
       "    }\n",
       "\n",
       "    .dataframe thead th {\n",
       "        text-align: right;\n",
       "    }\n",
       "</style>\n",
       "<table border=\"1\" class=\"dataframe\">\n",
       "  <thead>\n",
       "    <tr style=\"text-align: right;\">\n",
       "      <th></th>\n",
       "      <th>Reagentes sistema 1</th>\n",
       "      <th>Reagentes sistema 2</th>\n",
       "      <th>tempo</th>\n",
       "    </tr>\n",
       "  </thead>\n",
       "  <tbody>\n",
       "    <tr>\n",
       "      <th>0</th>\n",
       "      <td>94</td>\n",
       "      <td>94</td>\n",
       "      <td>0</td>\n",
       "    </tr>\n",
       "    <tr>\n",
       "      <th>1</th>\n",
       "      <td>92</td>\n",
       "      <td>92</td>\n",
       "      <td>1</td>\n",
       "    </tr>\n",
       "    <tr>\n",
       "      <th>2</th>\n",
       "      <td>90</td>\n",
       "      <td>90</td>\n",
       "      <td>2</td>\n",
       "    </tr>\n",
       "    <tr>\n",
       "      <th>3</th>\n",
       "      <td>88</td>\n",
       "      <td>88</td>\n",
       "      <td>3</td>\n",
       "    </tr>\n",
       "    <tr>\n",
       "      <th>4</th>\n",
       "      <td>86</td>\n",
       "      <td>86</td>\n",
       "      <td>4</td>\n",
       "    </tr>\n",
       "    <tr>\n",
       "      <th>...</th>\n",
       "      <td>...</td>\n",
       "      <td>...</td>\n",
       "      <td>...</td>\n",
       "    </tr>\n",
       "    <tr>\n",
       "      <th>395</th>\n",
       "      <td>16</td>\n",
       "      <td>28</td>\n",
       "      <td>395</td>\n",
       "    </tr>\n",
       "    <tr>\n",
       "      <th>396</th>\n",
       "      <td>16</td>\n",
       "      <td>28</td>\n",
       "      <td>396</td>\n",
       "    </tr>\n",
       "    <tr>\n",
       "      <th>397</th>\n",
       "      <td>14</td>\n",
       "      <td>28</td>\n",
       "      <td>397</td>\n",
       "    </tr>\n",
       "    <tr>\n",
       "      <th>398</th>\n",
       "      <td>14</td>\n",
       "      <td>28</td>\n",
       "      <td>398</td>\n",
       "    </tr>\n",
       "    <tr>\n",
       "      <th>399</th>\n",
       "      <td>14</td>\n",
       "      <td>28</td>\n",
       "      <td>399</td>\n",
       "    </tr>\n",
       "  </tbody>\n",
       "</table>\n",
       "<p>400 rows × 3 columns</p>\n",
       "</div>"
      ],
      "text/plain": [
       "     Reagentes sistema 1  Reagentes sistema 2  tempo\n",
       "0                     94                   94      0\n",
       "1                     92                   92      1\n",
       "2                     90                   90      2\n",
       "3                     88                   88      3\n",
       "4                     86                   86      4\n",
       "..                   ...                  ...    ...\n",
       "395                   16                   28    395\n",
       "396                   16                   28    396\n",
       "397                   14                   28    397\n",
       "398                   14                   28    398\n",
       "399                   14                   28    399\n",
       "\n",
       "[400 rows x 3 columns]"
      ]
     },
     "execution_count": 10,
     "metadata": {},
     "output_type": "execute_result"
    }
   ],
   "source": [
    "df"
   ]
  },
  {
   "cell_type": "markdown",
   "id": "05823733-4b2d-4e03-918b-a1057bc64559",
   "metadata": {},
   "source": [
    "### Checar se tá certo que o sistema dois tem maior velocidade tem que reagir primeiro, ver se isso está ocorrendo."
   ]
  },
  {
   "cell_type": "markdown",
   "id": "3b4dbb7a-7b99-4f4f-9026-763f296798aa",
   "metadata": {},
   "source": [
    "## Coeficiente k:"
   ]
  },
  {
   "cell_type": "code",
   "execution_count": 12,
   "id": "1b7d58d8-bfee-4403-931c-1d8460681b00",
   "metadata": {},
   "outputs": [
    {
     "name": "stdout",
     "output_type": "stream",
     "text": [
      "O valor de k para o sistema 1 é: 0.019088730684024356\n",
      "O valor de k para o sistema 2 é: 0.02760891760225425\n"
     ]
    }
   ],
   "source": [
    "# Ajuste para o sistema 1\n",
    "popt_sistema1, _ = curve_fit(exponencial, temporeacao, sistema1_df)\n",
    "valores_fit_sistema1 = exponencial(temporeacao, *popt_sistema1)\n",
    "k1 = popt_sistema1[1]\n",
    "print(\"O valor de k para o sistema 1 é:\", k1)\n",
    "\n",
    "# Ajuste para o sistema 2\n",
    "popt_sistema2, _ = curve_fit(exponencial, temporeacao, sistema2_df)\n",
    "valores_fit_sistema2 = exponencial(temporeacao, *popt_sistema2)\n",
    "k2 = popt_sistema2[1]\n",
    "print(\"O valor de k para o sistema 2 é:\", k2)\n",
    "\n",
    "taxas = [k1, k2]\n"
   ]
  },
  {
   "cell_type": "code",
   "execution_count": null,
   "id": "4b68352f-0e9c-4ca2-ad3f-fca440af699d",
   "metadata": {},
   "outputs": [],
   "source": []
  },
  {
   "cell_type": "markdown",
   "id": "f8dc64c3-acf8-4484-862a-68f8fc356835",
   "metadata": {},
   "source": [
    "# Análise do efeito da Temperatura no sistema:"
   ]
  },
  {
   "cell_type": "markdown",
   "id": "de597c36-d234-4277-8874-164eeedfd32e",
   "metadata": {},
   "source": [
    "## A reação vai ser 2H -> H_2 ou 2O -> O_2?"
   ]
  },
  {
   "cell_type": "markdown",
   "id": "4b4d8f25-7e3b-4cf6-a63c-72d3682c2c13",
   "metadata": {},
   "source": [
    "## Obtendo a temperatura através da simulação:\n",
    "Sim, você pode obter a temperatura a partir da distribuição de velocidades de Maxwell-Boltzmann. Esta distribuição descreve a probabilidade de uma partícula ter uma determinada velocidade em um gás ideal à temperatura \\(T\\).\n",
    "\n",
    "A relação entre a temperatura \\(T\\) e a distribuição de velocidades de Maxwell-Boltzmann é dada pela equação:\n",
    "\n",
    "$ \\langle v^2 \\rangle = \\frac{3 k_B T}{m} $\n",
    "\n",
    "Onde:\n",
    "- $\\langle v^2 \\rangle$ é o valor médio da velocidade ao quadrado.\n",
    "- \\(k_B\\) é a constante de Boltzmann $(1.380649 \\times 10^{-23} \\, \\text{J/K}$.\n",
    "- \\(T\\) é a temperatura em Kelvin.\n",
    "- \\(m\\) é a massa da partícula.\n",
    "\n",
    "Se você tiver a média das velocidades ao quadrado das partículas em sua simulação, você pode usar essa equação para encontrar a temperatura correspondente.\n",
    "\n",
    "Por exemplo, se você tem a média das velocidades ao quadrado $\\langle v^2 \\rangle$ e a massa das partículas, você pode calcular a temperatura usando:\n",
    "\n",
    "$ T = \\frac{m \\langle v^2 \\rangle}{3 k_B} $\n",
    "\n",
    "Lembre-se de que esta é uma estimativa baseada **nas propriedades do gás ideal e na distribuição de velocidades. Se o sistema não se comporta como um gás ideal, essa relação pode não ser precisa.**\n"
   ]
  },
  {
   "cell_type": "code",
   "execution_count": 5,
   "id": "0ef44d73-0b92-4ad1-a2e4-082912fb95e1",
   "metadata": {},
   "outputs": [],
   "source": [
    "def calcular_temperatura(lista_particulas, massa):\n",
    "    \"\"\"\n",
    "    Calcula uma estimativa da temperatura do sistema com base na distribuição de Maxwell-Boltzmann das velocidades.\n",
    "\n",
    "    Args:\n",
    "        lista_particulas (list): Uma lista de objetos que contêm informações sobre as partículas.\n",
    "            Cada objeto deve ter um atributo 'velocidade' que represente a velocidade da partícula como um vetor.\n",
    "        massa (float): A massa das partículas em unidades apropriadas (por exemplo, kg).\n",
    "\n",
    "    Returns:\n",
    "        float: A temperatura estimada em Kelvin.\n",
    "\n",
    "    Note:\n",
    "        Esta estimativa assume que as velocidades das partículas seguem a distribuição de Maxwell-Boltzmann\n",
    "        e que o sistema se comporta como um gás ideal.\n",
    "    \"\"\"\n",
    "    v_quadrado_medio = 0\n",
    "    \n",
    "    for particula in lista_particulas:\n",
    "        v_quadrado_medio += np.dot(particula.velocidade, particula.velocidade)\n",
    "        \n",
    "        print(particula.velocidade)\n",
    "    \n",
    "    v_quadrado_medio /= len(lista_particulas)\n",
    "    \n",
    "    kB = 1.380649e-23  # Constante de Boltzmann em J/K\n",
    "    temperatura = (massa * v_quadrado_medio) / (3 * kB)\n",
    "    \n",
    "    return temperatura"
   ]
  },
  {
   "cell_type": "markdown",
   "id": "f2bd8294-e9f1-4c0a-9c11-f95df54cf520",
   "metadata": {},
   "source": [
    "O código retorna a temperatura estimada de um sistema de partículas com base nas velocidades dessas partículas, assumindo que as velocidades seguem a distribuição de Maxwell-Boltzmann.\n",
    "\n",
    "O parâmetro `lista_particulas` deve ser uma lista de objetos que contêm informações sobre as partículas. Cada objeto deve ter um atributo chamado `velocidade`, que representa a velocidade da partícula como um vetor.\n",
    "\n",
    "A função calcula a média das velocidades ao quadrado de todas as partículas e usa essa média para estimar a temperatura do sistema. Lembre-se de que esta é uma estimativa e assume que o sistema se comporta como um gás ideal.\n",
    "\n",
    "Para calcular a temperatura de uma partícula específica em vez da temperatura média do sistema, teria que considerar apenas a velocidade da partícula em questão.\n",
    "\n",
    "Então para a gente obter temperaturas diferentes e inserir na equação de Arrhenius, vamos ter que usar a função `calcular_temperatura` em dois sistemas diferentes."
   ]
  },
  {
   "cell_type": "markdown",
   "id": "bf15c521-f0a8-4bd0-b5f3-2e7cd836ce8a",
   "metadata": {
    "tags": []
   },
   "source": [
    "## Simulando sistemas diferentes:\n",
    "Vamos ter que simular, pegar a lista de valores para calcular a temp e fitar para obter k.\n",
    "As velocidades dos sistemas são geradas de forma aleatória dentro de `gerar_particulas()`, para gerar esses dois sistemas com velocidades diferentes\n",
    "### Temperaturas:"
   ]
  },
  {
   "cell_type": "code",
   "execution_count": 6,
   "id": "ad365eab-d3a7-455a-bc54-27bb11f68737",
   "metadata": {},
   "outputs": [
    {
     "ename": "NameError",
     "evalue": "name 'massa_particula' is not defined",
     "output_type": "error",
     "traceback": [
      "\u001b[1;31m---------------------------------------------------------------------------\u001b[0m",
      "\u001b[1;31mNameError\u001b[0m                                 Traceback (most recent call last)",
      "\u001b[1;32mC:\\Users\\DANIEL~1\\AppData\\Local\\Temp/ipykernel_26496/2290428226.py\u001b[0m in \u001b[0;36m<module>\u001b[1;34m\u001b[0m\n\u001b[0;32m      3\u001b[0m \u001b[1;33m\u001b[0m\u001b[0m\n\u001b[0;32m      4\u001b[0m \u001b[1;31m# Calcular a temperatura\u001b[0m\u001b[1;33m\u001b[0m\u001b[1;33m\u001b[0m\u001b[0m\n\u001b[1;32m----> 5\u001b[1;33m \u001b[0mtemperatura_sistema1\u001b[0m \u001b[1;33m=\u001b[0m \u001b[0mcalcular_temperatura\u001b[0m\u001b[1;33m(\u001b[0m\u001b[0mlista_particulas_sistema1\u001b[0m\u001b[1;33m,\u001b[0m \u001b[0mmassa_particula\u001b[0m\u001b[1;33m)\u001b[0m\u001b[1;33m\u001b[0m\u001b[1;33m\u001b[0m\u001b[0m\n\u001b[0m\u001b[0;32m      6\u001b[0m \u001b[0mtemperatura_sistema2\u001b[0m \u001b[1;33m=\u001b[0m \u001b[0mcalcular_temperatura\u001b[0m\u001b[1;33m(\u001b[0m\u001b[0mlista_particulas_sistema2\u001b[0m\u001b[1;33m,\u001b[0m \u001b[0mmassa_particula\u001b[0m\u001b[1;33m)\u001b[0m\u001b[1;33m\u001b[0m\u001b[1;33m\u001b[0m\u001b[0m\n\u001b[0;32m      7\u001b[0m \u001b[1;33m\u001b[0m\u001b[0m\n",
      "\u001b[1;31mNameError\u001b[0m: name 'massa_particula' is not defined"
     ]
    }
   ],
   "source": [
    "# Supondo que a reação seja de H? Massa unitária\n",
    "massa = MASSA  \n",
    "\n",
    "# Calcular a temperatura\n",
    "temperatura_sistema1 = calcular_temperatura(lista_particulas_sistema1, massa_particula)\n",
    "temperatura_sistema2 = calcular_temperatura(lista_particulas_sistema2, massa_particula)\n",
    "\n",
    "print(f\"A temperatura estimada para o sistema 1 é aproximadamente {temperatura_sistema1:.2f} K.\")\n",
    "print(f\"A temperatura estimada para o sistema 2 é aproximadamente {temperatura_sistema2:.2f} K.\")\n",
    "\n",
    "temperaturas_arrhenius = []\n",
    "temperaturas_arrhenius.append(temperatura_sistema1, temperatura_sistema2) #tem que transformar em array?"
   ]
  },
  {
   "cell_type": "markdown",
   "id": "39071fe0-fa24-4332-b7fb-783bca50d206",
   "metadata": {},
   "source": [
    "## Equação de Arrhenius:"
   ]
  },
  {
   "cell_type": "markdown",
   "id": "3f9ca352-1bf9-405a-aebd-1dafc6b4e809",
   "metadata": {},
   "source": [
    "Beleza, então eu tenho que usar as constantes k que saem da minha simulação para colocar na equação de arrhenus e daí obter as informações do meu sistema?"
   ]
  },
  {
   "cell_type": "markdown",
   "id": "51ca0dd5-b746-4288-b463-bfadf4835524",
   "metadata": {},
   "source": [
    "Na verdade, eu simulo aumentando a velocidade (que é a mesma coisa que aumentar a temperatura) e pego esses valores e fito para obter a energia de ativação"
   ]
  },
  {
   "cell_type": "code",
   "execution_count": null,
   "id": "ab425f2f-a97e-4078-8d5c-7de7018f4ffb",
   "metadata": {},
   "outputs": [],
   "source": [
    "def arrhenius_eq(A, Ea, R, T):\n",
    "    \"\"\"\n",
    "    Calcula a constante de taxa (k) utilizando a Lei de Arrhenius.\n",
    "    \n",
    "    Args:\n",
    "        A (float): Fator de pré-exponencial de Arrhenius.\n",
    "        Ea (float): Energia de ativação em Joules por mol.\n",
    "        R (float): Constante dos gases ideais em Joules por mol por Kelvin.\n",
    "        T (float): Temperatura em Kelvin.\n",
    "        \n",
    "    Returns:\n",
    "        float: Constante de taxa (k).\n",
    "    \"\"\"\n",
    "    return A * np.exp(-Ea / (R * T))"
   ]
  },
  {
   "cell_type": "code",
   "execution_count": null,
   "id": "83433999-92df-4c17-baa8-9253001e33e0",
   "metadata": {},
   "outputs": [],
   "source": [
    "R = 8.314  # Constante dos gases ideais em J/(mol K)\n",
    "\n",
    "# Dados experimentais (temperatura em Kelvin e taxa de reação)\n",
    "temperaturas = np.array([300, 310, 320, 330, 340])\n",
    "taxas = np.array([1.2, 1.5, 1.8, 2.2, 2.6])\n",
    "\n",
    "# Transformação dos dados\n",
    "inv_temperaturas = 1 / temperaturas_arrhenius\n",
    "ln_taxas = np.log(taxas) #testar sem o log\n",
    "\n",
    "# Ajuste linear\n",
    "params, covariance = curve_fit(arrhenius_eq, inv_temperaturas, ln_taxas)\n",
    "A_fit, Ea_fit = np.exp(params[0]), -params[1]\n",
    "\n",
    "print(f\"Fator de pré-exponencial (A): {A_fit}\")\n",
    "print(f\"Energia de ativação (Ea): {Ea_fit} J/mol\")\n"
   ]
  },
  {
   "cell_type": "markdown",
   "id": "4440d0fb-7009-4bb5-ae5f-81c6e7b9fd87",
   "metadata": {},
   "source": [
    "## Plot da equação de Arrhenius:"
   ]
  },
  {
   "cell_type": "code",
   "execution_count": null,
   "id": "cedb8438-0f82-43ac-ac33-a6569bdcfec2",
   "metadata": {},
   "outputs": [],
   "source": []
  },
  {
   "cell_type": "markdown",
   "id": "66966aad-5c5d-4259-b6c8-aee41b2926d4",
   "metadata": {},
   "source": [
    "# Análise do efeito de catalisadores no sistema:"
   ]
  },
  {
   "cell_type": "markdown",
   "id": "8e9e3274-c7f2-4d96-b8de-a0f289075abb",
   "metadata": {},
   "source": [
    "# Análise do efeito esterioquímico no sistema:"
   ]
  },
  {
   "cell_type": "markdown",
   "id": "998b9b11-8d27-4fce-b406-991689fef1b1",
   "metadata": {},
   "source": [
    "---"
   ]
  },
  {
   "cell_type": "markdown",
   "id": "8951f67c-942c-458a-b574-a11ee52007b4",
   "metadata": {},
   "source": [
    "## Gerar animação da reação:"
   ]
  },
  {
   "cell_type": "code",
   "execution_count": null,
   "id": "608faf55-f36f-4fe0-8a6c-d1ce5e0351cf",
   "metadata": {},
   "outputs": [],
   "source": [
    "lista_atomos2, lista_moleculas2 = [], []\n",
    "\n",
    "def criar_animacao_simulacao_reacao(lista_particulas, tamanho_caixa, RAIO, NUM_STEPS, probabilidade_reacao):\n",
    "    fig, ax = plt.subplots(figsize=(10, 10))\n",
    "    ims = []\n",
    "\n",
    "    ax.set_xlim(0, tamanho_caixa)\n",
    "    ax.set_ylim(0, tamanho_caixa)\n",
    "    \n",
    "    ax.set_xticks([])\n",
    "    ax.set_yticks([])\n",
    "    ax.set_title('Simulação de Reação Química', fontsize=20)\n",
    "     \n",
    "    for k in range(NUM_STEPS):\n",
    "        # Chamando a função para simular reações\n",
    "        simular_reacao(lista_particulas, probabilidade_reacao)\n",
    "\n",
    "        # Desenha as partículas após a simulação de reação\n",
    "        circles = []\n",
    "        a_count, m_count = 0, 0\n",
    "        \n",
    "        for particula in lista_particulas:\n",
    "            if k < len(particula.todas_posicoes):\n",
    "                x = particula.todas_posicoes[k][0]\n",
    "                y = particula.todas_posicoes[k][1]\n",
    "                circle = plt.Circle((x, y), RAIO, fill=True, color='blue', edgecolor='black')\n",
    "                ax.add_artist(circle)\n",
    "                circles.append(circle)\n",
    "            \n",
    "            if particula.tipo == 'atomo':\n",
    "                a_count += 1\n",
    "            else:\n",
    "                m_count += 1\n",
    "        \n",
    "        lista_atomos2.append(a_count)\n",
    "        lista_moleculas2.append(m_count)\n",
    "        \n",
    "        ims.append(circles)\n",
    "\n",
    "    ani = animation.ArtistAnimation(fig, ims, interval=40, blit=True, repeat_delay=100)\n",
    "    writer = animation.PillowWriter(fps=10, bitrate=4000)\n",
    "    ani.save(\"resultados/simulacao_reacao.gif\", writer=writer, dpi=100)\n",
    "\n",
    "criar_animacao_simulacao_reacao(lista_particulas, tamanho_caixa, RAIO, numero_passos, probabilidade_reacao)"
   ]
  },
  {
   "cell_type": "markdown",
   "id": "46553d29-cfab-4bbd-8e7b-10b83c835a15",
   "metadata": {},
   "source": [
    "## Criando DataFrame para trabalhar com os dados:"
   ]
  },
  {
   "cell_type": "code",
   "execution_count": null,
   "id": "263d7e7f-a90c-4b54-849d-059cdaff0cd8",
   "metadata": {},
   "outputs": [],
   "source": [
    "lista = {'Atomos': lista_atomos, 'Moléculas': lista_moleculas, 'tempo': range(numero_passos)}\n",
    "\n",
    "print(len(lista_atomos))\n",
    "print(len(lista_moleculas))\n",
    "print(len(range(numero_passos)))\n",
    "\n",
    "\n",
    "df = pd.DataFrame(lista)\n",
    "\n",
    "atomodf = df['Atomos'] #df.iloc[0 : 70, 0]\n",
    "temporeagente = df['tempo'] #df.iloc[0:70, 2]\n",
    "\n",
    "produtodf = df.iloc[1 : 400, 1]\n",
    "tempoproduto = df.iloc[1 : 400, 2]\n",
    "\n"
   ]
  },
  {
   "cell_type": "markdown",
   "id": "e274569e-2d35-4ecf-a9b6-1bf44f5f40d7",
   "metadata": {},
   "source": [
    "## Fitagem com função exponencial:"
   ]
  },
  {
   "cell_type": "code",
   "execution_count": null,
   "id": "0fd40d9a-89f4-48ff-9ca2-ba18b6036c12",
   "metadata": {
    "tags": []
   },
   "outputs": [],
   "source": [
    "def exponencial(t, a, k, c):\n",
    "    return a * np.exp(-k * t) + c\n",
    "\n",
    "popt, _ = curve_fit(exponencial, temporeagente, atomodf)\n",
    "valores_fit_reagente = exponencial(temporeagente, *popt)\n",
    "\n",
    "k = popt[1]\n",
    "print(\"O valor de k é:\", k)\n",
    "\n",
    "plt.scatter(temporeagente, atomodf , label='Dados Originais (Reagente)')\n",
    "plt.plot(temporeagente, valores_fit_reagente, label='Ajuste dos dados com função Exponencial', color='red')\n",
    "plt.savefig('nome_do_arquivo.png')\n",
    "plt.xlabel('Número de partículas')\n",
    "plt.ylabel('Tempo')\n",
    "plt.legend()\n",
    "plt.show()"
   ]
  },
  {
   "cell_type": "markdown",
   "id": "830602e4-54fa-4e1d-98cf-5f3544139e12",
   "metadata": {},
   "source": [
    "## Fitagem com função logarítmica:"
   ]
  },
  {
   "cell_type": "code",
   "execution_count": null,
   "id": "a0f2048c-d7c8-4faf-b841-4e8769d9156d",
   "metadata": {},
   "outputs": [],
   "source": [
    "def logaritimica(x, a, b, c):\n",
    "    return a * np.log(b * x) + c\n",
    "\n",
    "popt, _ = curve_fit(logaritimica, tempoproduto, produtodf)\n",
    "valores_fit_produto = logaritimica(tempoproduto, *popt)\n",
    "\n",
    "b = popt[1]\n",
    "print(\"O valor de k é:\", b)\n",
    "\n",
    "plt.scatter(tempoproduto, produtodf , label='Dados Originais (produto)', color='green')\n",
    "plt.plot(tempoproduto, valores_fit_produto, label='Ajuste dos dados com função Exponencial', color='purple')\n",
    "plt.xlabel('Eixo X (rótulo)')\n",
    "plt.ylabel('Eixo Y (rótulo)')\n",
    "plt.legend()\n",
    "plt.show()"
   ]
  },
  {
   "cell_type": "code",
   "execution_count": null,
   "id": "da74da8b-1baa-4f8a-9d9e-db7a565b279d",
   "metadata": {},
   "outputs": [],
   "source": [
    "plt.scatter(temporeagente, atomodf , label='Dados Originais (reagente)')\n",
    "plt.plot(temporeagente, valores_fit_reagente, label='Dados ajustados com função Exponencial (reagente)', color='red')\n",
    "plt.scatter(tempoproduto, produtodf , label='Dados Originais (produto)', color='green')\n",
    "plt.plot(tempoproduto, valores_fit_produto, label='Dados ajustados com função Exponencial (produto)', color='purple')\n",
    "plt.xlabel('Tempo')\n",
    "plt.ylabel('Número de partículas')\n",
    "plt.legend()\n",
    "plt.savefig('dadosajustadaos.png')\n",
    "plt.show()\n"
   ]
  },
  {
   "cell_type": "markdown",
   "id": "19b3554f-74e3-4d9a-a75c-ab3f08d4549e",
   "metadata": {},
   "source": [
    "## Análise do Método da Velocidade Inicial:"
   ]
  },
  {
   "cell_type": "code",
   "execution_count": null,
   "id": "c7f9f033-fc0b-4804-8dfb-a1dc9a550667",
   "metadata": {},
   "outputs": [],
   "source": [
    "# Vlor de K pela quantidade de partículas iniciais\n",
    "# Initial rate method"
   ]
  },
  {
   "cell_type": "code",
   "execution_count": null,
   "id": "dee7feaf-1d56-49cf-af0d-ba38d1a2ecc5",
   "metadata": {
    "tags": []
   },
   "outputs": [],
   "source": [
    "numero_particulas = [20, 60, 100] #, 140, 180, 200]\n",
    "\n",
    "parametros_ajustados = []\n",
    "valores_ajustados = []\n",
    "valores_iniciais = []\n",
    "\n",
    "for num_particulas in numero_particulas:\n",
    "    lista_particulas = gerar_particulas(num_particulas, RAIO, MASSA, tamanho_caixa, tipo)\n",
    "    lista_atomos =  []\n",
    "\n",
    "    # Compute simulation\n",
    "    for i in range(numero_passos):\n",
    "        # Simular colisões\n",
    "        simular_reacao(lista_particulas, probabilidade_reacao)\n",
    "\n",
    "        # Atualizar posições e velocidades\n",
    "        mudar_passo(lista_particulas, tempo_cada_passo, tamanho_caixa)\n",
    "\n",
    "        a_count, m_count = 0, 0\n",
    "\n",
    "        for particula in lista_particulas:\n",
    "            if particula.tipo == 'atomo':\n",
    "                a_count += 1\n",
    "\n",
    "        lista_atomos.append(a_count)\n",
    "       \n",
    "    temporeagente = range(numero_passos)  \n",
    "    atomodf = lista_atomos  \n",
    "    valores_iniciais.append(atomodf)\n",
    "    \n",
    "    popt, _ = curve_fit(exponencial, temporeagente, atomodf)\n",
    "    parametros_ajustados.append(popt)\n",
    "    valores_fit_reagente = exponencial(temporeagente, *popt)\n",
    "    valores_ajustados.append(valores_fit_reagente)\n",
    "\n",
    "\n",
    "for i, popt in enumerate(parametros_ajustados):\n",
    "    print(f\"Para N = {numero_particulas[i]}, os parâmetros ajustados são: k={popt[1]}\")\n",
    "\n",
    "\n",
    "plt.figure(figsize=(10, 5))\n",
    "for i, num_particulas in enumerate(numero_particulas):\n",
    "    plt.plot(temporeagente, valores_ajustados[i], label=f'N = {num_particulas}')\n",
    "    \n",
    "for dados in valores_iniciais:\n",
    "    plt.scatter(temporeagente, dados, s=10)\n",
    "\n",
    "plt.xlabel('Número de partículas')\n",
    "plt.ylabel('Tempo')\n",
    "plt.legend()\n",
    "plt.savefig('concentracaoinicial.png')\n",
    "plt.show()"
   ]
  },
  {
   "cell_type": "code",
   "execution_count": null,
   "id": "719662d0-1511-4f25-b7e9-ab7fa5fd0cc5",
   "metadata": {},
   "outputs": [],
   "source": []
  }
 ],
 "metadata": {
  "kernelspec": {
   "display_name": "ilumpy",
   "language": "python",
   "name": "ilumpy"
  },
  "language_info": {
   "codemirror_mode": {
    "name": "ipython",
    "version": 3
   },
   "file_extension": ".py",
   "mimetype": "text/x-python",
   "name": "python",
   "nbconvert_exporter": "python",
   "pygments_lexer": "ipython3",
   "version": "3.9.7"
  }
 },
 "nbformat": 4,
 "nbformat_minor": 5
}

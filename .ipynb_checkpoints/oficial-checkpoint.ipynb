{
 "cells": [
  {
   "cell_type": "markdown",
   "id": "1417556c-d9eb-4a18-9265-85b982e21ee3",
   "metadata": {},
   "source": [
    "## Importações:"
   ]
  },
  {
   "cell_type": "code",
   "execution_count": 3,
   "id": "206185ca-ce53-4077-b2f2-5c5765311490",
   "metadata": {},
   "outputs": [],
   "source": [
    "import numpy as np\n",
    "import random as rd\n",
    "import matplotlib.pyplot as plt\n",
    "from matplotlib.patches import Circle\n",
    "import matplotlib.animation as animation\n",
    "from particle_class import Particula\n",
    "from funcoes import mudar_passo, gerar_particulas, simular_colisao\n",
    "plt.style.use('seaborn-bright')"
   ]
  },
  {
   "cell_type": "markdown",
   "id": "64e60c82-c036-4606-a3e7-ac56d0703669",
   "metadata": {},
   "source": [
    "## Realiza simulação:"
   ]
  },
  {
   "cell_type": "code",
   "execution_count": 4,
   "id": "7c8aee18-0637-43d6-b7cc-22045f248725",
   "metadata": {},
   "outputs": [
    {
     "ename": "NameError",
     "evalue": "name 'Particula' is not defined",
     "output_type": "error",
     "traceback": [
      "\u001b[1;31m---------------------------------------------------------------------------\u001b[0m",
      "\u001b[1;31mNameError\u001b[0m                                 Traceback (most recent call last)",
      "\u001b[1;32mC:\\Users\\DANIEL~1\\AppData\\Local\\Temp/ipykernel_10524/2246019527.py\u001b[0m in \u001b[0;36m<module>\u001b[1;34m\u001b[0m\n\u001b[0;32m     11\u001b[0m \u001b[0mtempo_cada_passo\u001b[0m \u001b[1;33m=\u001b[0m \u001b[0mtempo_final\u001b[0m\u001b[1;33m/\u001b[0m\u001b[0mnumero_passos\u001b[0m\u001b[1;33m\u001b[0m\u001b[1;33m\u001b[0m\u001b[0m\n\u001b[0;32m     12\u001b[0m \u001b[1;33m\u001b[0m\u001b[0m\n\u001b[1;32m---> 13\u001b[1;33m \u001b[0mlista_particulas\u001b[0m \u001b[1;33m=\u001b[0m \u001b[0mgerar_particulas\u001b[0m\u001b[1;33m(\u001b[0m\u001b[0mnumero_particulas\u001b[0m\u001b[1;33m,\u001b[0m \u001b[0mRAIO\u001b[0m\u001b[1;33m,\u001b[0m \u001b[0mMASSA\u001b[0m\u001b[1;33m,\u001b[0m \u001b[0mtamanho_caixa\u001b[0m\u001b[1;33m)\u001b[0m\u001b[1;33m\u001b[0m\u001b[1;33m\u001b[0m\u001b[0m\n\u001b[0m",
      "\u001b[1;32mC:\\JupyterLab\\4° Semestre\\Cinética química\\simulacao_cinetica_quimica\\funcoes.py\u001b[0m in \u001b[0;36mgerar_particulas\u001b[1;34m(N, raio, massa, tamanho_caixa)\u001b[0m\n\u001b[0;32m     32\u001b[0m         \u001b[0mself\u001b[0m\u001b[1;33m.\u001b[0m\u001b[0mtodas_velocidades\u001b[0m \u001b[1;33m=\u001b[0m \u001b[1;33m[\u001b[0m\u001b[0mnp\u001b[0m\u001b[1;33m.\u001b[0m\u001b[0mcopy\u001b[0m\u001b[1;33m(\u001b[0m\u001b[0mself\u001b[0m\u001b[1;33m.\u001b[0m\u001b[0mvelocidade\u001b[0m\u001b[1;33m)\u001b[0m\u001b[1;33m]\u001b[0m\u001b[1;33m\u001b[0m\u001b[1;33m\u001b[0m\u001b[0m\n\u001b[0;32m     33\u001b[0m         \u001b[0mself\u001b[0m\u001b[1;33m.\u001b[0m\u001b[0mtodas_magnitudesv\u001b[0m \u001b[1;33m=\u001b[0m \u001b[1;33m[\u001b[0m\u001b[0mnp\u001b[0m\u001b[1;33m.\u001b[0m\u001b[0mlinalg\u001b[0m\u001b[1;33m.\u001b[0m\u001b[0mnorm\u001b[0m\u001b[1;33m(\u001b[0m\u001b[0mnp\u001b[0m\u001b[1;33m.\u001b[0m\u001b[0mcopy\u001b[0m\u001b[1;33m(\u001b[0m\u001b[0mself\u001b[0m\u001b[1;33m.\u001b[0m\u001b[0mvelocidade\u001b[0m\u001b[1;33m)\u001b[0m\u001b[1;33m)\u001b[0m\u001b[1;33m]\u001b[0m\u001b[1;33m\u001b[0m\u001b[1;33m\u001b[0m\u001b[0m\n\u001b[1;32m---> 34\u001b[1;33m \u001b[1;33m\u001b[0m\u001b[0m\n\u001b[0m\u001b[0;32m     35\u001b[0m     \u001b[1;32mdef\u001b[0m \u001b[0mprox_passo\u001b[0m\u001b[1;33m(\u001b[0m\u001b[0mself\u001b[0m\u001b[1;33m,\u001b[0m \u001b[0mpasso\u001b[0m\u001b[1;33m)\u001b[0m\u001b[1;33m:\u001b[0m\u001b[1;33m\u001b[0m\u001b[1;33m\u001b[0m\u001b[0m\n\u001b[0;32m     36\u001b[0m         \u001b[1;34m\"\"\"Compute posicao of next passo.\"\"\"\u001b[0m\u001b[1;33m\u001b[0m\u001b[1;33m\u001b[0m\u001b[0m\n",
      "\u001b[1;31mNameError\u001b[0m: name 'Particula' is not defined"
     ]
    }
   ],
   "source": [
    "#Parâmetros da simulação:\n",
    "\n",
    "numero_particulas = 1000\n",
    "tamanho_caixa = 500\n",
    "RAIO = 2\n",
    "MASSA = 1\n",
    "probabilidade_reacao = 1\n",
    "\n",
    "tempo_final = 10\n",
    "numero_passos = 150\n",
    "tempo_cada_passo = tempo_final/numero_passos\n",
    "\n",
    "lista_particulas = gerar_particulas(numero_particulas, RAIO, MASSA, tamanho_caixa)"
   ]
  },
  {
   "cell_type": "code",
   "execution_count": null,
   "id": "72f93a8c-2f80-4657-b930-696cf4331422",
   "metadata": {},
   "outputs": [],
   "source": [
    "# Compute simulation (It takes some time if numero_passos and numero_particulas are large)\n",
    "for i in range(numero_passos):\n",
    "     # Simular colisões\n",
    "    simular_colisao(lista_particulas, probabilidade_reacao)\n",
    "\n",
    "    # Atualizar posições e velocidades\n",
    "    mudar_passo(lista_particulas, tempo_cada_passo, tamanho_caixa)"
   ]
  },
  {
   "cell_type": "markdown",
   "id": "77a09914-72a3-4091-a2c7-425d590aa8a9",
   "metadata": {},
   "source": [
    "## Resultados:"
   ]
  },
  {
   "cell_type": "code",
   "execution_count": null,
   "id": "66b89ac4-4cb9-46af-8f56-dfab7ef624f7",
   "metadata": {},
   "outputs": [],
   "source": [
    "def criar_animacao(lista_particulas, TAMANHO_CAIXA, RAIO, NUM_STEPS):\n",
    "    fig, ax = plt.subplots(figsize=(10, 10))\n",
    "    ims = []\n",
    "\n",
    "    ax.set_xlim(0, TAMANHO_CAIXA)\n",
    "    ax.set_ylim(0, TAMANHO_CAIXA)\n",
    "    \n",
    "    ax.set_xticks([])\n",
    "    ax.set_yticks([])\n",
    "    ax.set_title('Modelo de \"hard spheres\"', fontsize=20)\n",
    "     \n",
    "    for k in range(NUM_STEPS):\n",
    "        circles = []\n",
    "        for particula in lista_particulas:\n",
    "            x = particula.todas_posicoes[k][0]\n",
    "            y = particula.todas_posicoes[k][1]\n",
    "            circle = plt.Circle((x, y), RAIO, fill=True, color='pink', edgecolor='black')\n",
    "            ax.add_artist(circle)\n",
    "            circles.append(circle)\n",
    "        ims.append(circles)\n",
    "\n",
    "    ani = animation.ArtistAnimation(fig, ims, interval=40, blit=True, repeat_delay=100)\n",
    "    writer = animation.PillowWriter(fps=10, bitrate=4000)\n",
    "    ani.save(\"resultados/trajetorias.gif\", writer=writer, dpi=100)\n",
    "\n",
    "criar_animacao(lista_particulas, tamanho_caixa, RAIO, numero_passos)\n"
   ]
  },
  {
   "cell_type": "markdown",
   "id": "2268fff5-bdcd-47b9-9ef2-c5b218c57a08",
   "metadata": {},
   "source": [
    "## Comparação com a distribuição de Maxwell-Boltzmann:\n",
    "### funções:"
   ]
  },
  {
   "cell_type": "code",
   "execution_count": null,
   "id": "7dc5956e-967c-4521-8af3-ddb2fef0e69c",
   "metadata": {},
   "outputs": [],
   "source": [
    "pi = np.pi\n",
    "kb = 1\n",
    "\n",
    "V_final_media = np.average([particula.todas_magnitudesv[-1] for particula in lista_particulas])\n",
    "T = MASSA * V_final_media**2 /(3*kb)\n",
    "\n",
    "def funcao_maxwell_boltzmann(v):\n",
    "    mb = 3.7*pi * (np.sqrt(MASSA/(2*pi*kb*T)))**3 * v**2 * np.exp(-MASSA*v**2/(1.9*kb*T))\n",
    "    return mb"
   ]
  },
  {
   "cell_type": "code",
   "execution_count": null,
   "id": "f29bb7d1-e17d-4d72-a62f-294e21bc3951",
   "metadata": {},
   "outputs": [],
   "source": [
    "trajetorias = []\n",
    "for i in lista_particulas:\n",
    "    traj = list(i.todas_velocidades)\n",
    "    trajetorias.append(traj)"
   ]
  },
  {
   "cell_type": "markdown",
   "id": "c7bc2a63-5f53-4a53-9ad8-757c4cae8a7a",
   "metadata": {},
   "source": [
    "## Plot dos gráficos e histograma:"
   ]
  },
  {
   "cell_type": "code",
   "execution_count": null,
   "id": "b67b900a-c5af-4ddd-92c7-4774fa2ede2d",
   "metadata": {},
   "outputs": [],
   "source": [
    "fig, ax = plt.subplots(1, 1, figsize=(12, 9))\n",
    "ims = []\n",
    "ax.set_title('Distribuição de velocidades', fontsize = 25)\n",
    "ax.set_xlabel('Velocidade (u.a.)',fontsize = 20)\n",
    "ax.set_ylabel('Frequência',fontsize = 20)\n",
    "ax.grid('--')\n",
    "v = np.linspace(0, 33)\n",
    "MB = funcao_maxwell_boltzmann(v)\n",
    "ax.plot(v,MB, c = '0', label = \"Distribuição prevista\")\n",
    "j = 0\n",
    "for t in range(numero_passos):\n",
    "    velocidades = []\n",
    "    for traj in trajetorias:\n",
    "        v = np.linalg.norm(traj[t])\n",
    "        velocidades.append(v)\n",
    "    if j == 0:\n",
    "        im = ax.hist(velocidades, color='pink', bins = 20, density = True, label = 'Distribuição simulada')\n",
    "    else:\n",
    "        im = ax.hist(velocidades, color='pink', bins = 20, density = True)    \n",
    "    ims.append(im[2]) \n",
    "    j+=1\n",
    "ax.legend(fontsize = 20)\n",
    "\n",
    "ani = animation.ArtistAnimation(fig, ims, interval=40, blit=True, repeat_delay=100)\n",
    "writer = animation.PillowWriter(fps=15, bitrate=9000)\n",
    "ani.save(r\"resultados/maxwell-boltzman.png\", writer=writer, dpi=200)"
   ]
  },
  {
   "cell_type": "code",
   "execution_count": null,
   "id": "0c7b80b1-efd0-415f-bab2-5a6c9c165af5",
   "metadata": {},
   "outputs": [],
   "source": [
    "V1 = [particula.todas_magnitudesv[0] for particula in lista_particulas]\n",
    "V2 = [particula.todas_magnitudesv[-1] for particula in lista_particulas]\n",
    "v = np.linspace(0, 33)\n",
    "MB = funcao_maxwell_boltzmann(v)\n",
    "fig, (ax1, ax2) = plt.subplots(1, 2, figsize=(10, 4), sharey=True) \n",
    "ax1.set_title(\"Distribuição Inicial\")\n",
    "ax2.set_title('Distribuição Final')\n",
    "ax1.set_ylabel('Frequência')\n",
    "ax1.set_ylabel('Frequência')\n",
    "fig.text(0.5, 0.01, 'Velocidade (u.a)', ha='center')\n",
    "ax1.hist(V1, density = True, bins = 15, label = 'Distribuição aleatória', color = 'purple')\n",
    "ax2.hist(V2, density = True, bins = 15, label = 'Distribuição de Maxwell-Boltzmann', color = 'pink')\n",
    "ax2.plot(v,MB, c = '0')\n",
    "ax1.legend( loc=\"center right\")\n",
    "ax2.legend( loc=\"center right\")\n",
    "plt.tight_layout()\n",
    "plt.savefig(r'resultados/distribuicoes.png', dpi = 200)"
   ]
  },
  {
   "cell_type": "markdown",
   "id": "39cc0d14-d446-43c8-8182-101c7aadf46a",
   "metadata": {},
   "source": [
    "--------------------------"
   ]
  },
  {
   "cell_type": "markdown",
   "id": "d3d229af-0be0-4df6-8c10-15b328242eed",
   "metadata": {},
   "source": [
    "## Simulação da reação química:"
   ]
  },
  {
   "cell_type": "markdown",
   "id": "6a709a26-85df-4bba-a2d6-ca26f6101750",
   "metadata": {},
   "source": [
    "- Se ocorre uma reação ela é necessariamente \n",
    "- Tem conservação de massa?\n",
    "- Eu preciso que em algum lugar seja definido o tipo das partículas para eu conseguir fazer um if \n",
    "- talvez transformar nossa partícula em uma matriz igual do amauri e tirar o resto das classes\n",
    "- precisa atualizar a matriz de partículas \n",
    "- verificar se há colisão\n",
    "- Testar se é melhor fazer uma nova classe 'molécula' ou usar 'nova_particula = Particula(nova_massa, novo_raio, nova_posicao, nova_velocidade, tipo)\n",
    "- Checar se a conservação de volume está no livro\n",
    "- Tirar uma das partículas e gerar uma nova a partir da outra\n",
    "- Usar o itertools (tem uma função que não repete) para usar o particula1 com particula2\n",
    "- itertools.combinations"
   ]
  }
 ],
 "metadata": {
  "kernelspec": {
   "display_name": "ilumpy",
   "language": "python",
   "name": "ilumpy"
  },
  "language_info": {
   "codemirror_mode": {
    "name": "ipython",
    "version": 3
   },
   "file_extension": ".py",
   "mimetype": "text/x-python",
   "name": "python",
   "nbconvert_exporter": "python",
   "pygments_lexer": "ipython3",
   "version": "3.9.7"
  }
 },
 "nbformat": 4,
 "nbformat_minor": 5
}

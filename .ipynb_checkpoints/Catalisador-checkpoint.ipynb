{
 "cells": [
  {
   "cell_type": "markdown",
   "id": "1417556c-d9eb-4a18-9265-85b982e21ee3",
   "metadata": {},
   "source": [
    "## Importações:"
   ]
  },
  {
   "cell_type": "code",
   "execution_count": 15,
   "id": "206185ca-ce53-4077-b2f2-5c5765311490",
   "metadata": {},
   "outputs": [],
   "source": [
    "import numpy as np\n",
    "import random as rd\n",
    "import matplotlib.pyplot as plt\n",
    "from matplotlib.patches import Circle\n",
    "import matplotlib.animation as animation\n",
    "from itertools import combinations\n",
    "from scipy.optimize import curve_fit\n",
    "#from scipy.interpolate import interp1d\n",
    "plt.style.use('seaborn-bright')\n",
    "import pandas as pd\n",
    "import math\n",
    "import lmfit"
   ]
  },
  {
   "cell_type": "code",
   "execution_count": 16,
   "id": "92dc5a6d-26f0-4d99-b663-5f740d3612eb",
   "metadata": {},
   "outputs": [],
   "source": [
    "from funcoes_paredes import Particula, mudar_passo, gerar_particulas_dois_sistemas, simular_reacao, exponencial"
   ]
  },
  {
   "cell_type": "code",
   "execution_count": 17,
   "id": "f5e600a6-1210-4a7b-8db6-9310a38d98ef",
   "metadata": {},
   "outputs": [],
   "source": [
    "#from funcoes_sistemas import gerar_particulas_sistemas_separados"
   ]
  },
  {
   "cell_type": "markdown",
   "id": "cb777b78-799f-4825-b159-bca19a732198",
   "metadata": {
    "tags": []
   },
   "source": [
    "# Simulando o sistema:"
   ]
  },
  {
   "cell_type": "markdown",
   "id": "c76bbafe-a127-4853-b3b3-5589d0f3a03a",
   "metadata": {
    "tags": []
   },
   "source": [
    "## Parâmetros da simulação:"
   ]
  },
  {
   "cell_type": "code",
   "execution_count": 18,
   "id": "b1a9a531-e225-41d0-ad57-760ba04c5856",
   "metadata": {},
   "outputs": [],
   "source": [
    "#Parâmetros da simulação:\n",
    "\n",
    "numero_particulas = 500\n",
    "tamanho_caixa = 50\n",
    "RAIO = 0.5\n",
    "MASSA = 1\n",
    "probabilidade_reacao = 0.4\n",
    "tipo = 'atomo'\n",
    "\n",
    "tempo_final = 50\n",
    "numero_passos = 400\n",
    "tempo_cada_passo = tempo_final/numero_passos"
   ]
  },
  {
   "cell_type": "markdown",
   "id": "172ad711-9cf0-4bb0-87b4-543ae659d290",
   "metadata": {},
   "source": [
    "## Gerar Partículas:"
   ]
  },
  {
   "cell_type": "code",
   "execution_count": 19,
   "id": "c5aed52a-993e-4670-a457-4f6534fd5d20",
   "metadata": {},
   "outputs": [],
   "source": [
    "def gerar_particulas_sistemas_separados(N, raio, massa, tamanho_caixa, tipo, num_sistemas):\n",
    "    \"\"\"Generate N Particle objects in separate lists for different systems.\"\"\"\n",
    "    sistemas_particulas = {i: [] for i in range(1, num_sistemas + 1)}  # Dicionário para armazenar partículas de cada sistema\n",
    "\n",
    "    for i in range(N):\n",
    "        magnitude_velocidade = np.random.rand(1) * 25\n",
    "        angulo_velocidade = np.random.rand(1) * 2 * np.pi\n",
    "        v = np.append(magnitude_velocidade * np.cos(angulo_velocidade), magnitude_velocidade * np.sin(angulo_velocidade))\n",
    "\n",
    "        colisao = True\n",
    "        while colisao:\n",
    "            colisao = False\n",
    "            pos = raio + np.random.rand(2) * (tamanho_caixa - 2 * raio)\n",
    "            nova_particula = Particula(massa, raio, pos, v, tipo)\n",
    "\n",
    "            # Verificar colisões com todas as partículas em todos os sistemas\n",
    "            for sistema, particulas_sistema in sistemas_particulas.items():\n",
    "                for particula_sistema in particulas_sistema:\n",
    "                    if nova_particula.checar_colisão(particula_sistema):\n",
    "                        colisao = True\n",
    "                        break\n",
    "                if colisao:\n",
    "                    break\n",
    "\n",
    "            # Se não houver colisões, adicionar a partícula ao sistema correspondente\n",
    "            if not colisao:\n",
    "                sistema_destino = i % num_sistemas + 1  # Calcula o sistema de destino usando o operador de módulo\n",
    "                sistemas_particulas[sistema_destino].append(nova_particula)\n",
    "\n",
    "    return sistemas_particulas\n"
   ]
  },
  {
   "cell_type": "code",
   "execution_count": 20,
   "id": "ba85998d-8429-4f4d-b82b-838e0f51eaac",
   "metadata": {},
   "outputs": [
    {
     "name": "stdout",
     "output_type": "stream",
     "text": [
      "Sistema 1: 100 partículas\n",
      "Sistema 2: 100 partículas\n",
      "Sistema 3: 100 partículas\n",
      "Sistema 4: 100 partículas\n",
      "Sistema 5: 100 partículas\n"
     ]
    }
   ],
   "source": [
    "num_sistemas = 5  # Defina o número de sistemas desejado\n",
    "particulas_por_sistema = gerar_particulas_sistemas_separados(numero_particulas, RAIO, MASSA, tamanho_caixa, tipo, num_sistemas)\n",
    "\n",
    "#print(particulas_por_sistema)\n",
    "# Iterar por todos os sistemas e suas partículas\n",
    "for sistema, particulas_sistema in particulas_por_sistema.items():\n",
    "    print(f\"Sistema {sistema}: {len(particulas_sistema)} partículas\")\n",
    "    #for particula in particulas_sistema:\n",
    "     #   print(particula)  # Ou qualquer outra ação que você deseje fazer com a partícula\n"
   ]
  },
  {
   "cell_type": "code",
   "execution_count": 21,
   "id": "228e0a9f-cbf4-4684-b24d-b01a1a535786",
   "metadata": {},
   "outputs": [
    {
     "name": "stdout",
     "output_type": "stream",
     "text": [
      "100\n"
     ]
    }
   ],
   "source": [
    "nova_lista = []\n",
    "for key in particulas_por_sistema.keys():\n",
    "    nova_lista.append(particulas_por_sistema[key])\n",
    "    \n",
    "lista_particulas_sistema1, lista_particulas_sistema2, lista_particulas_sistema3, lista_particulas_sistema4, lista_particulas_sistema5 = nova_lista\n",
    "\n",
    "\n",
    "#if len(nova_lista) == 5:  # Se você souber que são 3 listas\n",
    " #   lista_particulas_sistema1, lista2, lista3, lista4, lista5 = nova_lista\n",
    "\n",
    "    # Agora você pode usar as variáveis lista1, lista2 e lista3 individualmente\n",
    "print(len(lista_particulas_sistema1))\n",
    "  "
   ]
  },
  {
   "cell_type": "markdown",
   "id": "b9ad281a-256b-4f08-a56c-5d86e0e2bebc",
   "metadata": {
    "tags": []
   },
   "source": [
    "## Simulação da reação química com catalisador:"
   ]
  },
  {
   "cell_type": "code",
   "execution_count": 25,
   "id": "d453fd0a-0f92-4df7-8e05-6fb306e0c035",
   "metadata": {},
   "outputs": [
    {
     "data": {
      "image/png": "[encoded data removed]",
      "text/plain": [
       "<Figure size 432x288 with 1 Axes>"
      ]
     },
     "metadata": {
      "needs_background": "light"
     },
     "output_type": "display_data"
    }
   ],
   "source": [
    "ista_particulas_sistema1, lista_particulas_sistema2, lista_particulas_sistema3, lista_particulas_sistema4, lista_particulas_sistema5 = gerar_particulas_dois_sistemas(numero_particulas, RAIO, MASSA, tamanho_caixa, tipo)\n",
    "\n",
    "lista_reagentes_sistema1, lista_produtos_sistema1 = [], []\n",
    "lista_reagentes_sistema2, lista_produtos_sistema2 = [], []\n",
    "lista_reagentes_sistema3, lista_produtos_sistema3 = [], []\n",
    "lista_reagentes_sistema4, lista_produtos_sistema4 = [], []\n",
    "lista_reagentes_sistema5, lista_produtos_sistema5 = [], []\n",
    "\n",
    "# Compute simulation (It takes some time if numero_passos and numero_particulas are large)\n",
    "for i in range(numero_passos):\n",
    "    \n",
    "    # Simular colisões\n",
    "    simular_reacao(lista_particulas_sistema1, probabilidade_reacao)\n",
    "\n",
    "    # Atualizar posições e velocidades\n",
    "    mudar_passo(lista_particulas_sistema1, tempo_cada_passo, tamanho_caixa, probabilidade_reacao)\n",
    "    \n",
    "    a_count, m_count = 0, 0\n",
    "    \n",
    "    for particula in lista_particulas_sistema1:\n",
    "        if particula.tipo == 'atomo':\n",
    "            a_count += 1\n",
    "        else:\n",
    "            m_count += 1\n",
    "    \n",
    "    lista_reagentes_sistema1.append(a_count)\n",
    "    lista_produtos_sistema1.append(m_count)\n",
    "    \n",
    "    # Simular colisões para o sistema 2\n",
    "    simular_reacao(lista_particulas_sistema2, probabilidade_reacao)\n",
    "    # Atualizar posições e velocidades para o sistema 2\n",
    "    mudar_passo(lista_particulas_sistema2, tempo_cada_passo, tamanho_caixa, probabilidade_reacao)\n",
    "    \n",
    "    a_count, m_count = 0, 0\n",
    "    for particula in lista_particulas_sistema2:\n",
    "        if particula.tipo == 'atomo':\n",
    "            a_count += 1\n",
    "        else:\n",
    "            m_count += 1\n",
    "    lista_reagentes_sistema2.append(a_count)\n",
    "    lista_produtos_sistema2.append(m_count)\n",
    "    \n",
    "    \n",
    "    # Simular colisões para o sistema 3\n",
    "    simular_reacao(lista_particulas_sistema3, probabilidade_reacao)\n",
    "\n",
    "    # Atualizar posições e velocidades\n",
    "    mudar_passo(lista_particulas_sistema3, tempo_cada_passo, tamanho_caixa, probabilidade_reacao)\n",
    "    \n",
    "    a_count, m_count = 0, 0\n",
    "    \n",
    "    for particula in lista_particulas_sistema3:\n",
    "        if particula.tipo == 'atomo':\n",
    "            a_count += 1\n",
    "        else:\n",
    "            m_count += 1\n",
    "    \n",
    "    lista_reagentes_sistema3.append(a_count)\n",
    "    lista_produtos_sistema3.append(m_count)\n",
    "    \n",
    "    simular_reacao(lista_particulas_sistema4, probabilidade_reacao)\n",
    "    # Atualizar posições e velocidades para o sistema 4\n",
    "    mudar_passo(lista_particulas_sistema4, tempo_cada_passo, tamanho_caixa, probabilidade_reacao)\n",
    "    \n",
    "    a_count, m_count = 0, 0\n",
    "    for particula in lista_particulas_sistema4:\n",
    "        if particula.tipo == 'atomo':\n",
    "            a_count += 1\n",
    "        else:\n",
    "            m_count += 1\n",
    "    lista_reagentes_sistema4.append(a_count)\n",
    "    lista_produtos_sistema4.append(m_count)\n",
    "    \n",
    "    # Simular colisões para o sistema 5\n",
    "    simular_reacao(lista_particulas_sistema5, probabilidade_reacao)\n",
    "\n",
    "    # Atualizar posições e velocidades\n",
    "    mudar_passo(lista_particulas_sistema5, tempo_cada_passo, tamanho_caixa, probabilidade_reacao)\n",
    "    \n",
    "    a_count, m_count = 0, 0\n",
    "    \n",
    "    for particula in lista_particulas_sistema5:\n",
    "        if particula.tipo == 'atomo':\n",
    "            a_count += 1\n",
    "        else:\n",
    "            m_count += 1\n",
    "    \n",
    "    lista_reagentes_sistema5.append(a_count)\n",
    "    lista_produtos_sistema5.append(m_count)\n",
    "    \n",
    "\n",
    "plt.plot(list(range(numero_passos)),lista_reagentes_sistema1,label='Reagentes sistema 1')#, marker = '*')\n",
    "plt.plot(list(range(numero_passos)),lista_reagentes_sistema2,label='Reagentes sistema 2')#, marker = '*')\n",
    "plt.plot(list(range(numero_passos)),lista_reagentes_sistema3,label='Reagentes sistema 3')#, marker = '*')\n",
    "plt.plot(list(range(numero_passos)),lista_reagentes_sistema4,label='Reagentes sistema 4')#, marker = '*')\n",
    "plt.plot(list(range(numero_passos)),lista_reagentes_sistema5,label='Reagentes sistema 5')#, marker = '*')\n",
    "\n",
    "\n",
    "#plt.plot(list(range(numero_passos)),lista_produtos_sistema1,label='Produto sistema 1', marker = '*')\n",
    "#plt.plot(list(range(numero_passos)),lista_produtos_sistema2,label='Produto sistema 2', marker = '*')\n",
    "#plt.plot(list(range(numero_passos)),lista_produtos_sistema3,label='Produto sistema 3', marker = '*')\n",
    "#plt.plot(list(range(numero_passos)),lista_produtos_sistema4,label='Produto sistema 4', marker = '*')\n",
    "#plt.plot(list(range(numero_passos)),lista_produtos_sistema5,label='Produto sistema 5', marker = '*')\n",
    "\n",
    "\n",
    "plt.xlabel('Tempo')\n",
    "plt.ylabel('Número de partículas')\n",
    "\n",
    "plt.legend()\n",
    "#plt.xlim(0, 50)  # Define os limites do eixo x de 0 a 100\n",
    "plt.savefig('Simulação_reagentes_doissistemas.png')\n",
    "plt.show()"
   ]
  },
  {
   "cell_type": "markdown",
   "id": "2711eee7-5791-4d32-be97-4e1a6207d95f",
   "metadata": {},
   "source": [
    "## Criando DataFrame para trabalhar com os dados:"
   ]
  },
  {
   "cell_type": "code",
   "execution_count": 26,
   "id": "5773b1f8-a94e-4d87-8643-451bb3dcec84",
   "metadata": {},
   "outputs": [
    {
     "name": "stdout",
     "output_type": "stream",
     "text": [
      "400\n",
      "400\n",
      "400\n"
     ]
    }
   ],
   "source": [
    "lista = {'Reagentes sistema 1': lista_reagentes_sistema1, 'Reagentes sistema 2': lista_reagentes_sistema2, 'Reagentes sistema 3': lista_reagentes_sistema3, 'Reagentes sistema 4': lista_reagentes_sistema4, 'Reagentes sistema 5': lista_reagentes_sistema5, 'tempo': range(numero_passos)}\n",
    "\n",
    "print(len(lista_reagentes_sistema1))\n",
    "print(len(lista_reagentes_sistema1))\n",
    "print(len(range(numero_passos)))\n",
    "\n",
    "\n",
    "df = pd.DataFrame(lista)\n",
    "\n",
    "sistema1_df = df['Reagentes sistema 1'] #df.iloc[0 : 70, 0]\n",
    "sistema2_df = df['Reagentes sistema 2'] #df.iloc[0 : 70, 0]\n",
    "sistema3_df = df['Reagentes sistema 3'] #df.iloc[0 : 70, 0]\n",
    "sistema4_df = df['Reagentes sistema 4'] #df.iloc[0 : 70, 0]\n",
    "sistema5_df = df['Reagentes sistema 5'] #df.iloc[0 : 70, 0]\n",
    "\n",
    "temporeacao = df['tempo'] #df.iloc[0:70, 2]\n",
    "\n",
    "df.to_csv('meu_dataframe.csv', index=False)\n"
   ]
  },
  {
   "cell_type": "markdown",
   "id": "2d6f2f51-c535-4e5d-bef8-b43af2749893",
   "metadata": {
    "tags": []
   },
   "source": [
    "## Fitagem com função exponencial:"
   ]
  },
  {
   "cell_type": "code",
   "execution_count": null,
   "id": "a5c6f7fc-3343-4648-98de-dfeb5d0e34db",
   "metadata": {},
   "outputs": [],
   "source": [
    "def exponencial(t, a, k):\n",
    "    return a * np.exp(-k * t)\n",
    "\n",
    "def funcao_quadratica(x, a, b, c):\n",
    "    return a * x**2 + b * x + c\n",
    "\n",
    "popt, _ = curve_fit(exponencial, temporeagente, lista_atomos)\n",
    "# valores_fit_reagente = funcao_quadratica(temporeagente, *popt)\n",
    "\n",
    "k = popt[1]\n",
    "print(\"O valor de k é:\", k)\n"
   ]
  },
  {
   "cell_type": "code",
   "execution_count": null,
   "id": "ca72c343-2064-4fde-b1e1-d9fbe0093394",
   "metadata": {},
   "outputs": [],
   "source": [
    "# Sistema 1\n",
    "popt1, _ = curve_fit(exponencial, temporeagente, atomodf)\n",
    "    parametros_ajustados.append(popt1)\n",
    "    valores_fit_reagente = exponencial(temporeagente, *popt1)\n",
    "    valores_ajustados.append(valores_fit_reagente)"
   ]
  },
  {
   "cell_type": "code",
   "execution_count": 24,
   "id": "b5a18a73-53b5-4742-b872-85f19a72c3bc",
   "metadata": {},
   "outputs": [
    {
     "name": "stderr",
     "output_type": "stream",
     "text": [
      "C:\\Users\\DANIEL~1\\AppData\\Local\\Temp/ipykernel_8016/583830499.py:10: RuntimeWarning: overflow encountered in exp\n",
      "  return a * np.exp(-k * t)\n"
     ]
    },
    {
     "ename": "TypeError",
     "evalue": "can't multiply sequence by non-int of type 'numpy.float64'",
     "output_type": "error",
     "traceback": [
      "\u001b[1;31m---------------------------------------------------------------------------\u001b[0m",
      "\u001b[1;31mTypeError\u001b[0m                                 Traceback (most recent call last)",
      "\u001b[1;32mC:\\Users\\DANIEL~1\\AppData\\Local\\Temp/ipykernel_8016/583830499.py\u001b[0m in \u001b[0;36m<module>\u001b[1;34m\u001b[0m\n\u001b[0;32m     17\u001b[0m     \u001b[0mpopt\u001b[0m\u001b[1;33m,\u001b[0m \u001b[0m_\u001b[0m \u001b[1;33m=\u001b[0m \u001b[0mcurve_fit\u001b[0m\u001b[1;33m(\u001b[0m\u001b[0mexponencial\u001b[0m\u001b[1;33m,\u001b[0m \u001b[0mtemporeagente\u001b[0m\u001b[1;33m,\u001b[0m \u001b[0matomos\u001b[0m\u001b[1;33m)\u001b[0m\u001b[1;33m\u001b[0m\u001b[1;33m\u001b[0m\u001b[0m\n\u001b[0;32m     18\u001b[0m     \u001b[0mparametros_ajustados\u001b[0m\u001b[1;33m.\u001b[0m\u001b[0mappend\u001b[0m\u001b[1;33m(\u001b[0m\u001b[0mpopt\u001b[0m\u001b[1;33m)\u001b[0m\u001b[1;33m\u001b[0m\u001b[1;33m\u001b[0m\u001b[0m\n\u001b[1;32m---> 19\u001b[1;33m     \u001b[0mvalores_fit_reagente\u001b[0m \u001b[1;33m=\u001b[0m \u001b[0mexponencial\u001b[0m\u001b[1;33m(\u001b[0m\u001b[0mtemporeagente\u001b[0m\u001b[1;33m,\u001b[0m \u001b[1;33m*\u001b[0m\u001b[0mpopt\u001b[0m\u001b[1;33m)\u001b[0m\u001b[1;33m\u001b[0m\u001b[1;33m\u001b[0m\u001b[0m\n\u001b[0m\u001b[0;32m     20\u001b[0m     \u001b[0mvalores_ajustados\u001b[0m\u001b[1;33m.\u001b[0m\u001b[0mappend\u001b[0m\u001b[1;33m(\u001b[0m\u001b[0mvalores_fit_reagente\u001b[0m\u001b[1;33m)\u001b[0m\u001b[1;33m\u001b[0m\u001b[1;33m\u001b[0m\u001b[0m\n\u001b[0;32m     21\u001b[0m \u001b[1;33m\u001b[0m\u001b[0m\n",
      "\u001b[1;32mC:\\Users\\DANIEL~1\\AppData\\Local\\Temp/ipykernel_8016/583830499.py\u001b[0m in \u001b[0;36mexponencial\u001b[1;34m(t, a, k)\u001b[0m\n\u001b[0;32m      8\u001b[0m \u001b[1;31m# Função exponencial\u001b[0m\u001b[1;33m\u001b[0m\u001b[1;33m\u001b[0m\u001b[0m\n\u001b[0;32m      9\u001b[0m \u001b[1;32mdef\u001b[0m \u001b[0mexponencial\u001b[0m\u001b[1;33m(\u001b[0m\u001b[0mt\u001b[0m\u001b[1;33m,\u001b[0m \u001b[0ma\u001b[0m\u001b[1;33m,\u001b[0m \u001b[0mk\u001b[0m\u001b[1;33m)\u001b[0m\u001b[1;33m:\u001b[0m\u001b[1;33m\u001b[0m\u001b[1;33m\u001b[0m\u001b[0m\n\u001b[1;32m---> 10\u001b[1;33m     \u001b[1;32mreturn\u001b[0m \u001b[0ma\u001b[0m \u001b[1;33m*\u001b[0m \u001b[0mnp\u001b[0m\u001b[1;33m.\u001b[0m\u001b[0mexp\u001b[0m\u001b[1;33m(\u001b[0m\u001b[1;33m-\u001b[0m\u001b[0mk\u001b[0m \u001b[1;33m*\u001b[0m \u001b[0mt\u001b[0m\u001b[1;33m)\u001b[0m\u001b[1;33m\u001b[0m\u001b[1;33m\u001b[0m\u001b[0m\n\u001b[0m\u001b[0;32m     11\u001b[0m \u001b[1;33m\u001b[0m\u001b[0m\n\u001b[0;32m     12\u001b[0m \u001b[1;31m# Ajuste da função exponencial para cada lista de dados\u001b[0m\u001b[1;33m\u001b[0m\u001b[1;33m\u001b[0m\u001b[0m\n",
      "\u001b[1;31mTypeError\u001b[0m: can't multiply sequence by non-int of type 'numpy.float64'"
     ]
    }
   ],
   "source": [
    "# Suponha que você tenha cinco listas de dados diferentes\n",
    "# Aqui, eu estou usando listas fictícias como exemplo:\n",
    "temporeagente = list(range(numero_passos))\n",
    "\n",
    "# Lista de todas as listas de dados\n",
    "listas_reagentes = [lista_reagentes_sistema1, lista_reagentes_sistema2, lista_reagentes_sistema3, lista_reagentes_sistema4, lista_reagentes_sistema5]  # Adicione as outras listas de dados aqui\n",
    "\n",
    "# Função exponencial\n",
    "def exponencial(t, a, k):\n",
    "    return a * np.exp(-k * t)\n",
    "\n",
    "# Ajuste da função exponencial para cada lista de dados\n",
    "parametros_ajustados = []\n",
    "valores_ajustados = []\n",
    "\n",
    "for atomos in listas_reagentes:\n",
    "    popt, _ = curve_fit(exponencial, temporeagente, atomos)\n",
    "    parametros_ajustados.append(popt)\n",
    "    valores_fit_reagente = exponencial(temporeagente, *popt)\n",
    "    valores_ajustados.append(valores_fit_reagente)\n",
    "\n",
    "    # Plot do ajuste para cada lista de dados\n",
    "    plt.plot(temporeagente, atomos, label='Dados Originais')\n",
    "    plt.plot(temporeagente, valores_fit_reagente, label='Ajuste Exponencial')\n",
    "    plt.xlabel('Tempo')\n",
    "    plt.ylabel('Lista de Átomos')\n",
    "    plt.legend()\n",
    "    plt.show()\n",
    "\n",
    "# Após o loop, você terá os ajustes e pode plotar todos em um único gráfico se desejar.\n"
   ]
  },
  {
   "cell_type": "code",
   "execution_count": 10,
   "id": "d30de720-938a-4801-b10b-40b00facae09",
   "metadata": {},
   "outputs": [
    {
     "name": "stdout",
     "output_type": "stream",
     "text": [
      "k = 0.09842060928540901\n",
      "k = 0.15255215098558933\n",
      "k = 0.07288226344987385\n",
      "k = 0.054768084194045365\n",
      "k = 0.1421489923779823\n"
     ]
    },
    {
     "data": {
      "image/png": "[encoded data removed]",
      "text/plain": [
       "<Figure size 432x288 with 1 Axes>"
      ]
     },
     "metadata": {
      "needs_background": "light"
     },
     "output_type": "display_data"
    }
   ],
   "source": [
    "def fit(x, k, C, D):\n",
    "    return C * np.exp(-k * x) + D\n",
    "\n",
    "taxas = []\n",
    "\n",
    "for idx, sistema_df in enumerate([sistema1_df, sistema2_df, sistema3_df, sistema4_df, sistema5_df]):\n",
    "    funcao_fit_model = lmfit.Model(fit)\n",
    "    funcao_fit_model.set_param_hint('D', value=30, vary=True)\n",
    "    funcao_fit_model.set_param_hint('C', value=150, vary=True)\n",
    "    funcao_fit_model.set_param_hint('k', value=0.05, vary=True)\n",
    "\n",
    "    param = funcao_fit_model.make_params()\n",
    "    results = funcao_fit_model.fit(sistema_df, x=temporeacao, params=param)\n",
    "    k = results.params['k'].value\n",
    "    D = results.params['D'].value\n",
    "    C = results.params['C'].value\n",
    "\n",
    "    x_fit = np.linspace(0, max(temporeacao))\n",
    "    y_fit = fit(x_fit, k, C, D)\n",
    "\n",
    "    taxas.append(k)\n",
    "\n",
    "    print('k =', k)\n",
    "    plt.scatter(x_fit, y_fit, label=f'fit sistema {idx + 1}')\n",
    "    plt.plot(temporeacao, sistema_df, label=f'dados sistema {idx + 1}')\n",
    "    plt.xlim(0, 100)\n",
    "\n",
    "plt.legend()\n",
    "plt.show()\n"
   ]
  },
  {
   "cell_type": "code",
   "execution_count": 11,
   "id": "a5a8c6cd-9788-45f7-96fc-6787cadd300b",
   "metadata": {},
   "outputs": [],
   "source": [
    "def calcular_temperatura(lista_particulas, massa):\n",
    "    \"\"\"\n",
    "    Calcula uma estimativa da temperatura do sistema com base na distribuição de Maxwell-Boltzmann das velocidades.\n",
    "\n",
    "    Args:\n",
    "        lista_particulas (list): Uma lista de objetos que contêm informações sobre as partículas.\n",
    "            Cada objeto deve ter um atributo 'velocidade' que represente a velocidade da partícula como um vetor.\n",
    "        massa (float): A massa das partículas em unidades apropriadas (por exemplo, kg).\n",
    "\n",
    "    Returns:\n",
    "        float: A temperatura estimada em Kelvin.\n",
    "\n",
    "    Note:\n",
    "        Esta estimativa assume que as velocidades das partículas seguem a distribuição de Maxwell-Boltzmann\n",
    "        e que o sistema se comporta como um gás ideal.\n",
    "    \"\"\"\n",
    "    v_quadrado_medio = 0\n",
    "    \n",
    "    for particula in lista_particulas:\n",
    "        v_quadrado_medio += np.dot(particula.velocidade, particula.velocidade)\n",
    "            \n",
    "    v_quadrado_medio /= len(lista_particulas)\n",
    "    \n",
    "    kB = 1.380649e-23    # Constante de Boltzmann em J/K #aproximação\n",
    "\n",
    "    temperatura = (massa * v_quadrado_medio) * numero_particulas / (3 * kB)\n",
    "    \n",
    "    return temperatura"
   ]
  },
  {
   "cell_type": "code",
   "execution_count": 12,
   "id": "6aa434fc-6eef-4264-b13d-a4ac15a83ce3",
   "metadata": {},
   "outputs": [
    {
     "name": "stdout",
     "output_type": "stream",
     "text": [
      "A temperatura estimada para o sistema 1 é aproximadamente 15.10 K.\n",
      "A temperatura estimada para o sistema 2 é aproximadamente 14.10 K.\n",
      "A temperatura estimada para o sistema 3 é aproximadamente 13.22 K.\n",
      "A temperatura estimada para o sistema 4 é aproximadamente 13.32 K.\n",
      "A temperatura estimada para o sistema 5 é aproximadamente 16.89 K.\n"
     ]
    }
   ],
   "source": [
    "# Supondo que a reação seja de H? Massa unitária \n",
    "massa_particula = 1*10**(-26)  # Em kg/mol\n",
    "\n",
    "# Calcular a temperatura\n",
    "temperatura_sistema1 = calcular_temperatura(lista_particulas_sistema1, massa_particula)\n",
    "temperatura_sistema2 = calcular_temperatura(lista_particulas_sistema2, massa_particula)\n",
    "temperatura_sistema3 = calcular_temperatura(lista_particulas_sistema3, massa_particula)\n",
    "temperatura_sistema4 = calcular_temperatura(lista_particulas_sistema4, massa_particula)\n",
    "temperatura_sistema5 = calcular_temperatura(lista_particulas_sistema5, massa_particula)\n",
    "\n",
    "\n",
    "print(f\"A temperatura estimada para o sistema 1 é aproximadamente {temperatura_sistema1:.2f} K.\")\n",
    "print(f\"A temperatura estimada para o sistema 2 é aproximadamente {temperatura_sistema2:.2f} K.\")\n",
    "print(f\"A temperatura estimada para o sistema 3 é aproximadamente {temperatura_sistema3:.2f} K.\")\n",
    "print(f\"A temperatura estimada para o sistema 4 é aproximadamente {temperatura_sistema4:.2f} K.\")\n",
    "print(f\"A temperatura estimada para o sistema 5 é aproximadamente {temperatura_sistema5:.2f} K.\")\n",
    "\n",
    "temperaturas_arrhenius = [temperatura_sistema1, temperatura_sistema2, temperatura_sistema3, temperatura_sistema4, temperatura_sistema5] #tem que transformar em array?"
   ]
  },
  {
   "cell_type": "code",
   "execution_count": 13,
   "id": "d7b002a8-03f9-464e-87aa-12121dffa860",
   "metadata": {},
   "outputs": [],
   "source": [
    "def arrhenius_eq(T, A, Ea):\n",
    "    \"\"\"\n",
    "    Calcula a constante de taxa (k) utilizando a Lei de Arrhenius.\n",
    "    \n",
    "    Args:\n",
    "        A (float): Fator de pré-exponencial de Arrhenius.\n",
    "        Ea (float): Energia de ativação em Joules por mol.\n",
    "        R (float): Constante dos gases ideais em Joules por mol por Kelvin.\n",
    "        T (float): Temperatura em Kelvin.\n",
    "        \n",
    "    Returns:\n",
    "        float: Constante de taxa (k).\n",
    "    \"\"\"\n",
    "    R = 8.314  # Constante dos gases ideais em J/(mol K)\n",
    "    \n",
    "    return A * np.exp(-(Ea / (R * T)))"
   ]
  },
  {
   "cell_type": "code",
   "execution_count": 14,
   "id": "b96906e5-f4d0-488e-a370-9593a64d9f70",
   "metadata": {},
   "outputs": [
    {
     "ename": "NameError",
     "evalue": "name 'A_fit' is not defined",
     "output_type": "error",
     "traceback": [
      "\u001b[1;31m---------------------------------------------------------------------------\u001b[0m",
      "\u001b[1;31mNameError\u001b[0m                                 Traceback (most recent call last)",
      "\u001b[1;32mC:\\Users\\DANIEL~1\\AppData\\Local\\Temp/ipykernel_8016/473375476.py\u001b[0m in \u001b[0;36m<module>\u001b[1;34m\u001b[0m\n\u001b[0;32m      9\u001b[0m \u001b[1;33m\u001b[0m\u001b[0m\n\u001b[0;32m     10\u001b[0m \u001b[1;31m# Calcular os valores ajustados\u001b[0m\u001b[1;33m\u001b[0m\u001b[1;33m\u001b[0m\u001b[0m\n\u001b[1;32m---> 11\u001b[1;33m \u001b[0mvalores_ajustados\u001b[0m \u001b[1;33m=\u001b[0m \u001b[0marrhenius_eq\u001b[0m\u001b[1;33m(\u001b[0m\u001b[0mtemperaturas_arrhenius\u001b[0m\u001b[1;33m,\u001b[0m \u001b[0mA_fit\u001b[0m\u001b[1;33m,\u001b[0m \u001b[0mEa_fit\u001b[0m\u001b[1;33m)\u001b[0m\u001b[1;33m\u001b[0m\u001b[1;33m\u001b[0m\u001b[0m\n\u001b[0m\u001b[0;32m     12\u001b[0m \u001b[1;33m\u001b[0m\u001b[0m\n\u001b[0;32m     13\u001b[0m \u001b[1;31m# Imprimir os resultados\u001b[0m\u001b[1;33m\u001b[0m\u001b[1;33m\u001b[0m\u001b[0m\n",
      "\u001b[1;31mNameError\u001b[0m: name 'A_fit' is not defined"
     ]
    }
   ],
   "source": [
    "temperaturas_arrhenius = np.array(temperaturas_arrhenius)\n",
    "\n",
    "# Transformação dos dados\n",
    "ln_taxas = np.log(taxas)\n",
    "\n",
    "# Ajuste linear\n",
    "params, covariance = curve_fit(arrhenius_eq, temperaturas_arrhenius, ln_taxas)\n",
    "A_fit_catalisador, Ea_fit_catalisador = params\n",
    "\n",
    "# Calcular os valores ajustados\n",
    "valores_ajustados = arrhenius_eq(temperaturas_arrhenius, A_fit, Ea_fit)\n",
    "\n",
    "# Imprimir os resultados\n",
    "print(f\"Fator de pré-exponencial (A): {A_fit_catalisador}\")\n",
    "print(f\"Energia de ativação (Ea): {Ea_fit_catalisador} J/mol\")\n",
    "\n",
    "# Plotar os dados experimentais e a curva ajustada\n",
    "plt.scatter(temperaturas_arrhenius, ln_taxas, color='red', label='Dados simulados')\n",
    "plt.plot(temperaturas_arrhenius, valores_ajustados, color='blue', label='Ajuste de Arrhenius')\n",
    "plt.xlabel('Temperatura (K)')\n",
    "plt.ylabel('ln(Taxas)')\n",
    "plt.legend()\n",
    "plt.show()\n"
   ]
  },
  {
   "cell_type": "markdown",
   "id": "d141b89b-42e5-4e5b-a560-65c8f0e9f2ff",
   "metadata": {
    "tags": []
   },
   "source": [
    "## Simulação da reação química sem catalisador:"
   ]
  },
  {
   "cell_type": "code",
   "execution_count": null,
   "id": "747f03ec-0965-43e8-b2f0-aeb8b922f121",
   "metadata": {},
   "outputs": [],
   "source": [
    "from funcoes import Particula, mudar_passo, gerar_particulas_dois_sistemas, simular_reacao, exponencial"
   ]
  },
  {
   "cell_type": "code",
   "execution_count": null,
   "id": "eb9bf6ef-05df-4ae4-9e02-983cba103839",
   "metadata": {},
   "outputs": [],
   "source": [
    "lista_particulas_sistema1_sem_catalisador, lista_particulas_sistema2_sem_catalisador, lista_particulas_sistema3_sem_catalisador, lista_particulas_sistema4_sem_catalisador, lista_particulas_sistema5_sem_catalisador = gerar_particulas_dois_sistemas(numero_particulas, RAIO, MASSA, tamanho_caixa, tipo)\n",
    "\n",
    "lista_reagentes_sistema1_sem_catalisador, lista_produtos_sistema1_sem_catalisador = [], []\n",
    "lista_reagentes_sistema2_sem_catalisador, lista_produtos_sistema2_sem_catalisador = [], []\n",
    "lista_reagentes_sistema3_sem_catalisador, lista_produtos_sistema3_sem_catalisador = [], []\n",
    "lista_reagentes_sistema4_sem_catalisador, lista_produtos_sistema4_sem_catalisador = [], []\n",
    "lista_reagentes_sistema5_sem_catalisador, lista_produtos_sistema5_sem_catalisador = [], []\n",
    "\n",
    "# Compute simulation (It takes some time if numero_passos and numero_particulas are large)\n",
    "for i in range(numero_passos):\n",
    "    \n",
    "    # Simular colisões\n",
    "    simular_reacao(lista_particulas_sistema1_sem_catalisador, probabilidade_reacao)\n",
    "\n",
    "    # Atualizar posições e velocidades\n",
    "    mudar_passo(lista_particulas_sistema1_sem_catalisador, tempo_cada_passo, tamanho_caixa)\n",
    "    \n",
    "    a_count, m_count = 0, 0\n",
    "    \n",
    "    for particula in lista_particulas_sistema1_sem_catalisador:\n",
    "        if particula.tipo == 'atomo':\n",
    "            a_count += 1\n",
    "        else:\n",
    "            m_count += 1\n",
    "    \n",
    "    lista_reagentes_sistema1_sem_catalisador.append(a_count)\n",
    "    lista_produtos_sistema1_sem_catalisador.append(m_count)\n",
    "    \n",
    "    # Simular colisões para o sistema 2\n",
    "    simular_reacao(lista_particulas_sistema2_sem_catalisador, probabilidade_reacao)\n",
    "    # Atualizar posições e velocidades para o sistema 2\n",
    "    mudar_passo(lista_particulas_sistema2_sem_catalisador, tempo_cada_passo, tamanho_caixa)\n",
    "    \n",
    "    a_count, m_count = 0, 0\n",
    "    for particula in lista_particulas_sistema2_sem_catalisador:\n",
    "        if particula.tipo == 'atomo':\n",
    "            a_count += 1\n",
    "        else:\n",
    "            m_count += 1\n",
    "    lista_reagentes_sistema2_sem_catalisador.append(a_count)\n",
    "    lista_produtos_sistema2_sem_catalisador.append(m_count)\n",
    "    \n",
    "    \n",
    "    # Simular colisões para o sistema 3\n",
    "    simular_reacao(lista_particulas_sistema3_sem_catalisador, probabilidade_reacao)\n",
    "\n",
    "    # Atualizar posições e velocidades\n",
    "    mudar_passo(lista_particulas_sistema3_sem_catalisador, tempo_cada_passo, tamanho_caixa)\n",
    "    \n",
    "    a_count, m_count = 0, 0\n",
    "    \n",
    "    for particula in lista_particulas_sistema3_sem_catalisador:\n",
    "        if particula.tipo == 'atomo':\n",
    "            a_count += 1\n",
    "        else:\n",
    "            m_count += 1\n",
    "    \n",
    "    lista_reagentes_sistema3_sem_catalisador.append(a_count)\n",
    "    lista_produtos_sistema3_sem_catalisador.append(m_count)\n",
    "    \n",
    "    simular_reacao(lista_particulas_sistema4_sem_catalisador, probabilidade_reacao)\n",
    "    # Atualizar posições e velocidades para o sistema 4\n",
    "    mudar_passo(lista_particulas_sistema4_sem_catalisador, tempo_cada_passo, tamanho_caixa)\n",
    "    \n",
    "    a_count, m_count = 0, 0\n",
    "    for particula in lista_particulas_sistema4_sem_catalisador:\n",
    "        if particula.tipo == 'atomo':\n",
    "            a_count += 1\n",
    "        else:\n",
    "            m_count += 1\n",
    "    lista_reagentes_sistema4_sem_catalisador.append(a_count)\n",
    "    lista_produtos_sistema4_sem_catalisador.append(m_count)\n",
    "    \n",
    "    # Simular colisões para o sistema 5\n",
    "    simular_reacao(lista_particulas_sistema5_sem_catalisador, probabilidade_reacao)\n",
    "\n",
    "    # Atualizar posições e velocidades\n",
    "    mudar_passo(lista_particulas_sistema5_sem_catalisador, tempo_cada_passo, tamanho_caixa)\n",
    "    \n",
    "    a_count, m_count = 0, 0\n",
    "    \n",
    "    for particula in lista_particulas_sistema5_sem_catalisador:\n",
    "        if particula.tipo == 'atomo':\n",
    "            a_count += 1\n",
    "        else:\n",
    "            m_count += 1\n",
    "    \n",
    "    lista_reagentes_sistema5_sem_catalisador.append(a_count)\n",
    "    lista_produtos_sistema5_sem_catalisador.append(m_count)\n",
    "    \n",
    "\n",
    "plt.plot(list(range(numero_passos)),lista_reagentes_sistema1_sem_catalisador,label='Reagentes sistema 1_sem_catalisador', marker = '*')\n",
    "plt.plot(list(range(numero_passos)),lista_reagentes_sistema2_sem_catalisador,label='Reagentes sistema 2_sem_catalisador', marker = '*')\n",
    "plt.plot(list(range(numero_passos)),lista_reagentes_sistema3_sem_catalisador,label='Reagentes sistema 3_sem_catalisador', marker = '*')\n",
    "plt.plot(list(range(numero_passos)),lista_reagentes_sistema4_sem_catalisador,label='Reagentes sistema 4_sem_catalisador', marker = '*')\n",
    "plt.plot(list(range(numero_passos)),lista_reagentes_sistema5_sem_catalisador,label='Reagentes sistema 5_sem_catalisador', marker = '*')\n",
    "plt.xlabel('Tempo')\n",
    "plt.ylabel('Número de partículas')\n",
    "\n",
    "plt.legend()\n",
    "plt.xlim(0, 50)  # Define os limites do eixo x de 0 a 100\n",
    "plt.savefig('Simulação_reagentes_doissistemas.png')\n",
    "plt.show()"
   ]
  },
  {
   "cell_type": "code",
   "execution_count": null,
   "id": "0b20cf03-49c3-4775-9712-773b4f88c28d",
   "metadata": {},
   "outputs": [],
   "source": [
    "lista_particulas_sistema1_sem_catalisador, lista_particulas_sistema2_sem_catalisador, lista_particulas_sistema3_sem_catalisador, lista_particulas_sistema4_sem_catalisador, lista_particulas_sistema5_sem_catalisador = gerar_particulas_dois_sistemas(numero_particulas, RAIO, MASSA, tamanho_caixa, tipo)\n",
    "\n",
    "lista_reagentes_sistema1_sem_catalisador, lista_produtos_sistema1_sem_catalisador = [], []\n",
    "lista_reagentes_sistema2_sem_catalisador, lista_produtos_sistema2_sem_catalisador = [], []\n",
    "lista_reagentes_sistema3_sem_catalisador, lista_produtos_sistema3_sem_catalisador = [], []\n",
    "lista_reagentes_sistema4_sem_catalisador, lista_produtos_sistema4_sem_catalisador = [], []\n",
    "lista_reagentes_sistema5_sem_catalisador, lista_produtos_sistema5_sem_catalisador = [], []\n",
    "\n",
    "# Compute simulation (It takes some time if numero_passos and numero_particulas are large)\n",
    "for i in range(numero_passos):\n",
    "    \n",
    "    # Simular colisões\n",
    "    simular_reacao(lista_particulas_sistema1_sem_catalisador, probabilidade_reacao)\n",
    "\n",
    "    # Atualizar posições e velocidades\n",
    "    mudar_passo(lista_particulas_sistema1_sem_catalisador, tempo_cada_passo, tamanho_caixa)\n",
    "    \n",
    "    a_count, m_count = 0, 0\n",
    "    \n",
    "    for particula in lista_particulas_sistema1_sem_catalisador:\n",
    "        if particula.tipo == 'atomo':\n",
    "            a_count += 1\n",
    "        else:\n",
    "            m_count += 1\n",
    "    \n",
    "    lista_reagentes_sistema1_sem_catalisador.append(a_count)\n",
    "    lista_produtos_sistema1_sem_catalisador.append(m_count)\n",
    "    \n",
    "    # Simular colisões para o sistema 2\n",
    "    simular_reacao(lista_particulas_sistema2_sem_catalisador, probabilidade_reacao)\n",
    "    # Atualizar posições e velocidades para o sistema 2\n",
    "    mudar_passo(lista_particulas_sistema2_sem_catalisador, tempo_cada_passo, tamanho_caixa)\n",
    "    \n",
    "    a_count, m_count = 0, 0\n",
    "    for particula in lista_particulas_sistema2_sem_catalisador:\n",
    "        if particula.tipo == 'atomo':\n",
    "            a_count += 1\n",
    "        else:\n",
    "            m_count += 1\n",
    "    lista_reagentes_sistema2_sem_catalisador.append(a_count)\n",
    "    lista_produtos_sistema2_sem_catalisador.append(m_count)\n",
    "    \n",
    "    \n",
    "    # Simular colisões para o sistema 3\n",
    "    simular_reacao(lista_particulas_sistema3_sem_catalisador, probabilidade_reacao)\n",
    "\n",
    "    # Atualizar posições e velocidades\n",
    "    mudar_passo(lista_particulas_sistema3_sem_catalisador, tempo_cada_passo, tamanho_caixa)\n",
    "    \n",
    "    a_count, m_count = 0, 0\n",
    "    \n",
    "    for particula in lista_particulas_sistema3_sem_catalisador:\n",
    "        if particula.tipo == 'atomo':\n",
    "            a_count += 1\n",
    "        else:\n",
    "            m_count += 1\n",
    "    \n",
    "    lista_reagentes_sistema3_sem_catalisador.append(a_count)\n",
    "    lista_produtos_sistema3_sem_catalisador.append(m_count)\n",
    "    \n",
    "    simular_reacao(lista_particulas_sistema4_sem_catalisador, probabilidade_reacao)\n",
    "    # Atualizar posições e velocidades para o sistema 4\n",
    "    mudar_passo(lista_particulas_sistema4_sem_catalisador, tempo_cada_passo, tamanho_caixa)\n",
    "    \n",
    "    a_count, m_count = 0, 0\n",
    "    for particula in lista_particulas_sistema4_sem_catalisador:\n",
    "        if particula.tipo == 'atomo':\n",
    "            a_count += 1\n",
    "        else:\n",
    "            m_count += 1\n",
    "    lista_reagentes_sistema4_sem_catalisador.append(a_count)\n",
    "    lista_produtos_sistema4_sem_catalisador.append(m_count)\n",
    "    \n",
    "    # Simular colisões para o sistema 5\n",
    "    simular_reacao(lista_particulas_sistema5_sem_catalisador, probabilidade_reacao)\n",
    "\n",
    "    # Atualizar posições e velocidades\n",
    "    mudar_passo(lista_particulas_sistema5_sem_catalisador, tempo_cada_passo, tamanho_caixa)\n",
    "    \n",
    "    a_count, m_count = 0, 0\n",
    "    \n",
    "    for particula in lista_particulas_sistema5_sem_catalisador:\n",
    "        if particula.tipo == 'atomo':\n",
    "            a_count += 1\n",
    "        else:\n",
    "            m_count += 1\n",
    "    \n",
    "    lista_reagentes_sistema5_sem_catalisador.append(a_count)\n",
    "    lista_produtos_sistema5_sem_catalisador.append(m_count)\n",
    "    \n",
    "\n",
    "plt.plot(list(range(numero_passos)),lista_reagentes_sistema1_sem_catalisador,label='Reagentes sistema 1_sem_catalisador', marker = '*')\n",
    "plt.plot(list(range(numero_passos)),lista_reagentes_sistema2_sem_catalisador,label='Reagentes sistema 2_sem_catalisador', marker = '*')\n",
    "plt.plot(list(range(numero_passos)),lista_reagentes_sistema3_sem_catalisador,label='Reagentes sistema 3_sem_catalisador', marker = '*')\n",
    "plt.plot(list(range(numero_passos)),lista_reagentes_sistema4_sem_catalisador,label='Reagentes sistema 4_sem_catalisador', marker = '*')\n",
    "plt.plot(list(range(numero_passos)),lista_reagentes_sistema5_sem_catalisador,label='Reagentes sistema 5_sem_catalisador', marker = '*')\n",
    "plt.xlabel('Tempo')\n",
    "plt.ylabel('Número de partículas')\n",
    "\n",
    "plt.legend()\n",
    "plt.xlim(0, 50)  # Define os limites do eixo x de 0 a 100\n",
    "plt.savefig('Simulação_reagentes_doissistemas.png')\n",
    "plt.show()"
   ]
  },
  {
   "cell_type": "markdown",
   "id": "22a40a53-2e7c-4813-8476-930b6e0953ec",
   "metadata": {},
   "source": [
    "#"
   ]
  },
  {
   "cell_type": "code",
   "execution_count": null,
   "id": "dec1a287-a6f7-4ca3-9b1b-4bc80a2a40d0",
   "metadata": {},
   "outputs": [],
   "source": [
    "lista = {'Reagentes sistema 1 sem catalisador': lista_reagentes_sistema1_sem_catalisador, 'Reagentes sistema 2 sem catalisador': lista_reagentes_sistema2_sem_catalisador, 'Reagentes sistema 3 sem catalisador': lista_reagentes_sistema3_sem_catalisador, 'Reagentes sistema 4 sem catalisador': lista_reagentes_sistema4_sem_catalisador, 'Reagentes sistema 5 sem catalisador': lista_reagentes_sistema5_sem_catalisador, 'tempo': range(numero_passos)}\n",
    "\n",
    "df_sem_catalisador = pd.DataFrame(lista)\n",
    "\n",
    "sistema1_df_sem_catalisador = df_sem_catalisador['Reagentes sistema 1 sem catalisador'] #df.iloc[0 : 70, 0]\n",
    "sistema2_df_sem_catalisador = df_sem_catalisador['Reagentes sistema 2 sem catalisador'] #df.iloc[0 : 70, 0]\n",
    "sistema3_df_sem_catalisador = df_sem_catalisador['Reagentes sistema 3 sem catalisador'] #df.iloc[0 : 70, 0]\n",
    "sistema4_df_sem_catalisador = df_sem_catalisador['Reagentes sistema 4 sem catalisador'] #df.iloc[0 : 70, 0]\n",
    "sistema5_df_sem_catalisador = df_sem_catalisador['Reagentes sistema 5 sem catalisador'] #df.iloc[0 : 70, 0]\n",
    "\n",
    "temporeacao = df_sem_catalisador['tempo'] #df.iloc[0:70, 2]\n",
    "\n",
    "df.to_csv('meu_dataframe.csv', index=False)\n"
   ]
  },
  {
   "cell_type": "code",
   "execution_count": null,
   "id": "1b470253-24b4-4f24-a61f-f8b8b147abde",
   "metadata": {},
   "outputs": [],
   "source": [
    "lista = {'Reagentes sistema 1 sem catalisador': lista_reagentes_sistema1_sem_catalisador, 'Reagentes sistema 2 sem catalisador': lista_reagentes_sistema2_sem_catalisador, 'Reagentes sistema 3 sem catalisador': lista_reagentes_sistema3_sem_catalisador, 'Reagentes sistema 4 sem catalisador': lista_reagentes_sistema4_sem_catalisador, 'Reagentes sistema 5 sem catalisador': lista_reagentes_sistema5_sem_catalisador, 'tempo': range(numero_passos)}\n",
    "\n",
    "df_sem_catalisador = pd.DataFrame(lista)\n",
    "\n",
    "sistema1_df_sem_catalisador = df_sem_catalisador['Reagentes sistema 1 sem catalisador'] #df.iloc[0 : 70, 0]\n",
    "sistema2_df_sem_catalisador = df_sem_catalisador['Reagentes sistema 2 sem catalisador'] #df.iloc[0 : 70, 0]\n",
    "sistema3_df_sem_catalisador = df_sem_catalisador['Reagentes sistema 3 sem catalisador'] #df.iloc[0 : 70, 0]\n",
    "sistema4_df_sem_catalisador = df_sem_catalisador['Reagentes sistema 4 sem catalisador'] #df.iloc[0 : 70, 0]\n",
    "sistema5_df_sem_catalisador = df_sem_catalisador['Reagentes sistema 5 sem catalisador'] #df.iloc[0 : 70, 0]\n",
    "\n",
    "temporeacao = df_sem_catalisador['tempo'] #df.iloc[0:70, 2]\n",
    "\n",
    "df.to_csv('meu_dataframe.csv', index=False)\n"
   ]
  },
  {
   "cell_type": "code",
   "execution_count": null,
   "id": "10b9333f-74d8-4a54-a089-e9bd85852708",
   "metadata": {},
   "outputs": [],
   "source": [
    "def fit(x, k, C, D):\n",
    "    return C * np.exp(-k * x) + D\n",
    "\n",
    "taxas_sem_catalisador = []\n",
    "\n",
    "for idx, sistema_df in enumerate([sistema1_df_sem_catalisador, sistema2_df_sem_catalisador, sistema3_df_sem_catalisador, sistema4_df_sem_catalisador, sistema5_df_sem_catalisador]):\n",
    "    funcao_fit_model = lmfit.Model(fit)\n",
    "    funcao_fit_model.set_param_hint('D', value=30, vary=True)\n",
    "    funcao_fit_model.set_param_hint('C', value=150, vary=True)\n",
    "    funcao_fit_model.set_param_hint('k', value=0.05, vary=True)\n",
    "\n",
    "    param = funcao_fit_model.make_params()\n",
    "    results = funcao_fit_model.fit(sistema_df, x=temporeacao, params=param)\n",
    "    k = results.params['k'].value\n",
    "    D = results.params['D'].value\n",
    "    C = results.params['C'].value\n",
    "\n",
    "    x_fit = np.linspace(0, max(temporeacao))\n",
    "    y_fit = fit(x_fit, k, C, D)\n",
    "\n",
    "    taxas_sem_catalisador.append(k)\n",
    "\n",
    "    print('k =', k)\n",
    "    plt.scatter(x_fit, y_fit, label=f'fit sistema {idx + 1}')\n",
    "    plt.plot(temporeacao, sistema_df, label=f'dados sistema {idx + 1}')\n",
    "    plt.xlim(0, 100)\n",
    "\n",
    "plt.legend()\n",
    "plt.show()\n"
   ]
  },
  {
   "cell_type": "code",
   "execution_count": null,
   "id": "b6303f42-e531-4f82-a420-40fbf3bcff2d",
   "metadata": {},
   "outputs": [],
   "source": [
    "# Supondo que a reação seja de H? Massa unitária \n",
    "massa_particula = 1*10**(-26)  # Em kg/mol\n",
    "\n",
    "# Calcular a temperatura\n",
    "temperatura_sistema1_sem_catalisador = calcular_temperatura(lista_particulas_sistema1_sem_catalisador, massa_particula)\n",
    "temperatura_sistema2_sem_catalisador = calcular_temperatura(lista_particulas_sistema2_sem_catalisador, massa_particula)\n",
    "temperatura_sistema3_sem_catalisador = calcular_temperatura(lista_particulas_sistema3_sem_catalisador, massa_particula)\n",
    "temperatura_sistema4_sem_catalisador = calcular_temperatura(lista_particulas_sistema4_sem_catalisador, massa_particula)\n",
    "temperatura_sistema5_sem_catalisador = calcular_temperatura(lista_particulas_sistema5_sem_catalisador, massa_particula)\n",
    "\n",
    "\n",
    "print(f\"A temperatura estimada para o sistema 1 é aproximadamente {temperatura_sistema1_sem_catalisador:.2f} K.\")\n",
    "print(f\"A temperatura estimada para o sistema 2 é aproximadamente {temperatura_sistema2_sem_catalisador:.2f} K.\")\n",
    "print(f\"A temperatura estimada para o sistema 3 é aproximadamente {temperatura_sistema3_sem_catalisador:.2f} K.\")\n",
    "print(f\"A temperatura estimada para o sistema 4 é aproximadamente {temperatura_sistema4_sem_catalisador:.2f} K.\")\n",
    "print(f\"A temperatura estimada para o sistema 5 é aproximadamente {temperatura_sistema5_sem_catalisador:.2f} K.\")\n",
    "\n",
    "temperaturas_arrhenius_sem_catalisador = [temperatura_sistema1_sem_catalisador, temperatura_sistema2_sem_catalisador, temperatura_sistema3_sem_catalisador, temperatura_sistema4_sem_catalisador, temperatura_sistema5_sem_catalisador] #tem que transformar em array?"
   ]
  },
  {
   "cell_type": "code",
   "execution_count": null,
   "id": "0e258027-c29b-4e88-83a4-8e5a1790b23f",
   "metadata": {},
   "outputs": [],
   "source": [
    "temperaturas_arrhenius_sem_catalisador = np.array(temperaturas_arrhenius_sem_catalisador)\n",
    "\n",
    "# Transformação dos dados\n",
    "ln_taxas_sem_catalisador = np.log(taxas_sem_catalisador)\n",
    "\n",
    "# Ajuste linear\n",
    "params, covariance = curve_fit(arrhenius_eq, temperaturas_arrhenius_sem_catalisador, ln_taxas_sem_catalisador)\n",
    "A_fit_sem_catalisador, Ea_fit_sem_catalisador = params\n",
    "\n",
    "# Calcular os valores ajustados\n",
    "valores_ajustados_sem_catalisador = arrhenius_eq(temperaturas_arrhenius_sem_catalisador, A_fit_sem_catalisador, Ea_fit_sem_catalisador)\n",
    "\n",
    "# Imprimir os resultados\n",
    "print(f\"Fator de pré-exponencial (A): {A_fit_sem_catalisador}\")\n",
    "print(f\"Energia de ativação (Ea): {Ea_fit_sem_catalisador} J/mol\")\n",
    "\n",
    "# Plotar os dados experimentais e a curva ajustada\n",
    "plt.scatter(temperaturas_arrhenius_sem_catalisador, ln_taxas_sem_catalisador, color='red', label='Dados simulados')\n",
    "plt.plot(temperaturas_arrhenius_sem_catalisador, valores_ajustados_sem_catalisador, color='blue', label='Ajuste de Arrhenius')\n",
    "plt.xlabel('Temperatura (K)')\n",
    "plt.ylabel('ln(Taxas)')\n",
    "plt.legend()\n",
    "plt.show()\n"
   ]
  }
 ],
 "metadata": {
  "kernelspec": {
   "display_name": "ilumpy",
   "language": "python",
   "name": "ilumpy"
  },
  "language_info": {
   "codemirror_mode": {
    "name": "ipython",
    "version": 3
   },
   "file_extension": ".py",
   "mimetype": "text/x-python",
   "name": "python",
   "nbconvert_exporter": "python",
   "pygments_lexer": "ipython3",
   "version": "3.9.7"
  }
 },
 "nbformat": 4,
 "nbformat_minor": 5
}

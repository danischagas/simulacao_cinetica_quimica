{
 "cells": [
  {
   "cell_type": "markdown",
   "id": "1417556c-d9eb-4a18-9265-85b982e21ee3",
   "metadata": {},
   "source": [
    "## Importações:"
   ]
  },
  {
   "cell_type": "code",
   "execution_count": 1,
   "id": "206185ca-ce53-4077-b2f2-5c5765311490",
   "metadata": {},
   "outputs": [],
   "source": [
    "import numpy as np\n",
    "import random as rd\n",
    "import matplotlib.pyplot as plt\n",
    "from matplotlib.patches import Circle\n",
    "import matplotlib.animation as animation\n",
    "from funcoes import mudar_passo, gerar_particulas, simular_colisao, Particula\n",
    "from itertools import combinations\n",
    "from scipy.interpolate import interp1d\n",
    "plt.style.use('seaborn-bright')"
   ]
  },
  {
   "cell_type": "markdown",
   "id": "64e60c82-c036-4606-a3e7-ac56d0703669",
   "metadata": {},
   "source": [
    "## Realiza simulação:"
   ]
  },
  {
   "cell_type": "code",
   "execution_count": 2,
   "id": "7c8aee18-0637-43d6-b7cc-22045f248725",
   "metadata": {},
   "outputs": [],
   "source": [
    "#Parâmetros da simulação:\n",
    "\n",
    "numero_particulas = 1000\n",
    "tamanho_caixa = 500\n",
    "RAIO = 2\n",
    "MASSA = 1\n",
    "probabilidade_reacao = 1\n",
    "\n",
    "tempo_final = 10\n",
    "numero_passos = 150\n",
    "tempo_cada_passo = tempo_final/numero_passos\n",
    "\n",
    "lista_particulas = gerar_particulas(numero_particulas, RAIO, MASSA, tamanho_caixa)"
   ]
  },
  {
   "cell_type": "markdown",
   "id": "39cc0d14-d446-43c8-8182-101c7aadf46a",
   "metadata": {},
   "source": [
    "--------------------------"
   ]
  },
  {
   "cell_type": "markdown",
   "id": "d3d229af-0be0-4df6-8c10-15b328242eed",
   "metadata": {},
   "source": [
    "## Simulação da reação química:"
   ]
  },
  {
   "cell_type": "markdown",
   "id": "6a709a26-85df-4bba-a2d6-ca26f6101750",
   "metadata": {},
   "source": [
    "- Se ocorre uma reação ela é necessariamente \n",
    "- Tem conservação de massa?\n",
    "- Eu preciso que em algum lugar seja definido o tipo das partículas para eu conseguir fazer um if \n",
    "- talvez transformar nossa partícula em uma matriz igual do amauri e tirar o resto das classes\n",
    "- precisa atualizar a matriz de partículas \n",
    "- verificar se há colisão\n",
    "- Testar se é melhor fazer uma nova classe 'molécula' ou usar 'nova_particula = Particula(nova_massa, novo_raio, nova_posicao, nova_velocidade, tipo)\n",
    "- Checar se a conservação de volume está no livro\n",
    "- Tirar uma das partículas e gerar uma nova a partir da outra\n",
    "- Usar o itertools (tem uma função que não repete) para usar o particula1 com particula2\n",
    "- itertools.combinations"
   ]
  },
  {
   "cell_type": "code",
   "execution_count": 4,
   "id": "cfc9dffa-1253-466e-8c73-5f0357b3c940",
   "metadata": {},
   "outputs": [
    {
     "ename": "TypeError",
     "evalue": "__init__() got an unexpected keyword argument 'tipo'",
     "output_type": "error",
     "traceback": [
      "\u001b[1;31m---------------------------------------------------------------------------\u001b[0m",
      "\u001b[1;31mTypeError\u001b[0m                                 Traceback (most recent call last)",
      "\u001b[1;32mC:\\Users\\DANIEL~1\\AppData\\Local\\Temp/ipykernel_1560/3331068232.py\u001b[0m in \u001b[0;36m<module>\u001b[1;34m\u001b[0m\n\u001b[0;32m      2\u001b[0m \u001b[1;32mfor\u001b[0m \u001b[0mi\u001b[0m \u001b[1;32min\u001b[0m \u001b[0mrange\u001b[0m\u001b[1;33m(\u001b[0m\u001b[0mnumero_passos\u001b[0m\u001b[1;33m)\u001b[0m\u001b[1;33m:\u001b[0m\u001b[1;33m\u001b[0m\u001b[1;33m\u001b[0m\u001b[0m\n\u001b[0;32m      3\u001b[0m      \u001b[1;31m# Simular colisões\u001b[0m\u001b[1;33m\u001b[0m\u001b[1;33m\u001b[0m\u001b[0m\n\u001b[1;32m----> 4\u001b[1;33m     \u001b[0msimular_colisao\u001b[0m\u001b[1;33m(\u001b[0m\u001b[0mlista_particulas\u001b[0m\u001b[1;33m,\u001b[0m \u001b[0mprobabilidade_reacao\u001b[0m\u001b[1;33m)\u001b[0m\u001b[1;33m\u001b[0m\u001b[1;33m\u001b[0m\u001b[0m\n\u001b[0m\u001b[0;32m      5\u001b[0m \u001b[1;33m\u001b[0m\u001b[0m\n\u001b[0;32m      6\u001b[0m     \u001b[1;31m# Atualizar posições e velocidades\u001b[0m\u001b[1;33m\u001b[0m\u001b[1;33m\u001b[0m\u001b[0m\n",
      "\u001b[1;32mC:\\JupyterLab\\4° Semestre\\Cinética química\\simulacao_cinetica_quimica\\funcoes.py\u001b[0m in \u001b[0;36msimular_colisao\u001b[1;34m(lista_particulas, probabilidade_reacao)\u001b[0m\n\u001b[0;32m    136\u001b[0m                 \u001b[0mnova_posicao\u001b[0m \u001b[1;33m=\u001b[0m \u001b[1;33m(\u001b[0m\u001b[0mparticula1\u001b[0m\u001b[1;33m.\u001b[0m\u001b[0mposicao\u001b[0m \u001b[1;33m+\u001b[0m \u001b[0mparticula2\u001b[0m\u001b[1;33m.\u001b[0m\u001b[0mposicao\u001b[0m\u001b[1;33m)\u001b[0m \u001b[1;33m/\u001b[0m \u001b[1;36m2\u001b[0m \u001b[1;31m#centro de massa\u001b[0m\u001b[1;33m\u001b[0m\u001b[1;33m\u001b[0m\u001b[0m\n\u001b[0;32m    137\u001b[0m                 \u001b[0mnova_velocidade\u001b[0m \u001b[1;33m=\u001b[0m \u001b[1;33m(\u001b[0m\u001b[0mparticula1\u001b[0m\u001b[1;33m.\u001b[0m\u001b[0mmassa\u001b[0m \u001b[1;33m*\u001b[0m \u001b[0mparticula1\u001b[0m\u001b[1;33m.\u001b[0m\u001b[0mvelocidade\u001b[0m \u001b[1;33m+\u001b[0m \u001b[0mparticula2\u001b[0m\u001b[1;33m.\u001b[0m\u001b[0mmassa\u001b[0m \u001b[1;33m*\u001b[0m \u001b[0mparticula2\u001b[0m\u001b[1;33m.\u001b[0m\u001b[0mvelocidade\u001b[0m\u001b[1;33m)\u001b[0m \u001b[1;33m/\u001b[0m \u001b[0mnova_massa\u001b[0m\u001b[1;33m\u001b[0m\u001b[1;33m\u001b[0m\u001b[0m\n\u001b[1;32m--> 138\u001b[1;33m                 nova_particula = Particula(\n\u001b[0m\u001b[0;32m    139\u001b[0m                     \u001b[0mmassa\u001b[0m\u001b[1;33m=\u001b[0m\u001b[0mnova_massa\u001b[0m\u001b[1;33m,\u001b[0m\u001b[1;33m\u001b[0m\u001b[1;33m\u001b[0m\u001b[0m\n\u001b[0;32m    140\u001b[0m                     \u001b[0mraio\u001b[0m\u001b[1;33m=\u001b[0m\u001b[1;33m(\u001b[0m\u001b[0mparticula1\u001b[0m\u001b[1;33m.\u001b[0m\u001b[0mraio\u001b[0m\u001b[1;33m**\u001b[0m\u001b[1;36m3\u001b[0m \u001b[1;33m+\u001b[0m \u001b[0mparticula2\u001b[0m\u001b[1;33m.\u001b[0m\u001b[0mraio\u001b[0m\u001b[1;33m**\u001b[0m\u001b[1;36m3\u001b[0m\u001b[1;33m)\u001b[0m\u001b[1;33m**\u001b[0m\u001b[1;33m(\u001b[0m\u001b[1;36m1\u001b[0m\u001b[1;33m/\u001b[0m\u001b[1;36m3\u001b[0m\u001b[1;33m)\u001b[0m\u001b[1;33m,\u001b[0m  \u001b[1;31m# Lei da conservação de volume\u001b[0m\u001b[1;33m\u001b[0m\u001b[1;33m\u001b[0m\u001b[0m\n",
      "\u001b[1;31mTypeError\u001b[0m: __init__() got an unexpected keyword argument 'tipo'"
     ]
    }
   ],
   "source": [
    "# Compute simulation (It takes some time if numero_passos and numero_particulas are large)\n",
    "for i in range(numero_passos):\n",
    "     # Simular colisões\n",
    "    simular_colisao(lista_particulas, probabilidade_reacao)\n",
    "\n",
    "    # Atualizar posições e velocidades\n",
    "    mudar_passo(lista_particulas, tempo_cada_passo, tamanho_caixa)"
   ]
  },
  {
   "cell_type": "markdown",
   "id": "8951f67c-942c-458a-b574-a11ee52007b4",
   "metadata": {},
   "source": [
    "## Gerar animação da reação:"
   ]
  },
  {
   "cell_type": "code",
   "execution_count": null,
   "id": "608faf55-f36f-4fe0-8a6c-d1ce5e0351cf",
   "metadata": {},
   "outputs": [],
   "source": [
    "def criar_animacao_simulacao_reacao(lista_particulas, TAMANHO_CAIXA, RAIO, NUM_STEPS, probabilidade_reacao):\n",
    "    fig, ax = plt.subplots(figsize=(10, 10))\n",
    "    ims = []\n",
    "\n",
    "    ax.set_xlim(0, TAMANHO_CAIXA)\n",
    "    ax.set_ylim(0, TAMANHO_CAIXA)\n",
    "    \n",
    "    ax.set_xticks([])\n",
    "    ax.set_yticks([])\n",
    "    ax.set_title('Simulação de Reação Química', fontsize=20)\n",
    "     \n",
    "    for k in range(NUM_STEPS):\n",
    "        # Chamando a função para simular reações\n",
    "        simular_reacao(lista_particulas, probabilidade_reacao)\n",
    "\n",
    "        # Desenha as partículas após a simulação de reação\n",
    "        circles = []\n",
    "        for particula in lista_particulas:\n",
    "            x = particula.todas_posicoes[k][0]\n",
    "            y = particula.todas_posicoes[k][1]\n",
    "            circle = plt.Circle((x, y), RAIO, fill=True, color='blue', edgecolor='black')\n",
    "            ax.add_artist(circle)\n",
    "            circles.append(circle)\n",
    "        ims.append(circles)\n",
    "\n",
    "    ani = animation.ArtistAnimation(fig, ims, interval=40, blit=True, repeat_delay=100)\n",
    "    writer = animation.PillowWriter(fps=10, bitrate=4000)\n",
    "    ani.save(\"resultados/simulacao_reacao.gif\", writer=writer, dpi=100)\n",
    "\n",
    "criar_animacao_simulacao_reacao(lista_particulas, TAMANHO_CAIXA, RAIO, NUM_STEPS, probabilidade_reacao)\n"
   ]
  },
  {
   "cell_type": "markdown",
   "id": "4d04deba-d3a3-44e4-b82c-86bb1e2d0c6c",
   "metadata": {},
   "source": [
    "## Cria gráfico de concentração:"
   ]
  },
  {
   "cell_type": "code",
   "execution_count": null,
   "id": "bf0a2e93-a67c-431d-a1f4-3a6e67d6af52",
   "metadata": {},
   "outputs": [],
   "source": [
    "concentracao_atomos = []\n",
    "concentracao_moleculas = []\n",
    "\n",
    "for k in range(NUM_STEPS):\n",
    "    count_atomos = 0\n",
    "    count_moleculas = 0\n",
    "    \n",
    "    for particula in lista_particulas:\n",
    "        if particula.tipo == 'atomo':\n",
    "            count_atomos += 1\n",
    "        elif particula.tipo == 'molecula':\n",
    "            count_moleculas += 1\n",
    "    \n",
    "    concentracao_atomos.append(count_atomos)\n",
    "    concentracao_moleculas.append(count_moleculas)"
   ]
  },
  {
   "cell_type": "code",
   "execution_count": null,
   "id": "bb5dbc00-8c60-4a7b-a5ad-1967f8360ea8",
   "metadata": {},
   "outputs": [],
   "source": [
    "fig, ax = plt.subplots(1,1, figsize=(12, 9))\n",
    "ax.set_title('Concentração de Átomos e Moléculas', fontsize=24)\n",
    "ax.set_ylabel('Concentração', fontsize=18)\n",
    "ax.set_xlabel('Tempo', fontsize=18)\n",
    "ax.grid('- -')\n",
    "ax.plot(range(NUM_STEPS), concentracao_atomos, linewidth=2.5, label='Átomos')\n",
    "ax.plot(range(NUM_STEPS), concentracao_moleculas, linewidth=2.5, label='Moléculas')\n",
    "\n",
    "# Adicione uma legenda\n",
    "ax.legend()\n",
    "\n",
    "# Salve a figura se desejar\n",
    "plt.savefig('resultados/concentracao_tempo.png', dpi=200)\n",
    "\n",
    "# Exiba o gráfico\n",
    "plt.show()"
   ]
  },
  {
   "cell_type": "markdown",
   "id": "e274569e-2d35-4ecf-a9b6-1bf44f5f40d7",
   "metadata": {},
   "source": [
    "## Fitagem com Spline Cúbica:"
   ]
  },
  {
   "cell_type": "code",
   "execution_count": null,
   "id": "ff11fca0-e53d-4339-8491-c1b63b6007de",
   "metadata": {},
   "outputs": [],
   "source": [
    "# Tempo e concentração de átomos\n",
    "tempo = np.arange(NUM_STEPS)\n",
    "concentracao_atomos = [...]  # Substitua pelo seu conjunto de dados\n",
    "\n",
    "# Interpolação utilizando spline cúbica\n",
    "f = interp1d(tempo, concentracao_atomos, kind='cubic')\n",
    "\n",
    "# Novos pontos de tempo para a curva ajustada (pode ser mais denso para uma curva mais suave)\n",
    "tempo_novo = np.linspace(tempo.min(), tempo.max(), 1000)\n",
    "\n",
    "# Avaliação da função ajustada\n",
    "concentracao_ajustada = f(tempo_novo)\n",
    "\n",
    "# Agora você tem a concentração ajustada em função do tempo\n",
    "\n",
    "# Se quiser plotar os dados e a curva ajustada\n",
    "import matplotlib.pyplot as plt\n",
    "\n",
    "plt.figure(figsize=(10, 6))\n",
    "plt.plot(tempo, concentracao_atomos, 'o', label='Dados Originais')\n",
    "plt.plot(tempo_novo, concentracao_ajustada, '-', label='Ajuste com Spline Cúbica')\n",
    "plt.legend()\n",
    "plt.title('Ajuste com Spline Cúbica')\n",
    "plt.xlabel('Tempo')\n",
    "plt.ylabel('Concentração de Átomos')\n",
    "plt.show()\n"
   ]
  },
  {
   "cell_type": "markdown",
   "id": "e023bcf3-d22d-4aaf-bf69-3d5be04e1566",
   "metadata": {},
   "source": [
    "## Gráfico da derivada da concentração por tempo:"
   ]
  },
  {
   "cell_type": "code",
   "execution_count": null,
   "id": "f1d8c732-073f-467e-a9cd-cce2f93b3c09",
   "metadata": {},
   "outputs": [],
   "source": [
    "# Calcular a diferença no tempo (assumindo que o intervalo de tempo é constante)\n",
    "delta_t_novo = tempo_novo[1] - tempo_novo[0]\n",
    "\n",
    "# Calcular a derivada da concentração ajustada\n",
    "velocidade_reacao_ajustada = np.gradient(concentracao_ajustada, delta_t_novo)\n",
    "\n",
    "# Agora você tem a taxa de variação da concentração de átomos ajustada em função do tempo\n",
    "# A velocidade de reação ajustada é d[atomos]/dtempo\n",
    "\n",
    "# Se quiser plotar a velocidade de reação ajustada\n",
    "import matplotlib.pyplot as plt\n",
    "\n",
    "plt.figure(figsize=(10, 6))\n",
    "plt.plot(tempo_novo[:-1], velocidade_reacao_ajustada, '-', label='Velocidade de Reação Ajustada')\n",
    "plt.legend()\n",
    "plt.title('Velocidade de Reação Ajustada')\n",
    "plt.xlabel('Tempo')\n",
    "plt.ylabel('Velocidade de Reação')\n",
    "plt.show()"
   ]
  }
 ],
 "metadata": {
  "kernelspec": {
   "display_name": "ilumpy",
   "language": "python",
   "name": "ilumpy"
  },
  "language_info": {
   "codemirror_mode": {
    "name": "ipython",
    "version": 3
   },
   "file_extension": ".py",
   "mimetype": "text/x-python",
   "name": "python",
   "nbconvert_exporter": "python",
   "pygments_lexer": "ipython3",
   "version": "3.9.7"
  }
 },
 "nbformat": 4,
 "nbformat_minor": 5
}

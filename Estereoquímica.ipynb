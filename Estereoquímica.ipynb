{
 "cells": [
  {
   "cell_type": "markdown",
   "id": "1417556c-d9eb-4a18-9265-85b982e21ee3",
   "metadata": {},
   "source": [
    "## Importações:"
   ]
  },
  {
   "cell_type": "code",
   "execution_count": 1,
   "id": "206185ca-ce53-4077-b2f2-5c5765311490",
   "metadata": {},
   "outputs": [],
   "source": [
    "import numpy as np\n",
    "import random as rd\n",
    "import matplotlib.pyplot as plt\n",
    "from matplotlib.patches import Circle\n",
    "import matplotlib.animation as animation\n",
    "from itertools import combinations\n",
    "from scipy.optimize import curve_fit\n",
    "#from scipy.interpolate import interp1d\n",
    "plt.style.use('seaborn-bright')\n",
    "import pandas as pd\n",
    "import math"
   ]
  },
  {
   "cell_type": "code",
   "execution_count": 2,
   "id": "8a52a156-064b-4db8-994e-18e4eb40b8ee",
   "metadata": {},
   "outputs": [],
   "source": [
    "from funcoes_estereoquimica import Particula, mudar_passo, gerar_particulas_dois_sistemas, simular_reacao, exponencial"
   ]
  },
  {
   "cell_type": "markdown",
   "id": "cb777b78-799f-4825-b159-bca19a732198",
   "metadata": {
    "tags": []
   },
   "source": [
    "# Simulando o sistema:"
   ]
  },
  {
   "cell_type": "markdown",
   "id": "c76bbafe-a127-4853-b3b3-5589d0f3a03a",
   "metadata": {
    "tags": []
   },
   "source": [
    "## Parâmetros da simulação:"
   ]
  },
  {
   "cell_type": "code",
   "execution_count": 6,
   "id": "b1a9a531-e225-41d0-ad57-760ba04c5856",
   "metadata": {},
   "outputs": [],
   "source": [
    "#Parâmetros da simulação:\n",
    "\n",
    "numero_particulas = 100\n",
    "tamanho_caixa = 50\n",
    "RAIO = 0.5\n",
    "MASSA = 1\n",
    "probabilidade_reacao = 0.7\n",
    "tipo = 'atomo'\n",
    "\n",
    "tempo_final = 50\n",
    "numero_passos = 400\n",
    "tempo_cada_passo = tempo_final/numero_passos"
   ]
  },
  {
   "cell_type": "markdown",
   "id": "c6f302af-ed33-4874-bae7-1c19878e2c28",
   "metadata": {
    "tags": []
   },
   "source": [
    "## Simulação da reação química:"
   ]
  },
  {
   "cell_type": "code",
   "execution_count": 7,
   "id": "184571c8-5ec8-41f8-9549-4e317012647a",
   "metadata": {},
   "outputs": [
    {
     "data": {
      "image/png": "[encoded data removed]",
      "text/plain": [
       "<Figure size 432x288 with 1 Axes>"
      ]
     },
     "metadata": {
      "needs_background": "light"
     },
     "output_type": "display_data"
    }
   ],
   "source": [
    "lista_particulas_sistema1, lista_particulas_sistema2, lista_particulas_sistema3, lista_particulas_sistema4, lista_particulas_sistema5 = gerar_particulas_dois_sistemas(numero_particulas, RAIO, MASSA, tamanho_caixa, tipo)\n",
    "\n",
    "lista_reagentes_sistema1, lista_produtos_sistema1 = [], []\n",
    "lista_reagentes_sistema2, lista_produtos_sistema2 = [], []\n",
    "lista_reagentes_sistema3, lista_produtos_sistema3 = [], []\n",
    "lista_reagentes_sistema4, lista_produtos_sistema4 = [], []\n",
    "lista_reagentes_sistema5, lista_produtos_sistema5 = [], []\n",
    "\n",
    "# Compute simulation (It takes some time if numero_passos and numero_particulas are large)\n",
    "for i in range(numero_passos):\n",
    "    \n",
    "    # Simular colisões\n",
    "    simular_reacao(lista_particulas_sistema1, probabilidade_reacao)\n",
    "\n",
    "    # Atualizar posições e velocidades\n",
    "    mudar_passo(lista_particulas_sistema1, tempo_cada_passo, tamanho_caixa, probabilidade_reacao)\n",
    "    \n",
    "    a_count, m_count = 0, 0\n",
    "    \n",
    "    for particula in lista_particulas_sistema1:\n",
    "        if particula.tipo == 'atomo':\n",
    "            a_count += 1\n",
    "        else:\n",
    "            m_count += 1\n",
    "    \n",
    "    lista_reagentes_sistema1.append(a_count)\n",
    "    lista_produtos_sistema1.append(m_count)\n",
    "    \n",
    "    # Simular colisões para o sistema 2\n",
    "    simular_reacao(lista_particulas_sistema2, probabilidade_reacao)\n",
    "    # Atualizar posições e velocidades para o sistema 2\n",
    "    mudar_passo(lista_particulas_sistema2, tempo_cada_passo, tamanho_caixa, probabilidade_reacao)\n",
    "    \n",
    "    a_count, m_count = 0, 0\n",
    "    for particula in lista_particulas_sistema2:\n",
    "        if particula.tipo == 'atomo':\n",
    "            a_count += 1\n",
    "        else:\n",
    "            m_count += 1\n",
    "    lista_reagentes_sistema2.append(a_count)\n",
    "    lista_produtos_sistema2.append(m_count)\n",
    "    \n",
    "    \n",
    "    # Simular colisões para o sistema 3\n",
    "    simular_reacao(lista_particulas_sistema3, probabilidade_reacao)\n",
    "\n",
    "    # Atualizar posições e velocidades\n",
    "    mudar_passo(lista_particulas_sistema3, tempo_cada_passo, tamanho_caixa, probabilidade_reacao)\n",
    "    \n",
    "    a_count, m_count = 0, 0\n",
    "    \n",
    "    for particula in lista_particulas_sistema3:\n",
    "        if particula.tipo == 'atomo':\n",
    "            a_count += 1\n",
    "        else:\n",
    "            m_count += 1\n",
    "    \n",
    "    lista_reagentes_sistema3.append(a_count)\n",
    "    lista_produtos_sistema3.append(m_count)\n",
    "    \n",
    "    simular_reacao(lista_particulas_sistema4, probabilidade_reacao)\n",
    "    # Atualizar posições e velocidades para o sistema 4\n",
    "    mudar_passo(lista_particulas_sistema4, tempo_cada_passo, tamanho_caixa, probabilidade_reacao)\n",
    "    \n",
    "    a_count, m_count = 0, 0\n",
    "    for particula in lista_particulas_sistema4:\n",
    "        if particula.tipo == 'atomo':\n",
    "            a_count += 1\n",
    "        else:\n",
    "            m_count += 1\n",
    "    lista_reagentes_sistema4.append(a_count)\n",
    "    lista_produtos_sistema4.append(m_count)\n",
    "    \n",
    "    # Simular colisões para o sistema 5\n",
    "    simular_reacao(lista_particulas_sistema5, probabilidade_reacao)\n",
    "\n",
    "    # Atualizar posições e velocidades\n",
    "    mudar_passo(lista_particulas_sistema5, tempo_cada_passo, tamanho_caixa, probabilidade_reacao)\n",
    "    \n",
    "    a_count, m_count = 0, 0\n",
    "    \n",
    "    for particula in lista_particulas_sistema5:\n",
    "        if particula.tipo == 'atomo':\n",
    "            a_count += 1\n",
    "        else:\n",
    "            m_count += 1\n",
    "    \n",
    "    lista_reagentes_sistema5.append(a_count)\n",
    "    lista_produtos_sistema5.append(m_count)\n",
    "    \n",
    "\n",
    "plt.plot(list(range(numero_passos)),lista_reagentes_sistema1,label='Reagentes sistema 1')\n",
    "plt.plot(list(range(numero_passos)),lista_reagentes_sistema2,label='Reagentes sistema 2')\n",
    "plt.plot(list(range(numero_passos)),lista_reagentes_sistema3,label='Reagentes sistema 3')\n",
    "plt.plot(list(range(numero_passos)),lista_reagentes_sistema4,label='Reagentes sistema 4')\n",
    "plt.plot(list(range(numero_passos)),lista_reagentes_sistema5,label='Reagentes sistema 5')\n",
    "plt.xlabel('Tempo')\n",
    "plt.ylabel('Número de partículas')\n",
    "\n",
    "plt.legend()\n",
    "plt.xlim(0, 50)  # Define os limites do eixo x de 0 a 100\n",
    "plt.savefig('Simulação_reagentes_doissistemas.png')\n",
    "plt.show()"
   ]
  },
  {
   "cell_type": "markdown",
   "id": "7398d0d0-30f9-45eb-97ff-a03548880cf4",
   "metadata": {},
   "source": [
    "## Dataframe:"
   ]
  },
  {
   "cell_type": "code",
   "execution_count": null,
   "id": "597b5ead-4150-4d67-8928-20ffe125bac2",
   "metadata": {},
   "outputs": [],
   "source": [
    "lista = {'Reagentes sistema 1': lista_reagentes_sistema1, 'Reagentes sistema 2': lista_reagentes_sistema2, 'Reagentes sistema 3': lista_reagentes_sistema3, 'Reagentes sistema 4': lista_reagentes_sistema4, 'Reagentes sistema 5': lista_reagentes_sistema5, 'tempo': range(numero_passos)}\n",
    "\n",
    "print(len(lista_reagentes_sistema1))\n",
    "print(len(lista_reagentes_sistema1))\n",
    "print(len(range(numero_passos)))\n",
    "\n",
    "\n",
    "df = pd.DataFrame(lista)\n",
    "\n",
    "sistema1_df = df['Reagentes sistema 1'] #df.iloc[0 : 70, 0]\n",
    "sistema2_df = df['Reagentes sistema 2'] #df.iloc[0 : 70, 0]\n",
    "sistema3_df = df['Reagentes sistema 3'] #df.iloc[0 : 70, 0]\n",
    "sistema4_df = df['Reagentes sistema 4'] #df.iloc[0 : 70, 0]\n",
    "sistema5_df = df['Reagentes sistema 5'] #df.iloc[0 : 70, 0]\n",
    "\n",
    "temporeacao = df['tempo'] #df.iloc[0:70, 2]\n",
    "\n",
    "df.to_csv('meu_dataframe.csv', index=False)\n"
   ]
  },
  {
   "cell_type": "markdown",
   "id": "3b4dbb7a-7b99-4f4f-9026-763f296798aa",
   "metadata": {},
   "source": [
    "## Coeficiente k:"
   ]
  },
  {
   "cell_type": "code",
   "execution_count": null,
   "id": "059173bd-5b68-4a05-b1a7-48e6a68d67a7",
   "metadata": {},
   "outputs": [],
   "source": [
    "import lmfit\n",
    "\n",
    "def fit(x, k, C, D):\n",
    "    return C*np.exp(-k*x) + D\n",
    "\n",
    "taxas = []\n",
    "\n",
    "for sistema_df in [sistema1_df, sistema2_df, sistema3_df, sistema4_df, sistema5_df]:\n",
    "    \n",
    "    funcao_fit_model=lmfit.Model(fit)\n",
    "    funcao_fit_model.set_param_hint('D',value=30, vary=True)\n",
    "    funcao_fit_model.set_param_hint('C',value=150, vary=True)\n",
    "    funcao_fit_model.set_param_hint('k',value=.05, vary=True)\n",
    "\n",
    "    param = funcao_fit_model.make_params()\n",
    "    results = funcao_fit_model.fit(sistema_df, x = temporeacao, params = param)\n",
    "    k = results.params['k'].value\n",
    "    D = results.params['D'].value\n",
    "    C = results.params['C'].value\n",
    "    \n",
    "    x_fit = np.linspace(0, max(temporeacao))\n",
    "    y_fit = fit(x_fit, k, C, D)\n",
    "    \n",
    "    taxas.append(k)\n",
    "    \n",
    "    print('k =',k)\n",
    "    plt.plot(x_fit,y_fit,label='fit')\n",
    "    plt.plot(temporeacao,sistema_df,label='dados gerados')\n",
    "    plt.legend()\n",
    "    plt.show()"
   ]
  },
  {
   "cell_type": "markdown",
   "id": "32d7c97f-00b5-469e-8418-8fcc96518fd2",
   "metadata": {},
   "source": [
    "#"
   ]
  },
  {
   "cell_type": "code",
   "execution_count": null,
   "id": "f4a3dce3-e4e8-4033-8066-d014a079245b",
   "metadata": {},
   "outputs": [],
   "source": [
    "taxas"
   ]
  },
  {
   "cell_type": "markdown",
   "id": "f8dc64c3-acf8-4484-862a-68f8fc356835",
   "metadata": {},
   "source": [
    "# Análise do efeito da Temperatura no sistema:"
   ]
  },
  {
   "cell_type": "markdown",
   "id": "4b4d8f25-7e3b-4cf6-a63c-72d3682c2c13",
   "metadata": {},
   "source": [
    "## Obtendo a temperatura através da simulação:\n",
    "Sim, você pode obter a temperatura a partir da distribuição de velocidades de Maxwell-Boltzmann. Esta distribuição descreve a probabilidade de uma partícula ter uma determinada velocidade em um gás ideal à temperatura \\(T\\).\n",
    "\n",
    "A relação entre a temperatura \\(T\\) e a distribuição de velocidades de Maxwell-Boltzmann é dada pela equação:\n",
    "\n",
    "$ \\langle v^2 \\rangle = \\frac{3 k_B T}{m} $\n",
    "\n",
    "Onde:\n",
    "- $\\langle v^2 \\rangle$ é o valor médio da velocidade ao quadrado.\n",
    "- \\(k_B\\) é a constante de Boltzmann $(1.380649 \\times 10^{-23} \\, \\text{J/K}$.\n",
    "- \\(T\\) é a temperatura em Kelvin.\n",
    "- \\(m\\) é a massa da partícula.\n",
    "\n",
    "Se você tiver a média das velocidades ao quadrado das partículas em sua simulação, você pode usar essa equação para encontrar a temperatura correspondente.\n",
    "\n",
    "Por exemplo, se você tem a média das velocidades ao quadrado $\\langle v^2 \\rangle$ e a massa das partículas, você pode calcular a temperatura usando:\n",
    "\n",
    "$ T = \\frac{m \\langle v^2 \\rangle}{3 k_B} $\n",
    "\n",
    "Lembre-se de que esta é uma estimativa baseada **nas propriedades do gás ideal e na distribuição de velocidades. Se o sistema não se comporta como um gás ideal, essa relação pode não ser precisa.**\n"
   ]
  },
  {
   "cell_type": "code",
   "execution_count": null,
   "id": "0ef44d73-0b92-4ad1-a2e4-082912fb95e1",
   "metadata": {},
   "outputs": [],
   "source": [
    "def calcular_temperatura(lista_particulas, massa):\n",
    "    \"\"\"\n",
    "    Calcula uma estimativa da temperatura do sistema com base na distribuição de Maxwell-Boltzmann das velocidades.\n",
    "\n",
    "    Args:\n",
    "        lista_particulas (list): Uma lista de objetos que contêm informações sobre as partículas.\n",
    "            Cada objeto deve ter um atributo 'velocidade' que represente a velocidade da partícula como um vetor.\n",
    "        massa (float): A massa das partículas em unidades apropriadas (por exemplo, kg).\n",
    "\n",
    "    Returns:\n",
    "        float: A temperatura estimada em Kelvin.\n",
    "\n",
    "    Note:\n",
    "        Esta estimativa assume que as velocidades das partículas seguem a distribuição de Maxwell-Boltzmann\n",
    "        e que o sistema se comporta como um gás ideal.\n",
    "    \"\"\"\n",
    "    v_quadrado_medio = 0\n",
    "    \n",
    "    for particula in lista_particulas:\n",
    "        v_quadrado_medio += np.dot(particula.velocidade, particula.velocidade)\n",
    "            \n",
    "    v_quadrado_medio /= len(lista_particulas)\n",
    "    \n",
    "    kB = 1.380649e-23  # Constante de Boltzmann em J/K\n",
    "    temperatura = (massa * v_quadrado_medio) / (3 * kB)\n",
    "    \n",
    "    return temperatura"
   ]
  },
  {
   "cell_type": "markdown",
   "id": "f2bd8294-e9f1-4c0a-9c11-f95df54cf520",
   "metadata": {},
   "source": [
    "O código retorna a temperatura estimada de um sistema de partículas com base nas velocidades dessas partículas, assumindo que as velocidades seguem a distribuição de Maxwell-Boltzmann.\n",
    "\n",
    "O parâmetro `lista_particulas` deve ser uma lista de objetos que contêm informações sobre as partículas. Cada objeto deve ter um atributo chamado `velocidade`, que representa a velocidade da partícula como um vetor.\n",
    "\n",
    "A função calcula a média das velocidades ao quadrado de todas as partículas e usa essa média para estimar a temperatura do sistema. Lembre-se de que esta é uma estimativa e assume que o sistema se comporta como um gás ideal.\n",
    "\n",
    "Para calcular a temperatura de uma partícula específica em vez da temperatura média do sistema, teria que considerar apenas a velocidade da partícula em questão.\n",
    "\n",
    "Então para a gente obter temperaturas diferentes e inserir na equação de Arrhenius, vamos ter que usar a função `calcular_temperatura` em dois sistemas diferentes."
   ]
  },
  {
   "cell_type": "markdown",
   "id": "bf15c521-f0a8-4bd0-b5f3-2e7cd836ce8a",
   "metadata": {},
   "source": [
    "## Simulando sistemas diferentes:\n",
    "Vamos ter que simular, pegar a lista de valores para calcular a temp e fitar para obter k.\n",
    "As velocidades dos sistemas são geradas de forma aleatória dentro de `gerar_particulas()`, para gerar esses dois sistemas com velocidades diferentes\n",
    "\n",
    "#### Massa:\n",
    "Para o átomo de hidrogênio, que tem uma massa atômica de aproximadamente 1.00784 u (unidades de massa atômica), podemos converter isso para gramas por mol (g/mol) e, em seguida, para quilogramas por mol (kg/mol).\n",
    "\n",
    "A conversão é feita da seguinte forma:\n",
    "\n",
    "1. Massa atômica em g/mol:\n",
    "$M_{\\text{H}} = 1.00784 \\, \\text{u} \\times 1 \\, \\text{g/mol/u} \\approx 1.00784 \\, \\text{g/mol}$\n",
    "\n",
    "2. Massa atômica em kg/mol:\n",
    "$m_{\\text{H}} = M_{\\text{H}} \\times 10^{-3} \\times N_A \\approx 1.00784 \\times 10^{-3} \\, \\text{kg/mol} \\times 6.02214076 \\times 10^{23} \\, \\text{mol}^{-1} \\approx 1.00784 \\times 10^{-26} \\, \\text{kg/mol}$\n",
    "\n",
    "Portanto, para o átomo de hidrogênio, a massa molecular é aproximadamente \\($1 \\times 10^{-26}$\\) kg/mol. Se você deseja usar isso na equação de Arrhenius, certifique-se de expressar a energia de ativação (\\($E_a$\\)) em joules (J) por mol.\n",
    "\n",
    "\n",
    "### Temperaturas:"
   ]
  },
  {
   "cell_type": "code",
   "execution_count": null,
   "id": "ad365eab-d3a7-455a-bc54-27bb11f68737",
   "metadata": {},
   "outputs": [],
   "source": [
    "# Supondo que a reação seja de H? Massa unitária \n",
    "massa_particula = 1*10**(-26)  # Em kg/mol\n",
    "\n",
    "# Calcular a temperatura\n",
    "temperatura_sistema1 = calcular_temperatura(lista_particulas_sistema1, massa_particula)\n",
    "temperatura_sistema2 = calcular_temperatura(lista_particulas_sistema2, massa_particula)\n",
    "temperatura_sistema3 = calcular_temperatura(lista_particulas_sistema3, massa_particula)\n",
    "temperatura_sistema4 = calcular_temperatura(lista_particulas_sistema4, massa_particula)\n",
    "temperatura_sistema5 = calcular_temperatura(lista_particulas_sistema5, massa_particula)\n",
    "\n",
    "\n",
    "print(f\"A temperatura estimada para o sistema 1 é aproximadamente {temperatura_sistema1:.2f} K.\")\n",
    "print(f\"A temperatura estimada para o sistema 2 é aproximadamente {temperatura_sistema2:.2f} K.\")\n",
    "print(f\"A temperatura estimada para o sistema 3 é aproximadamente {temperatura_sistema3:.2f} K.\")\n",
    "print(f\"A temperatura estimada para o sistema 4 é aproximadamente {temperatura_sistema4:.2f} K.\")\n",
    "print(f\"A temperatura estimada para o sistema 5 é aproximadamente {temperatura_sistema5:.2f} K.\")\n",
    "\n",
    "temperaturas_arrhenius = [temperatura_sistema1, temperatura_sistema2, temperatura_sistema3, temperatura_sistema4, temperatura_sistema5] #tem que transformar em array?"
   ]
  },
  {
   "cell_type": "markdown",
   "id": "39071fe0-fa24-4332-b7fb-783bca50d206",
   "metadata": {},
   "source": [
    "## Equação de Arrhenius:"
   ]
  },
  {
   "cell_type": "markdown",
   "id": "3f9ca352-1bf9-405a-aebd-1dafc6b4e809",
   "metadata": {},
   "source": [
    "Beleza, então eu tenho que usar as constantes k que saem da minha simulação para colocar na equação de arrhenus e daí obter as informações do meu sistema?"
   ]
  },
  {
   "cell_type": "markdown",
   "id": "51ca0dd5-b746-4288-b463-bfadf4835524",
   "metadata": {},
   "source": [
    "Na verdade, eu simulo aumentando a velocidade (que é a mesma coisa que aumentar a temperatura) e pego esses valores e fito para obter a energia de ativação"
   ]
  },
  {
   "cell_type": "code",
   "execution_count": null,
   "id": "ab425f2f-a97e-4078-8d5c-7de7018f4ffb",
   "metadata": {},
   "outputs": [],
   "source": [
    "def arrhenius_eq(T, A, Ea):\n",
    "    \"\"\"\n",
    "    Calcula a constante de taxa (k) utilizando a Lei de Arrhenius.\n",
    "    \n",
    "    Args:\n",
    "        A (float): Fator de pré-exponencial de Arrhenius.\n",
    "        Ea (float): Energia de ativação em Joules por mol.\n",
    "        R (float): Constante dos gases ideais em Joules por mol por Kelvin.\n",
    "        T (float): Temperatura em Kelvin.\n",
    "        \n",
    "    Returns:\n",
    "        float: Constante de taxa (k).\n",
    "    \"\"\"\n",
    "    R = 8.314  # Constante dos gases ideais em J/(mol K)\n",
    "    \n",
    "    return A * np.exp(-Ea / (R * T))"
   ]
  },
  {
   "cell_type": "code",
   "execution_count": null,
   "id": "a86fcf2e-ee69-4d33-8581-67168e1e170a",
   "metadata": {},
   "outputs": [],
   "source": [
    "temperaturas_arrhenius = np.array(temperaturas_arrhenius)\n",
    "\n",
    "# Transformação dos dados\n",
    "ln_taxas = np.log(taxas)\n",
    "\n",
    "# Ajuste linear\n",
    "params, covariance = curve_fit(arrhenius_eq, temperaturas_arrhenius, ln_taxas)\n",
    "A_fit, Ea_fit = params\n",
    "\n",
    "# Calcular os valores ajustados\n",
    "valores_ajustados = arrhenius_eq(temperaturas_arrhenius, A_fit, Ea_fit)\n",
    "\n",
    "# Imprimir os resultados\n",
    "print(f\"Fator de pré-exponencial (A): {A_fit}\")\n",
    "print(f\"Energia de ativação (Ea): {Ea_fit} J/mol\")\n",
    "\n",
    "# Plotar os dados experimentais e a curva ajustada\n",
    "plt.scatter(temperaturas_arrhenius, ln_taxas, color='red', label='Dados simulados')\n",
    "plt.plot(temperaturas_arrhenius, valores_ajustados, color='blue', label='Ajuste de Arrhenius')\n",
    "plt.xlabel('Temperatura (K)')\n",
    "plt.ylabel('ln(Taxas)')\n",
    "plt.legend()\n",
    "plt.show()\n"
   ]
  },
  {
   "cell_type": "markdown",
   "id": "66966aad-5c5d-4259-b6c8-aee41b2926d4",
   "metadata": {},
   "source": [
    "# Análise do efeito de catalisadores no sistema:\n",
    "\n",
    "1. Adicionar uma Classe para Catalisadores:\n",
    "\n",
    "Atualizar a Função de Simulação:\n"
   ]
  },
  {
   "cell_type": "code",
   "execution_count": null,
   "id": "5e59898e-cdbc-451b-b4d5-6a8af94f9417",
   "metadata": {},
   "outputs": [],
   "source": []
  },
  {
   "cell_type": "code",
   "execution_count": null,
   "id": "78abd7d7-2ffb-4737-ae0f-209598cbb84a",
   "metadata": {},
   "outputs": [],
   "source": [
    "paredes = [\n",
    "    Particula(MASSA, RAIO, np.array([0, TAMANHO_CAIXA / 2]), np.array([0, 0]), 'parede'),  # Parede esquerda\n",
    "    Particula(MASSA, RAIO, np.array([TAMANHO_CAIXA, TAMANHO_CAIXA / 2]), np.array([0, 0]), 'parede'),  # Parede direita\n",
    "    Particula(MASSA, RAIO, np.array([TAMANHO_CAIXA / 2, 0]), np.array([0, 0]), 'parede'),  # Parede inferior\n",
    "    Particula(MASSA, RAIO, np.array([TAMANHO_CAIXA / 2, TAMANHO_CAIXA]), np.array([0, 0]), 'parede')  # Parede superior\n",
    "]\n",
    "lista_particulas.extend(paredes)\n"
   ]
  },
  {
   "cell_type": "code",
   "execution_count": null,
   "id": "47f618de-7310-4482-a247-c1c7e500053f",
   "metadata": {},
   "outputs": [],
   "source": [
    "import numpy as np\n",
    "import matplotlib.pyplot as plt\n",
    "\n",
    "class Particula:\n",
    "    def __init__(self, massa, raio, posicao, velocidade, tipo):\n",
    "        self.massa = massa\n",
    "        self.raio = raio\n",
    "        self.posicao = posicao\n",
    "        self.velocidade = velocidade\n",
    "        self.tipo = tipo  # 'particula' ou 'parede'\n",
    "\n",
    "    def checar_colisao(self, outra_particula):\n",
    "        distancia = np.linalg.norm(self.posicao - outra_particula.posicao)\n",
    "        return distancia < (self.raio + outra_particula.raio)\n",
    "\n",
    "def simular_reacao(lista_particulas, probabilidade_reacao, probabilidade_reacao_parede):\n",
    "    for particula in lista_particulas:\n",
    "        if particula.tipo == 'particula':\n",
    "            # Verificar colisão com outras partículas\n",
    "            for outra_particula in lista_particulas:\n",
    "                if outra_particula.tipo == 'particula' and outra_particula != particula:\n",
    "                    colisao = particula.checar_colisao(outra_particula)\n",
    "                    if colisao and np.random.rand() < probabilidade_reacao:\n",
    "                        # Realizar reação\n",
    "                        lista_particulas.remove(particula)\n",
    "                        lista_particulas.remove(outra_particula)\n",
    "                        break\n",
    "            else:\n",
    "                # Se nenhum break ocorreu, a partícula não colidiu com outra partícula,\n",
    "                # então, verificar colisão com as paredes e aplicar probabilidade de reação\n",
    "                if np.random.rand() < probabilidade_reacao_parede:\n",
    "                    lista_particulas.remove(particula)\n",
    "        elif particula.tipo == 'parede':\n",
    "            # Verificar colisão com partículas e aplicar probabilidade de reação\n",
    "            for outra_particula in lista_particulas:\n",
    "                if outra_particula.tipo == 'particula':\n",
    "                    colisao = particula.checar_colisao(outra_particula)\n",
    "                    if colisao and np.random.rand() < probabilidade_reacao_parede:\n",
    "                        lista_particulas.remove(outra_particula)\n",
    "\n",
    "# Parâmetros da simulação\n",
    "N = 100  # Número de partículas\n",
    "RAIO = 1.0  # Raio das partículas\n",
    "MASSA = 1.0  # Massa das partículas\n",
    "TAMANHO_CAIXA = 50.0  # Tamanho da caixa\n",
    "TIPO = 'particula'  # Tipo de partícula\n",
    "\n",
    "# Probabilidades de reação\n",
    "PROBABILIDADE_REACAO = 0.1  # Probabilidade de reação no interior do sistema\n",
    "PROBABILIDADE_REACAO_PAREDE = 0.5  # Probabilidade de reação ao atingir uma parede\n",
    "\n",
    "# Gerar partículas\n",
    "lista_particulas = [Particula(MASSA, RAIO, RAIO + np.random.rand(2) * (TAMANHO_CAIXA - 2 * RAIO), np.random.rand(2) * 10, TIPO) for _ in range(N)]\n",
    "\n",
    "# Adicionar paredes como partículas fixas na borda da caixa\n",
    "paredes = [\n",
    "    Particula(MASSA, RAIO, np.array([0, TAMANHO_CAIXA / 2]), np.array([0, 0]), 'parede'),  # Parede esquerda\n",
    "    Particula(MASSA, RAIO, np.array([TAMANHO_CAIXA, TAMANHO_CAIXA / 2]), np.array([0, 0]), 'parede'),  # Parede direita\n",
    "    Particula(MASSA, RAIO, np.array([TAMANHO_CAIXA / 2, 0]), np.array([0, 0]), 'parede'),  # Parede inferior\n",
    "    Particula(MASSA, RAIO, np.array([TAMANHO_CAIXA / 2, TAMANHO_CAIXA]), np.array([0, 0]), 'parede')  # Parede superior\n",
    "]\n",
    "lista_particulas.extend(paredes)\n",
    "\n",
    "# Simular a reação\n",
    "simular_reacao(lista_particulas, PROBABILIDADE_REACAO, PROBABILIDADE_REACAO_PAREDE)\n",
    "\n",
    "# Plotar as partículas\n",
    "cores = ['b' if particula.tipo == 'particula' else 'r' for particula in lista_particulas]\n",
    "for particula, cor in zip(lista_particulas, cores):\n",
    "    plt.scatter(particula.posicao[0], particula.posicao[1], color=cor)\n",
    "\n",
    "plt.xlabel('X')\n",
    "plt.ylabel('Y')\n",
    "plt.title('Simulação com Paredes como Catalisadores')\n",
    "plt.show()\n"
   ]
  },
  {
   "cell_type": "code",
   "execution_count": null,
   "id": "a1a11681-7558-42f2-bf83-73f5e9dbcf66",
   "metadata": {},
   "outputs": [],
   "source": [
    "def simular_reacao(lista_particulas, probabilidade_reacao, probabilidade_desativacao):\n",
    "    for i, particula in enumerate(lista_particulas):\n",
    "        if particula.tipo == 'catalisador' and not particula.ativo:\n",
    "            continue  # Ignora catalisadores desativados\n",
    "\n",
    "        # Restante da lógica de simulação aqui\n",
    "\n",
    "        if particula.tipo == 'reagente':\n",
    "            # ...\n",
    "            if probabilidade_reacao > random.uniform(0, 1):\n",
    "                # Reação ocorre\n",
    "                # ...\n",
    "                if particula.tipo == 'catalisador':\n",
    "                    # Verifica se a desativação do catalisador ocorre\n",
    "                    if probabilidade_desativacao > random.uniform(0, 1):\n",
    "                        particula.desativar()\n",
    "                        print(f'Catalisador desativado: {i}')\n"
   ]
  },
  {
   "cell_type": "markdown",
   "id": "a5ee9d00-1077-41cb-98cb-48016ccd7abb",
   "metadata": {},
   "source": [
    "Adicionar uma Probabilidade de Desativação:"
   ]
  },
  {
   "cell_type": "code",
   "execution_count": null,
   "id": "90445a25-4cde-4a10-8a3f-55ca8ffccc0b",
   "metadata": {},
   "outputs": [],
   "source": [
    "# Dentro do loop de simulação\n",
    "probabilidade_desativacao = 0.05  # Ajuste conforme necessário\n",
    "simular_reacao(lista_particulas, probabilidade_reacao, probabilidade_desativacao)\n"
   ]
  },
  {
   "cell_type": "markdown",
   "id": "4e10f555-67fc-44c8-8ed7-ca49ea85e84a",
   "metadata": {},
   "source": [
    "Utilize Catalisadores na Simulação:"
   ]
  },
  {
   "cell_type": "code",
   "execution_count": null,
   "id": "c8a0222f-e1ef-4b4f-8a55-11b9eb6f4abe",
   "metadata": {},
   "outputs": [],
   "source": [
    "# Ao gerar as partículas\n",
    "lista_particulas = gerar_particulas(N, raio, massa, tamanho_caixa, tipo)\n",
    "lista_catalisadores = gerar_catalisadores(N_catalisadores, raio, massa, tamanho_caixa, tipo)\n",
    "lista_particulas.extend(lista_catalisadores)\n"
   ]
  },
  {
   "cell_type": "markdown",
   "id": "8e9e3274-c7f2-4d96-b8de-a0f289075abb",
   "metadata": {},
   "source": [
    "# Análise do efeito estereoquímico no sistema:\n",
    "A sugestão do Amauri foi variar a probabilidade de reação e ver o impacto disso.\n",
    "\n",
    "não muda a ordem de reação só a velocidade.)"
   ]
  },
  {
   "cell_type": "markdown",
   "id": "998b9b11-8d27-4fce-b406-991689fef1b1",
   "metadata": {},
   "source": [
    "---"
   ]
  },
  {
   "cell_type": "markdown",
   "id": "19b3554f-74e3-4d9a-a75c-ab3f08d4549e",
   "metadata": {},
   "source": [
    "## Análise do Método da Velocidade Inicial:"
   ]
  },
  {
   "cell_type": "code",
   "execution_count": null,
   "id": "c7f9f033-fc0b-4804-8dfb-a1dc9a550667",
   "metadata": {},
   "outputs": [],
   "source": [
    "# Vlor de K pela quantidade de partículas iniciais\n",
    "# Initial rate method"
   ]
  },
  {
   "cell_type": "code",
   "execution_count": null,
   "id": "dee7feaf-1d56-49cf-af0d-ba38d1a2ecc5",
   "metadata": {
    "tags": []
   },
   "outputs": [],
   "source": [
    "numero_particulas = [20, 60, 100] #, 140, 180, 200]\n",
    "\n",
    "parametros_ajustados = []\n",
    "valores_ajustados = []\n",
    "valores_iniciais = []\n",
    "\n",
    "for num_particulas in numero_particulas:\n",
    "    lista_particulas = gerar_particulas(num_particulas, RAIO, MASSA, tamanho_caixa, tipo)\n",
    "    lista_atomos =  []\n",
    "\n",
    "    # Compute simulation\n",
    "    for i in range(numero_passos):\n",
    "        # Simular colisões\n",
    "        simular_reacao(lista_particulas, probabilidade_reacao)\n",
    "\n",
    "        # Atualizar posições e velocidades\n",
    "        mudar_passo(lista_particulas, tempo_cada_passo, tamanho_caixa)\n",
    "\n",
    "        a_count, m_count = 0, 0\n",
    "\n",
    "        for particula in lista_particulas:\n",
    "            if particula.tipo == 'atomo':\n",
    "                a_count += 1\n",
    "\n",
    "        lista_atomos.append(a_count)\n",
    "       \n",
    "    temporeagente = range(numero_passos)  \n",
    "    atomodf = lista_atomos  \n",
    "    valores_iniciais.append(atomodf)\n",
    "    \n",
    "    popt, _ = curve_fit(exponencial, temporeagente, atomodf)\n",
    "    parametros_ajustados.append(popt)\n",
    "    valores_fit_reagente = exponencial(temporeagente, *popt)\n",
    "    valores_ajustados.append(valores_fit_reagente)\n",
    "\n",
    "\n",
    "for i, popt in enumerate(parametros_ajustados):\n",
    "    print(f\"Para N = {numero_particulas[i]}, os parâmetros ajustados são: k={popt[1]}\")\n",
    "\n",
    "\n",
    "plt.figure(figsize=(10, 5))\n",
    "for i, num_particulas in enumerate(numero_particulas):\n",
    "    plt.plot(temporeagente, valores_ajustados[i], label=f'N = {num_particulas}')\n",
    "    \n",
    "for dados in valores_iniciais:\n",
    "    plt.scatter(temporeagente, dados, s=10)\n",
    "\n",
    "plt.xlabel('Número de partículas')\n",
    "plt.ylabel('Tempo')\n",
    "plt.legend()\n",
    "plt.savefig('concentracaoinicial.png')\n",
    "plt.show()"
   ]
  },
  {
   "cell_type": "code",
   "execution_count": null,
   "id": "ba5e550a-c0c0-48fe-8204-7b300e1445d6",
   "metadata": {},
   "outputs": [],
   "source": [
    "import numpy as np\n",
    "\n",
    "class Particula:\n",
    "    def __init__(self, massa, raio, posicao, velocidade, tipo):\n",
    "        self.massa = massa\n",
    "        self.raio = raio\n",
    "        self.posicao = posicao\n",
    "        self.velocidade = velocidade\n",
    "        self.tipo = tipo\n",
    "        self.orientacao = self.calcular_orientacao()\n",
    "\n",
    "    def calcular_orientacao(self):\n",
    "        # Gere um vetor de orientação aleatório\n",
    "        angulo_orientacao = np.random.rand(1) * 2 * np.pi\n",
    "        return np.array([np.cos(angulo_orientacao), np.sin(angulo_orientacao)])\n",
    "\n",
    "    def mover(self, dt):\n",
    "        # Atualizar a posição com base na velocidade e no tempo\n",
    "        self.posicao += self.velocidade * dt\n",
    "\n",
    "    def checar_colisao(self, outra_particula):\n",
    "        # Verificar colisão entre partículas (adaptar conforme necessário)\n",
    "        distancia = np.linalg.norm(self.posicao - outra_particula.posicao)\n",
    "        return distancia < self.raio + outra_particula.raio\n",
    "\n",
    "def gerar_particulas(N, raio, massa, tamanho_caixa, tipo):\n",
    "    lista_particulas = []\n",
    "\n",
    "    for i in range(N):\n",
    "        magnitude_velocidade = np.random.rand(1) * 25\n",
    "        angulo_velocidade = np.random.rand(1) * 2 * np.pi\n",
    "\n",
    "        v = np.array([magnitude_velocidade * np.cos(angulo_velocidade), magnitude_velocidade * np.sin(angulo_velocidade)])\n",
    "        pos = raio + np.random.rand(2) * (tamanho_caixa - 2 * raio)\n",
    "\n",
    "        nova_particula = Particula(massa, raio, pos, v, tipo)\n",
    "        lista_particulas.append(nova_particula)\n",
    "\n",
    "    return lista_particulas\n",
    "\n",
    "# Exemplo de uso\n",
    "N = 10  # Número de partículas\n",
    "RAIO = 1.0\n",
    "MASSA = 1.0\n",
    "CAIXA_TAMANHO = 100.0\n",
    "\n",
    "particulas = gerar_particulas(N, RAIO, MASSA, CAIXA_TAMANHO, tipo=\"atomo\")\n",
    "\n",
    "for particula in particulas:\n",
    "    print(f\"Posição: {particula.posicao}, Orientação: {particula.orientacao}\")\n"
   ]
  },
  {
   "cell_type": "markdown",
   "id": "481e8d6e-7716-4f83-a826-f16359c8ee3e",
   "metadata": {},
   "source": [
    "Claro, o dot_product (produto escalar) é uma operação matemática fundamental entre dois vetores que produz um único número. No contexto de vetores, o produto escalar nos dá uma medida da \"similaridade\" ou \"alinhamento\" entre os vetores."
   ]
  }
 ],
 "metadata": {
  "kernelspec": {
   "display_name": "ilumpy",
   "language": "python",
   "name": "ilumpy"
  },
  "language_info": {
   "codemirror_mode": {
    "name": "ipython",
    "version": 3
   },
   "file_extension": ".py",
   "mimetype": "text/x-python",
   "name": "python",
   "nbconvert_exporter": "python",
   "pygments_lexer": "ipython3",
   "version": "3.9.7"
  }
 },
 "nbformat": 4,
 "nbformat_minor": 5
}

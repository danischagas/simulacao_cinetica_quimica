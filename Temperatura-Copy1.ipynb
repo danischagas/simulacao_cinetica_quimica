{
 "cells": [
  {
   "cell_type": "markdown",
   "id": "1417556c-d9eb-4a18-9265-85b982e21ee3",
   "metadata": {},
   "source": [
    "## Importações:"
   ]
  },
  {
   "cell_type": "code",
   "execution_count": 1,
   "id": "206185ca-ce53-4077-b2f2-5c5765311490",
   "metadata": {},
   "outputs": [],
   "source": [
    "import numpy as np\n",
    "import random as rd\n",
    "import matplotlib.pyplot as plt\n",
    "from matplotlib.patches import Circle\n",
    "import matplotlib.animation as animation\n",
    "from itertools import combinations\n",
    "from scipy.optimize import curve_fit\n",
    "#from scipy.interpolate import interp1d\n",
    "plt.style.use('seaborn-bright')\n",
    "import pandas as pd\n",
    "import math"
   ]
  },
  {
   "cell_type": "code",
   "execution_count": 2,
   "id": "8a52a156-064b-4db8-994e-18e4eb40b8ee",
   "metadata": {},
   "outputs": [],
   "source": [
    "from funcoes_paredes import Particula, mudar_passo, gerar_particulas_dois_sistemas, simular_reacao, exponencial"
   ]
  },
  {
   "cell_type": "markdown",
   "id": "cb777b78-799f-4825-b159-bca19a732198",
   "metadata": {
    "tags": []
   },
   "source": [
    "# Simulando o sistema:"
   ]
  },
  {
   "cell_type": "markdown",
   "id": "c76bbafe-a127-4853-b3b3-5589d0f3a03a",
   "metadata": {
    "tags": []
   },
   "source": [
    "## Parâmetros da simulação:"
   ]
  },
  {
   "cell_type": "code",
   "execution_count": 3,
   "id": "b1a9a531-e225-41d0-ad57-760ba04c5856",
   "metadata": {},
   "outputs": [],
   "source": [
    "#Parâmetros da simulação:\n",
    "\n",
    "numero_particulas = 300\n",
    "tamanho_caixa = 50\n",
    "RAIO = 0.5\n",
    "MASSA = 1\n",
    "probabilidade_reacao = 0.4\n",
    "tipo = 'atomo'\n",
    "\n",
    "tempo_final = 50\n",
    "numero_passos = 400\n",
    "tempo_cada_passo = tempo_final/numero_passos"
   ]
  },
  {
   "cell_type": "markdown",
   "id": "c6f302af-ed33-4874-bae7-1c19878e2c28",
   "metadata": {
    "tags": []
   },
   "source": [
    "## Simulação da reação química:"
   ]
  },
  {
   "cell_type": "markdown",
   "id": "52c224d6-a3c9-45bc-a1c3-204323b28d2a",
   "metadata": {},
   "source": [
    "def gerar_particulas_sistemas_separados(N, raio, massa, tamanho_caixa, tipo, num_sistemas):\n",
    "    \"\"\"Generate N Particle objects in separate lists for different systems.\"\"\"\n",
    "    sistemas_particulas = {i: [] for i in range(1, num_sistemas + 1)}  # Dicionário para armazenar partículas de cada sistema\n",
    "\n",
    "    for i in range(N):\n",
    "        magnitude_velocidade = np.random.rand(1) * 25\n",
    "        angulo_velocidade = np.random.rand(1) * 2 * np.pi\n",
    "        v = np.append(magnitude_velocidade * np.cos(angulo_velocidade), magnitude_velocidade * np.sin(angulo_velocidade))\n",
    "\n",
    "        colisao = True\n",
    "        while colisao:\n",
    "            colisao = False\n",
    "            pos = raio + np.random.rand(2) * (tamanho_caixa - 2 * raio)\n",
    "            nova_particula = Particula(massa, raio, pos, v, tipo)\n",
    "\n",
    "            # Verificar colisões com todas as partículas em todos os sistemas\n",
    "            for sistema, particulas_sistema in sistemas_particulas.items():\n",
    "                for particula_sistema in particulas_sistema:\n",
    "                    if nova_particula.checar_colisão(particula_sistema):\n",
    "                        colisao = True\n",
    "                        break\n",
    "                if colisao:\n",
    "                    break\n",
    "\n",
    "            # Se não houver colisões, adicionar a partícula ao sistema correspondente\n",
    "            if not colisao:\n",
    "                sistema_destino = i % num_sistemas + 1  # Calcula o sistema de destino usando o operador de módulo\n",
    "                sistemas_particulas[sistema_destino].append(nova_particula)\n",
    "\n",
    "    return sistemas_particulas\n"
   ]
  },
  {
   "cell_type": "markdown",
   "id": "a0b64ee1-2c92-42df-8ea6-9c23c8c7644f",
   "metadata": {},
   "source": [
    "num_sistemas = 5  # Defina o número de sistemas desejado\n",
    "particulas_por_sistema = gerar_particulas_sistemas_separados(numero_particulas, RAIO, MASSA, tamanho_caixa, tipo, num_sistemas)\n",
    "\n",
    "#print(particulas_por_sistema)\n",
    "# Iterar por todos os sistemas e suas partículas\n",
    "for sistema, particulas_sistema in particulas_por_sistema.items():\n",
    "    print(f\"Sistema {sistema}: {len(particulas_sistema)} partículas\")\n",
    "    #for particula in particulas_sistema:\n",
    "     #   print(particula)  # Ou qualquer outra ação que você deseje fazer com a partícula\n"
   ]
  },
  {
   "cell_type": "markdown",
   "id": "4e14d159-7c69-4cc3-8e1c-63a57c76785d",
   "metadata": {},
   "source": [
    "nova_lista = []\n",
    "for key in particulas_por_sistema.keys():\n",
    "    nova_lista.append(particulas_por_sistema[key])\n",
    "    \n",
    "lista_particulas_sistema1, lista_particulas_sistema2, lista_particulas_sistema3, lista_particulas_sistema4, lista_particulas_sistema5 = nova_lista\n",
    "\n",
    "\n",
    "#if len(nova_lista) == 5:  # Se você souber que são 3 listas\n",
    " #   lista_particulas_sistema1, lista2, lista3, lista4, lista5 = nova_lista\n",
    "\n",
    "    # Agora você pode usar as variáveis lista1, lista2 e lista3 individualmente\n",
    "print(len(lista_particulas_sistema1))\n",
    "  "
   ]
  },
  {
   "cell_type": "code",
   "execution_count": 4,
   "id": "184571c8-5ec8-41f8-9549-4e317012647a",
   "metadata": {
    "tags": []
   },
   "outputs": [
    {
     "data": {
      "image/png": "[encoded data removed]",
      "text/plain": [
       "<Figure size 432x288 with 1 Axes>"
      ]
     },
     "metadata": {
      "needs_background": "light"
     },
     "output_type": "display_data"
    }
   ],
   "source": [
    "lista_particulas_sistema1, lista_particulas_sistema2, lista_particulas_sistema3, lista_particulas_sistema4, lista_particulas_sistema5 = gerar_particulas_dois_sistemas(numero_particulas, RAIO, MASSA, tamanho_caixa, tipo)\n",
    "\n",
    "lista_reagentes_sistema1, lista_produtos_sistema1 = [], []\n",
    "lista_reagentes_sistema2, lista_produtos_sistema2 = [], []\n",
    "lista_reagentes_sistema3, lista_produtos_sistema3 = [], []\n",
    "lista_reagentes_sistema4, lista_produtos_sistema4 = [], []\n",
    "lista_reagentes_sistema5, lista_produtos_sistema5 = [], []\n",
    "\n",
    "# Compute simulation (It takes some time if numero_passos and numero_particulas are large)\n",
    "for i in range(numero_passos):\n",
    "    \n",
    "    # Simular colisões\n",
    "    simular_reacao(lista_particulas_sistema1, probabilidade_reacao, tempo_cada_passo)\n",
    "\n",
    "    # Atualizar posições e velocidades\n",
    "    mudar_passo(lista_particulas_sistema1, tempo_cada_passo, tamanho_caixa, probabilidade_reacao)\n",
    "    \n",
    "    a_count, m_count = 0, 0\n",
    "    \n",
    "    for particula in lista_particulas_sistema1:\n",
    "        if particula.tipo == 'atomo':\n",
    "            a_count += 1\n",
    "        else:\n",
    "            m_count += 1\n",
    "    \n",
    "    lista_reagentes_sistema1.append(a_count)\n",
    "    lista_produtos_sistema1.append(m_count)\n",
    "    \n",
    "    # Simular colisões para o sistema 2\n",
    "    simular_reacao(lista_particulas_sistema2, probabilidade_reacao, tempo_cada_passo)\n",
    "    # Atualizar posições e velocidades para o sistema 2\n",
    "    mudar_passo(lista_particulas_sistema2, tempo_cada_passo, tamanho_caixa, probabilidade_reacao)\n",
    "    \n",
    "    a_count, m_count = 0, 0\n",
    "    for particula in lista_particulas_sistema2:\n",
    "        if particula.tipo == 'atomo':\n",
    "            a_count += 1\n",
    "        else:\n",
    "            m_count += 1\n",
    "    lista_reagentes_sistema2.append(a_count)\n",
    "    lista_produtos_sistema2.append(m_count)\n",
    "    \n",
    "    \n",
    "    # Simular colisões para o sistema 3\n",
    "    simular_reacao(lista_particulas_sistema3, probabilidade_reacao, tempo_cada_passo)\n",
    "\n",
    "    # Atualizar posições e velocidades\n",
    "    mudar_passo(lista_particulas_sistema3, tempo_cada_passo, tamanho_caixa, probabilidade_reacao)\n",
    "    \n",
    "    a_count, m_count = 0, 0\n",
    "    \n",
    "    for particula in lista_particulas_sistema3:\n",
    "        if particula.tipo == 'atomo':\n",
    "            a_count += 1\n",
    "        else:\n",
    "            m_count += 1\n",
    "    \n",
    "    lista_reagentes_sistema3.append(a_count)\n",
    "    lista_produtos_sistema3.append(m_count)\n",
    "    \n",
    "    simular_reacao(lista_particulas_sistema4, probabilidade_reacao, tempo_cada_passo)\n",
    "    # Atualizar posições e velocidades para o sistema 4\n",
    "    mudar_passo(lista_particulas_sistema4, tempo_cada_passo, tamanho_caixa, probabilidade_reacao)\n",
    "    \n",
    "    a_count, m_count = 0, 0\n",
    "    for particula in lista_particulas_sistema4:\n",
    "        if particula.tipo == 'atomo':\n",
    "            a_count += 1\n",
    "        else:\n",
    "            m_count += 1\n",
    "    lista_reagentes_sistema4.append(a_count)\n",
    "    lista_produtos_sistema4.append(m_count)\n",
    "    \n",
    "    # Simular colisões para o sistema 5\n",
    "    simular_reacao(lista_particulas_sistema5, probabilidade_reacao, tempo_cada_passo)\n",
    "\n",
    "    # Atualizar posições e velocidades\n",
    "    mudar_passo(lista_particulas_sistema5, tempo_cada_passo, tamanho_caixa, probabilidade_reacao)\n",
    "    \n",
    "    a_count, m_count = 0, 0\n",
    "    \n",
    "    for particula in lista_particulas_sistema5:\n",
    "        if particula.tipo == 'atomo':\n",
    "            a_count += 1\n",
    "        else:\n",
    "            m_count += 1\n",
    "    \n",
    "    lista_reagentes_sistema5.append(a_count)\n",
    "    lista_produtos_sistema5.append(m_count)\n",
    "    \n",
    "\n",
    "plt.plot(list(range(numero_passos)),lista_reagentes_sistema1,label='Reagentes sistema 1')\n",
    "plt.plot(list(range(numero_passos)),lista_reagentes_sistema2,label='Reagentes sistema 2')\n",
    "plt.plot(list(range(numero_passos)),lista_reagentes_sistema3,label='Reagentes sistema 3')\n",
    "plt.plot(list(range(numero_passos)),lista_reagentes_sistema4,label='Reagentes sistema 4')\n",
    "plt.plot(list(range(numero_passos)),lista_reagentes_sistema5,label='Reagentes sistema 5')\n",
    "\n",
    "#plt.plot(list(range(numero_passos)),lista_produtos_sistema1,label='Reagentes sistema 1')\n",
    "#plt.plot(list(range(numero_passos)),lista_produtos_sistema2,label='Reagentes sistema 2')\n",
    "#plt.plot(list(range(numero_passos)),lista_produtos_sistema3,label='Reagentes sistema 3')\n",
    "#plt.plot(list(range(numero_passos)),lista_produtos_sistema4,label='Reagentes sistema 4')\n",
    "#plt.plot(list(range(numero_passos)),lista_produtos_sistema5,label='Reagentes sistema 5')\n",
    "plt.xlabel('Tempo')\n",
    "plt.ylabel('Número de partículas')\n",
    "\n",
    "plt.legend()\n",
    "#plt.xlim(0, 50)  # Define os limites do eixo x de 0 a 100\n",
    "plt.savefig('simulação_temperatura.png')\n",
    "plt.show()"
   ]
  },
  {
   "cell_type": "markdown",
   "id": "7398d0d0-30f9-45eb-97ff-a03548880cf4",
   "metadata": {},
   "source": [
    "## Dataframe:"
   ]
  },
  {
   "cell_type": "code",
   "execution_count": 5,
   "id": "597b5ead-4150-4d67-8928-20ffe125bac2",
   "metadata": {},
   "outputs": [
    {
     "name": "stdout",
     "output_type": "stream",
     "text": [
      "400\n",
      "400\n",
      "400\n"
     ]
    }
   ],
   "source": [
    "lista = {'Reagentes sistema 1': lista_reagentes_sistema1, 'Reagentes sistema 2': lista_reagentes_sistema2, 'Reagentes sistema 3': lista_reagentes_sistema3, 'Reagentes sistema 4': lista_reagentes_sistema4, 'Reagentes sistema 5': lista_reagentes_sistema5, 'tempo': range(numero_passos)}\n",
    "\n",
    "print(len(lista_reagentes_sistema1))\n",
    "print(len(lista_reagentes_sistema1))\n",
    "print(len(range(numero_passos)))\n",
    "\n",
    "\n",
    "df = pd.DataFrame(lista)\n",
    "\n",
    "sistema1_df = df['Reagentes sistema 1'] #df.iloc[0 : 70, 0]\n",
    "sistema2_df = df['Reagentes sistema 2'] #df.iloc[0 : 70, 0]\n",
    "sistema3_df = df['Reagentes sistema 3'] #df.iloc[0 : 70, 0]\n",
    "sistema4_df = df['Reagentes sistema 4'] #df.iloc[0 : 70, 0]\n",
    "sistema5_df = df['Reagentes sistema 5'] #df.iloc[0 : 70, 0]\n",
    "\n",
    "temporeacao = df['tempo'] #df.iloc[0:70, 2]\n",
    "\n",
    "df.to_csv('meu_dataframe_sem_catalisador.csv', index=False)\n"
   ]
  },
  {
   "cell_type": "markdown",
   "id": "3b4dbb7a-7b99-4f4f-9026-763f296798aa",
   "metadata": {},
   "source": [
    "## Coeficiente k:"
   ]
  },
  {
   "cell_type": "code",
   "execution_count": 6,
   "id": "059173bd-5b68-4a05-b1a7-48e6a68d67a7",
   "metadata": {},
   "outputs": [
    {
     "name": "stdout",
     "output_type": "stream",
     "text": [
      "k = 0.03285088083744132\n",
      "k = 0.04264874574884789\n",
      "k = 0.043315230916293725\n",
      "k = 0.05198611628344428\n",
      "k = 0.0551912995160168\n"
     ]
    },
    {
     "data": {
      "image/png": "[encoded data removed]",
      "text/plain": [
       "<Figure size 432x288 with 1 Axes>"
      ]
     },
     "metadata": {
      "needs_background": "light"
     },
     "output_type": "display_data"
    }
   ],
   "source": [
    "import lmfit\n",
    "\n",
    "def fit(x, k, C, D):\n",
    "    return C*np.exp(-k*x) + D\n",
    "\n",
    "taxas = []\n",
    "\n",
    "for sistema_df in [sistema1_df, sistema2_df, sistema3_df, sistema4_df, sistema5_df]:\n",
    "    \n",
    "    funcao_fit_model=lmfit.Model(fit)\n",
    "    funcao_fit_model.set_param_hint('D',value=30, vary=True)\n",
    "    funcao_fit_model.set_param_hint('C',value=150, vary=True)\n",
    "    funcao_fit_model.set_param_hint('k',value=.05, vary=True)\n",
    "\n",
    "    param = funcao_fit_model.make_params()\n",
    "    results = funcao_fit_model.fit(sistema_df, x = temporeacao, params = param)\n",
    "    k = results.params['k'].value\n",
    "    D = results.params['D'].value\n",
    "    C = results.params['C'].value\n",
    "    \n",
    "    x_fit = np.linspace(0, max(temporeacao))\n",
    "    y_fit = fit(x_fit, k, C, D)\n",
    "    \n",
    "    taxas.append(k)\n",
    "    \n",
    "    print('k =',k)\n",
    "    plt.plot(x_fit,y_fit,label='fit')\n",
    "    plt.plot(temporeacao,sistema_df,label='dados gerados')\n",
    "    plt.legend()\n",
    "plt.show()"
   ]
  },
  {
   "cell_type": "code",
   "execution_count": 7,
   "id": "da94df09-bea8-49fc-b0c0-db5b91676e77",
   "metadata": {},
   "outputs": [
    {
     "name": "stdout",
     "output_type": "stream",
     "text": [
      "0.0551912995160168\n"
     ]
    }
   ],
   "source": [
    "print(k)"
   ]
  },
  {
   "cell_type": "markdown",
   "id": "f8dc64c3-acf8-4484-862a-68f8fc356835",
   "metadata": {},
   "source": [
    "# Análise do efeito da Temperatura no sistema:"
   ]
  },
  {
   "cell_type": "markdown",
   "id": "4b4d8f25-7e3b-4cf6-a63c-72d3682c2c13",
   "metadata": {},
   "source": [
    "## Obtendo a temperatura através da simulação:\n",
    "Sim, você pode obter a temperatura a partir da distribuição de velocidades de Maxwell-Boltzmann. Esta distribuição descreve a probabilidade de uma partícula ter uma determinada velocidade em um gás ideal à temperatura \\(T\\).\n",
    "\n",
    "A relação entre a temperatura \\(T\\) e a distribuição de velocidades de Maxwell-Boltzmann é dada pela equação:\n",
    "\n",
    "$ \\langle v^2 \\rangle = \\frac{3 k_B T}{m} $\n",
    "\n",
    "Onde:\n",
    "- $\\langle v^2 \\rangle$ é o valor médio da velocidade ao quadrado.\n",
    "- \\(k_B\\) é a constante de Boltzmann $(1.380649 \\times 10^{-23} \\, \\text{J/K}$.\n",
    "- \\(T\\) é a temperatura em Kelvin.\n",
    "- \\(m\\) é a massa da partícula.\n",
    "\n",
    "Se você tiver a média das velocidades ao quadrado das partículas em sua simulação, você pode usar essa equação para encontrar a temperatura correspondente.\n",
    "\n",
    "Por exemplo, se você tem a média das velocidades ao quadrado $\\langle v^2 \\rangle$ e a massa das partículas, você pode calcular a temperatura usando:\n",
    "\n",
    "$ T = \\frac{m \\langle v^2 \\rangle N}{3 k_B} $"
   ]
  },
  {
   "cell_type": "code",
   "execution_count": 8,
   "id": "0ef44d73-0b92-4ad1-a2e4-082912fb95e1",
   "metadata": {},
   "outputs": [],
   "source": [
    "def calcular_temperatura(lista_particulas, massa):\n",
    "    \"\"\"\n",
    "    Calcula uma estimativa da temperatura do sistema com base na distribuição de Maxwell-Boltzmann das velocidades.\n",
    "\n",
    "    Args:\n",
    "        lista_particulas (list): Uma lista de objetos que contêm informações sobre as partículas.\n",
    "            Cada objeto deve ter um atributo 'velocidade' que represente a velocidade da partícula como um vetor.\n",
    "        massa (float): A massa das partículas em unidades apropriadas (por exemplo, kg).\n",
    "\n",
    "    Returns:\n",
    "        float: A temperatura estimada em Kelvin.\n",
    "\n",
    "    Note:\n",
    "        Esta estimativa assume que as velocidades das partículas seguem a distribuição de Maxwell-Boltzmann\n",
    "        e que o sistema se comporta como um gás ideal.\n",
    "    \"\"\"\n",
    "    v_quadrado_medio = 0\n",
    "    \n",
    "    for particula in lista_particulas:\n",
    "        v_quadrado_medio += np.dot(particula.velocidade, particula.velocidade)\n",
    "            \n",
    "    v_quadrado_medio /= len(lista_particulas)\n",
    "    \n",
    "    kB = 1.380649e-23   # Constante de Boltzmann em J/K #aproximação\n",
    "    temperatura = (massa * v_quadrado_medio) * numero_particulas / (3 * kB)\n",
    "    \n",
    "    return temperatura"
   ]
  },
  {
   "cell_type": "markdown",
   "id": "f2bd8294-e9f1-4c0a-9c11-f95df54cf520",
   "metadata": {},
   "source": [
    "O código retorna a temperatura estimada de um sistema de partículas com base nas velocidades dessas partículas, assumindo que as velocidades seguem a distribuição de Maxwell-Boltzmann.\n",
    "\n",
    "O parâmetro `lista_particulas` deve ser uma lista de objetos que contêm informações sobre as partículas. Cada objeto deve ter um atributo chamado `velocidade`, que representa a velocidade da partícula como um vetor.\n",
    "\n",
    "A função calcula a média das velocidades ao quadrado de todas as partículas e usa essa média para estimar a temperatura do sistema. Lembre-se de que esta é uma estimativa e assume que o sistema se comporta como um gás ideal.\n",
    "\n",
    "Para calcular a temperatura de uma partícula específica em vez da temperatura média do sistema, teria que considerar apenas a velocidade da partícula em questão.\n",
    "\n",
    "Então para a gente obter temperaturas diferentes e inserir na equação de Arrhenius, vamos ter que usar a função `calcular_temperatura` em dois sistemas diferentes."
   ]
  },
  {
   "cell_type": "markdown",
   "id": "bf15c521-f0a8-4bd0-b5f3-2e7cd836ce8a",
   "metadata": {},
   "source": [
    "## Simulando sistemas diferentes:\n",
    "Vamos ter que simular, pegar a lista de valores para calcular a temp e fitar para obter k.\n",
    "As velocidades dos sistemas são geradas de forma aleatória dentro de `gerar_particulas()`, para gerar esses dois sistemas com velocidades diferentes\n",
    "\n",
    "#### Massa:\n",
    "Para o átomo de hidrogênio, que tem uma massa atômica de aproximadamente 1.00784 u (unidades de massa atômica), podemos converter isso para gramas por mol (g/mol) e, em seguida, para quilogramas por mol (kg/mol).\n",
    "\n",
    "A conversão é feita da seguinte forma:\n",
    "\n",
    "1. Massa atômica em g/mol:\n",
    "$M_{\\text{H}} = 1.00784 \\, \\text{u} \\times 1 \\, \\text{g/mol/u} \\approx 1.00784 \\, \\text{g/mol}$\n",
    "\n",
    "2. Massa atômica em kg/mol:\n",
    "$m_{\\text{H}} = M_{\\text{H}} \\times 10^{-3} \\times N_A \\approx 1.00784 \\times 10^{-3} \\, \\text{kg/mol} \\times 6.02214076 \\times 10^{23} \\, \\text{mol}^{-1} \\approx 1.00784 \\times 10^{-26} \\, \\text{kg/mol}$\n",
    "\n",
    "Portanto, para o átomo de hidrogênio, a massa molecular é aproximadamente \\($1 \\times 10^{-26}$\\) kg/mol. Se você deseja usar isso na equação de Arrhenius, certifique-se de expressar a energia de ativação (\\($E_a$\\)) em joules (J) por mol.\n",
    "\n",
    "\n",
    "### Temperaturas:"
   ]
  },
  {
   "cell_type": "code",
   "execution_count": 9,
   "id": "ad365eab-d3a7-455a-bc54-27bb11f68737",
   "metadata": {},
   "outputs": [
    {
     "name": "stdout",
     "output_type": "stream",
     "text": [
      "A temperatura estimada para o sistema 1 é aproximadamente 11.78 K.\n",
      "A temperatura estimada para o sistema 2 é aproximadamente 57.67 K.\n",
      "A temperatura estimada para o sistema 3 é aproximadamente 127.63 K.\n",
      "A temperatura estimada para o sistema 4 é aproximadamente 237.81 K.\n",
      "A temperatura estimada para o sistema 5 é aproximadamente 372.81 K.\n"
     ]
    }
   ],
   "source": [
    "# Supondo que a reação seja de H? Massa unitária \n",
    "massa_particula = 1*10**(-26)  # Em kg/mol\n",
    "\n",
    "# Calcular a temperatura\n",
    "temperatura_sistema1 = calcular_temperatura(lista_particulas_sistema1, massa_particula)\n",
    "temperatura_sistema2 = calcular_temperatura(lista_particulas_sistema2, massa_particula)\n",
    "temperatura_sistema3 = calcular_temperatura(lista_particulas_sistema3, massa_particula)\n",
    "temperatura_sistema4 = calcular_temperatura(lista_particulas_sistema4, massa_particula)\n",
    "temperatura_sistema5 = calcular_temperatura(lista_particulas_sistema5, massa_particula)\n",
    "\n",
    "\n",
    "print(f\"A temperatura estimada para o sistema 1 é aproximadamente {temperatura_sistema1:.2f} K.\")\n",
    "print(f\"A temperatura estimada para o sistema 2 é aproximadamente {temperatura_sistema2:.2f} K.\")\n",
    "print(f\"A temperatura estimada para o sistema 3 é aproximadamente {temperatura_sistema3:.2f} K.\")\n",
    "print(f\"A temperatura estimada para o sistema 4 é aproximadamente {temperatura_sistema4:.2f} K.\")\n",
    "print(f\"A temperatura estimada para o sistema 5 é aproximadamente {temperatura_sistema5:.2f} K.\")\n",
    "\n",
    "temperaturas_arrhenius = [temperatura_sistema1, temperatura_sistema2, temperatura_sistema3, temperatura_sistema4, temperatura_sistema5] #tem que transformar em array?"
   ]
  },
  {
   "cell_type": "code",
   "execution_count": 10,
   "id": "553be893-9149-44e0-a35d-7d6f2739f7b4",
   "metadata": {},
   "outputs": [],
   "source": [
    "from sklearn.linear_model import LinearRegression"
   ]
  },
  {
   "cell_type": "code",
   "execution_count": 11,
   "id": "e4c1913a-e76d-44ba-b07f-9b4906577167",
   "metadata": {},
   "outputs": [
    {
     "name": "stderr",
     "output_type": "stream",
     "text": [
      "No handles with labels found to put in legend.\n"
     ]
    },
    {
     "data": {
      "image/png": "[encoded data removed]",
      "text/plain": [
       "<Figure size 432x288 with 1 Axes>"
      ]
     },
     "metadata": {
      "needs_background": "light"
     },
     "output_type": "display_data"
    }
   ],
   "source": [
    "#k em função da temperatura\n",
    "\n",
    "plt.scatter(temperaturas_arrhenius, taxas)\n",
    "plt.legend()\n",
    "plt.show()"
   ]
  },
  {
   "cell_type": "code",
   "execution_count": 12,
   "id": "61473d23-592a-4416-ba79-a58308a9b6df",
   "metadata": {},
   "outputs": [],
   "source": [
    "model = LinearRegression()\n",
    "model = LinearRegression().fit(np.array(temperaturas_arrhenius).reshape(-1, 1),taxas)\n",
    "\n",
    "x_pred = np.linspace(min(temperaturas_arrhenius),max(temperaturas_arrhenius),2)\n",
    "y_pred = model.predict(x_pred.reshape(-1, 1))"
   ]
  },
  {
   "cell_type": "markdown",
   "id": "c705464a-b6a1-4863-a277-1a16ca91e970",
   "metadata": {},
   "source": [
    "k_list = []\n",
    "for parametro in parametros_ajustados:\n",
    "    k_list.append(parametro[1])"
   ]
  },
  {
   "cell_type": "code",
   "execution_count": 13,
   "id": "26f7ac18-762b-42d6-b31c-b07339202881",
   "metadata": {},
   "outputs": [
    {
     "data": {
      "image/png": "[encoded data removed]",
      "text/plain": [
       "<Figure size 432x288 with 1 Axes>"
      ]
     },
     "metadata": {
      "needs_background": "light"
     },
     "output_type": "display_data"
    }
   ],
   "source": [
    "plt.scatter(temperaturas_arrhenius,taxas)\n",
    "plt.plot(x_pred,y_pred)\n",
    "\n",
    "plt.xlabel('Temperatura'),plt.ylabel('Coeficiente k')\n",
    "plt.savefig('temperatura_linear.png')"
   ]
  },
  {
   "cell_type": "markdown",
   "id": "39071fe0-fa24-4332-b7fb-783bca50d206",
   "metadata": {},
   "source": [
    "## Equação de Arrhenius:"
   ]
  },
  {
   "cell_type": "markdown",
   "id": "51ca0dd5-b746-4288-b463-bfadf4835524",
   "metadata": {},
   "source": [
    "Na verdade, eu simulo aumentando a velocidade (que é a mesma coisa que aumentar a temperatura) e pego esses valores e fito para obter a energia de ativação"
   ]
  },
  {
   "cell_type": "code",
   "execution_count": 14,
   "id": "ab425f2f-a97e-4078-8d5c-7de7018f4ffb",
   "metadata": {},
   "outputs": [],
   "source": [
    "def arrhenius_eq(T, A, Ea):\n",
    "    \"\"\"\n",
    "    Calcula a constante de taxa (k) utilizando a Lei de Arrhenius.\n",
    "    \n",
    "    Args:\n",
    "        A (float): Fator de pré-exponencial de Arrhenius.\n",
    "        Ea (float): Energia de ativação em Joules por mol.\n",
    "        R (float): Constante dos gases ideais em Joules por mol por Kelvin.\n",
    "        T (float): Temperatura em Kelvin.\n",
    "        \n",
    "    Returns:\n",
    "        float: Constante de taxa (k).\n",
    "    \"\"\"\n",
    "    R = 8.314  # Constante dos gases ideais em J/(mol K)\n",
    "    \n",
    "    return A * np.exp(- (Ea / (R * T)))"
   ]
  },
  {
   "cell_type": "code",
   "execution_count": 15,
   "id": "a86fcf2e-ee69-4d33-8581-67168e1e170a",
   "metadata": {},
   "outputs": [
    {
     "name": "stdout",
     "output_type": "stream",
     "text": [
      "Fator de pré-exponencial (A): -13.4175485789486\n",
      "Energia de ativação (Ea): -2.9935585950094104 J/mol\n"
     ]
    },
    {
     "data": {
      "image/png": "[encoded data removed]",
      "text/plain": [
       "<Figure size 432x288 with 1 Axes>"
      ]
     },
     "metadata": {
      "needs_background": "light"
     },
     "output_type": "display_data"
    }
   ],
   "source": [
    "temperaturas_arrhenius = np.array(temperaturas_arrhenius)\n",
    "\n",
    "# Transformação dos dados\n",
    "ln_taxas = np.log(taxas)\n",
    "\n",
    "# Ajuste linear\n",
    "params, covariance = curve_fit(arrhenius_eq, temperaturas_arrhenius, ln_taxas)\n",
    "A_fit, Ea_fit = params\n",
    "\n",
    "# Calcular os valores ajustados\n",
    "valores_ajustados = arrhenius_eq(temperaturas_arrhenius, A_fit, Ea_fit)\n",
    "\n",
    "# Imprimir os resultados\n",
    "print(f\"Fator de pré-exponencial (A): {Ea_fit}\")\n",
    "print(f\"Energia de ativação (Ea): {A_fit} J/mol\")\n",
    "\n",
    "# Plotar os dados experimentais e a curva ajustada\n",
    "plt.scatter(temperaturas_arrhenius, ln_taxas, color='red', label='Dados simulados')\n",
    "plt.plot(temperaturas_arrhenius, valores_ajustados, color='blue', label='Ajuste de Arrhenius')\n",
    "plt.xlabel('Temperatura (K)')\n",
    "plt.ylabel('ln(Taxas)')\n",
    "plt.savefig('Arrhenius temperatura.png')\n",
    "plt.legend()\n",
    "plt.show()\n"
   ]
  },
  {
   "cell_type": "markdown",
   "id": "77ad2b68-7a52-4f82-921b-1de218abcfb5",
   "metadata": {},
   "source": [
    "# Para um sistema com catalisador:"
   ]
  },
  {
   "cell_type": "code",
   "execution_count": 16,
   "id": "1a32a5bd-c90b-40e4-9d8e-a989e83a9f44",
   "metadata": {},
   "outputs": [],
   "source": [
    "from funcoes_paredes import Particula, mudar_passo, gerar_particulas_dois_sistemas, simular_reacao, exponencial"
   ]
  },
  {
   "cell_type": "markdown",
   "id": "8d15edf5-22ea-43fc-9375-9588c633ad74",
   "metadata": {
    "tags": []
   },
   "source": [
    "## Simulação da reação química com catalisador:"
   ]
  },
  {
   "cell_type": "code",
   "execution_count": 17,
   "id": "4a336d65-cb56-4305-83ce-d7d0cef0f1be",
   "metadata": {},
   "outputs": [
    {
     "ename": "TypeError",
     "evalue": "simular_reacao() missing 1 required positional argument: 'passo'",
     "output_type": "error",
     "traceback": [
      "\u001b[1;31m---------------------------------------------------------------------------\u001b[0m",
      "\u001b[1;31mTypeError\u001b[0m                                 Traceback (most recent call last)",
      "\u001b[1;32mC:\\Users\\DANIEL~1\\AppData\\Local\\Temp/ipykernel_7832/1463155718.py\u001b[0m in \u001b[0;36m<module>\u001b[1;34m\u001b[0m\n\u001b[0;32m     11\u001b[0m \u001b[1;33m\u001b[0m\u001b[0m\n\u001b[0;32m     12\u001b[0m     \u001b[1;31m# Simular colisões\u001b[0m\u001b[1;33m\u001b[0m\u001b[1;33m\u001b[0m\u001b[0m\n\u001b[1;32m---> 13\u001b[1;33m     \u001b[0msimular_reacao\u001b[0m\u001b[1;33m(\u001b[0m\u001b[0mlista_particulas_sistema1_com_catalisador\u001b[0m\u001b[1;33m,\u001b[0m \u001b[0mprobabilidade_reacao\u001b[0m\u001b[1;33m)\u001b[0m\u001b[1;33m\u001b[0m\u001b[1;33m\u001b[0m\u001b[0m\n\u001b[0m\u001b[0;32m     14\u001b[0m \u001b[1;33m\u001b[0m\u001b[0m\n\u001b[0;32m     15\u001b[0m     \u001b[1;31m# Atualizar posições e velocidades\u001b[0m\u001b[1;33m\u001b[0m\u001b[1;33m\u001b[0m\u001b[0m\n",
      "\u001b[1;31mTypeError\u001b[0m: simular_reacao() missing 1 required positional argument: 'passo'"
     ]
    }
   ],
   "source": [
    "lista_particulas_sistema1_com_catalisador, lista_particulas_sistema2_com_catalisador, lista_particulas_sistema3_com_catalisador, lista_particulas_sistema4_com_catalisador, lista_particulas_sistema5_com_catalisador = gerar_particulas_dois_sistemas(numero_particulas, RAIO, MASSA, tamanho_caixa, tipo)\n",
    "\n",
    "lista_reagentes_sistema1_com_catalisador, lista_produtos_sistema1_com_catalisador = [], []\n",
    "lista_reagentes_sistema2_com_catalisador, lista_produtos_sistema2_com_catalisador = [], []\n",
    "lista_reagentes_sistema3_com_catalisador, lista_produtos_sistema3_com_catalisador = [], []\n",
    "lista_reagentes_sistema4_com_catalisador, lista_produtos_sistema4_com_catalisador = [], []\n",
    "lista_reagentes_sistema5_com_catalisador, lista_produtos_sistema5_com_catalisador = [], []\n",
    "\n",
    "# Compute simulation (It takes some time if numero_passos and numero_particulas are large)\n",
    "for i in range(numero_passos):\n",
    "    \n",
    "    # Simular colisões\n",
    "    simular_reacao(lista_particulas_sistema1_com_catalisador, probabilidade_reacao)\n",
    "\n",
    "    # Atualizar posições e velocidades\n",
    "    mudar_passo(lista_particulas_sistema1_com_catalisador, tempo_cada_passo, tamanho_caixa, probabilidade_reacao)\n",
    "    \n",
    "    a_count, m_count = 0, 0\n",
    "    \n",
    "    for particula in lista_particulas_sistema1_com_catalisador:\n",
    "        if particula.tipo == 'atomo':\n",
    "            a_count += 1\n",
    "        else:\n",
    "            m_count += 1\n",
    "    \n",
    "    lista_reagentes_sistema1_com_catalisador.append(a_count)\n",
    "    lista_produtos_sistema1_com_catalisador.append(m_count)\n",
    "    \n",
    "    # Simular colisões para o sistema 2\n",
    "    simular_reacao(lista_particulas_sistema2_com_catalisador, probabilidade_reacao)\n",
    "    # Atualizar posições e velocidades para o sistema 2\n",
    "    mudar_passo(lista_particulas_sistema2_com_catalisador, tempo_cada_passo, tamanho_caixa, probabilidade_reacao)\n",
    "    \n",
    "    a_count, m_count = 0, 0\n",
    "    for particula in lista_particulas_sistema2_com_catalisador:\n",
    "        if particula.tipo == 'atomo':\n",
    "            a_count += 1\n",
    "        else:\n",
    "            m_count += 1\n",
    "    lista_reagentes_sistema2_com_catalisador.append(a_count)\n",
    "    lista_produtos_sistema2_com_catalisador.append(m_count)\n",
    "    \n",
    "    \n",
    "    # Simular colisões para o sistema 3\n",
    "    simular_reacao(lista_particulas_sistema3_com_catalisador, probabilidade_reacao)\n",
    "\n",
    "    # Atualizar posições e velocidades\n",
    "    mudar_passo(lista_particulas_sistema3_com_catalisador, tempo_cada_passo, tamanho_caixa, probabilidade_reacao)\n",
    "    \n",
    "    a_count, m_count = 0, 0\n",
    "    \n",
    "    for particula in lista_particulas_sistema3_com_catalisador:\n",
    "        if particula.tipo == 'atomo':\n",
    "            a_count += 1\n",
    "        else:\n",
    "            m_count += 1\n",
    "    \n",
    "    lista_reagentes_sistema3_com_catalisador.append(a_count)\n",
    "    lista_produtos_sistema3_com_catalisador.append(m_count)\n",
    "    \n",
    "    simular_reacao(lista_particulas_sistema4_com_catalisador, probabilidade_reacao)\n",
    "    # Atualizar posições e velocidades para o sistema 4\n",
    "    mudar_passo(lista_particulas_sistema4_com_catalisador, tempo_cada_passo, tamanho_caixa, probabilidade_reacao)\n",
    "    \n",
    "    a_count, m_count = 0, 0\n",
    "    for particula in lista_particulas_sistema4_com_catalisador:\n",
    "        if particula.tipo == 'atomo':\n",
    "            a_count += 1\n",
    "        else:\n",
    "            m_count += 1\n",
    "    lista_reagentes_sistema4_com_catalisador.append(a_count)\n",
    "    lista_produtos_sistema4_com_catalisador.append(m_count)\n",
    "    \n",
    "    # Simular colisões para o sistema 5\n",
    "    simular_reacao(lista_particulas_sistema5_com_catalisador, probabilidade_reacao)\n",
    "\n",
    "    # Atualizar posições e velocidades\n",
    "    mudar_passo(lista_particulas_sistema5_com_catalisador, tempo_cada_passo, tamanho_caixa, probabilidade_reacao)\n",
    "    \n",
    "    a_count, m_count = 0, 0\n",
    "    \n",
    "    for particula in lista_particulas_sistema5_com_catalisador:\n",
    "        if particula.tipo == 'atomo':\n",
    "            a_count += 1\n",
    "        else:\n",
    "            m_count += 1\n",
    "    \n",
    "    lista_reagentes_sistema5_com_catalisador.append(a_count)\n",
    "    lista_produtos_sistema5_com_catalisador.append(m_count)\n",
    "    \n",
    "\n",
    "plt.plot(list(range(numero_passos)),lista_reagentes_sistema1_com_catalisador,label='Reagentes sistema 1 com catalisador', marker = '*')\n",
    "plt.plot(list(range(numero_passos)),lista_reagentes_sistema2_com_catalisador,label='Reagentes sistema 2 com catalisador', marker = '*')\n",
    "plt.plot(list(range(numero_passos)),lista_reagentes_sistema3_com_catalisador,label='Reagentes sistema 3 com catalisador', marker = '*')\n",
    "plt.plot(list(range(numero_passos)),lista_reagentes_sistema4_com_catalisador,label='Reagentes sistema 4 com catalisador', marker = '*')\n",
    "plt.plot(list(range(numero_passos)),lista_reagentes_sistema5_com_catalisador,label='Reagentes sistema 5 com catalisador', marker = '*')\n",
    "\n",
    "plt.plot(list(range(numero_passos)),lista_produtos_sistema1_com_catalisador,label='Produtos sistema 1 com catalisador', marker = '*')\n",
    "plt.plot(list(range(numero_passos)),lista_produtos_sistema2_com_catalisador,label='Produtos sistema 2 com catalisador', marker = '*')\n",
    "plt.plot(list(range(numero_passos)),lista_produtos_sistema3_com_catalisador,label='Produtos sistema 3 com catalisador', marker = '*')\n",
    "plt.plot(list(range(numero_passos)),lista_produtos_sistema4_com_catalisador,label='Produtos sistema 4 com catalisador', marker = '*')\n",
    "plt.plot(list(range(numero_passos)),lista_produtos_sistema5_com_catalisador,label='Produtos sistema 5 com catalisador', marker = '*')\n",
    "\n",
    "plt.xlabel('Tempo')\n",
    "plt.ylabel('Número de partículas')\n",
    "\n",
    "plt.legend()\n",
    "plt.xlim(0, 50)  # Define os limites do eixo x de 0 a 100\n",
    "plt.savefig('Simulação_reagentes_doissistemas.png')\n",
    "plt.show()"
   ]
  },
  {
   "cell_type": "code",
   "execution_count": null,
   "id": "91cb35fe-ad17-4d39-810e-d124c8c84150",
   "metadata": {},
   "outputs": [],
   "source": [
    "lista = {'Reagentes sistema 1 com catalisador': lista_reagentes_sistema1_com_catalisador, 'Reagentes sistema 2 com catalisador': lista_reagentes_sistema2_com_catalisador, 'Reagentes sistema 3 com catalisador': lista_reagentes_sistema3_com_catalisador, 'Reagentes sistema 4 com catalisador': lista_reagentes_sistema4_com_catalisador, 'Reagentes sistema 5 com catalisador': lista_reagentes_sistema5_com_catalisador, 'tempo': range(numero_passos)}\n",
    "\n",
    "df_com_catalisador = pd.DataFrame(lista)\n",
    "\n",
    "sistema1_df_com_catalisador = df_com_catalisador['Reagentes sistema 1 com catalisador'] #df.iloc[0 : 70, 0]\n",
    "sistema2_df_com_catalisador = df_com_catalisador['Reagentes sistema 2 com catalisador'] #df.iloc[0 : 70, 0]\n",
    "sistema3_df_com_catalisador = df_com_catalisador['Reagentes sistema 3 com catalisador'] #df.iloc[0 : 70, 0]\n",
    "sistema4_df_com_catalisador = df_com_catalisador['Reagentes sistema 4 com catalisador'] #df.iloc[0 : 70, 0]\n",
    "sistema5_df_com_catalisador = df_com_catalisador['Reagentes sistema 5 com catalisador'] #df.iloc[0 : 70, 0]\n",
    "\n",
    "temporeacao = df_com_catalisador['tempo'] #df.iloc[0:70, 2]\n",
    "\n",
    "df.to_csv('meu_dataframe_com_catalisador.csv', index=False)\n"
   ]
  },
  {
   "cell_type": "code",
   "execution_count": null,
   "id": "9962d6ae-df02-46cf-8c12-0b8e42df523e",
   "metadata": {},
   "outputs": [],
   "source": [
    "def fit(x, k, C, D):\n",
    "    return C * np.exp(-k * x) + D\n",
    "\n",
    "taxas_com_catalisador = []\n",
    "\n",
    "for idx, sistema_df in enumerate([sistema1_df_com_catalisador, sistema2_df_com_catalisador, sistema3_df_com_catalisador, sistema4_df_com_catalisador, sistema5_df_com_catalisador]):\n",
    "    funcao_fit_model = lmfit.Model(fit)\n",
    "    funcao_fit_model.set_param_hint('D', value=30, vary=True)\n",
    "    funcao_fit_model.set_param_hint('C', value=150, vary=True)\n",
    "    funcao_fit_model.set_param_hint('k', value=0.05, vary=True)\n",
    "\n",
    "    param = funcao_fit_model.make_params()\n",
    "    results = funcao_fit_model.fit(sistema_df, x=temporeacao, params=param)\n",
    "    k = results.params['k'].value\n",
    "    D = results.params['D'].value\n",
    "    C = results.params['C'].value\n",
    "\n",
    "    x_fit = np.linspace(0, max(temporeacao))\n",
    "    y_fit = fit(x_fit, k, C, D)\n",
    "\n",
    "    taxas_com_catalisador.append(k)\n",
    "\n",
    "    print('k =', k)\n",
    "    plt.scatter(x_fit, y_fit, label=f'fit sistema {idx + 1}')\n",
    "    plt.plot(temporeacao, sistema_df, label=f'dados sistema {idx + 1}')\n",
    "    plt.xlim(0, 100)\n",
    "\n",
    "plt.legend()\n",
    "plt.show()\n"
   ]
  },
  {
   "cell_type": "code",
   "execution_count": null,
   "id": "cc100dab-e74e-41e8-9a8e-2e7f9cb9790a",
   "metadata": {},
   "outputs": [],
   "source": [
    "# Supondo que a reação seja de H? Massa unitária \n",
    "massa_particula = 1*10**(-26)  # Em kg/mol\n",
    "\n",
    "# Calcular a temperatura\n",
    "temperatura_sistema1_com_catalisador = calcular_temperatura(lista_particulas_sistema1_com_catalisador, massa_particula)\n",
    "temperatura_sistema2_com_catalisador = calcular_temperatura(lista_particulas_sistema2_com_catalisador, massa_particula)\n",
    "temperatura_sistema3_com_catalisador = calcular_temperatura(lista_particulas_sistema3_com_catalisador, massa_particula)\n",
    "temperatura_sistema4_com_catalisador = calcular_temperatura(lista_particulas_sistema4_com_catalisador, massa_particula)\n",
    "temperatura_sistema5_com_catalisador = calcular_temperatura(lista_particulas_sistema5_com_catalisador, massa_particula)\n",
    "\n",
    "\n",
    "print(f\"A temperatura estimada para o sistema 1 é aproximadamente {temperatura_sistema1_com_catalisador:.2f} K.\")\n",
    "print(f\"A temperatura estimada para o sistema 2 é aproximadamente {temperatura_sistema2_com_catalisador:.2f} K.\")\n",
    "print(f\"A temperatura estimada para o sistema 3 é aproximadamente {temperatura_sistema3_com_catalisador:.2f} K.\")\n",
    "print(f\"A temperatura estimada para o sistema 4 é aproximadamente {temperatura_sistema4_com_catalisador:.2f} K.\")\n",
    "print(f\"A temperatura estimada para o sistema 5 é aproximadamente {temperatura_sistema5_com_catalisador:.2f} K.\")\n",
    "\n",
    "temperaturas_arrhenius_com_catalisador = [temperatura_sistema1_com_catalisador, temperatura_sistema2_com_catalisador, temperatura_sistema3_com_catalisador, temperatura_sistema4_com_catalisador, temperatura_sistema5_com_catalisador] #tem que transformar em array?"
   ]
  },
  {
   "cell_type": "code",
   "execution_count": null,
   "id": "5c5ef0ba-0e93-4482-8881-013e658dca2d",
   "metadata": {},
   "outputs": [],
   "source": [
    "temperaturas_arrhenius_com_catalisador = np.array(temperaturas_arrhenius_com_catalisador)\n",
    "\n",
    "# Transformação dos dados\n",
    "ln_taxas_com_catalisador = np.log(taxas_com_catalisador)\n",
    "\n",
    "# Ajuste linear\n",
    "params, covariance = curve_fit(arrhenius_eq, temperaturas_arrhenius_com_catalisador, ln_taxas_com_catalisador)\n",
    "A_fit_com_catalisador, Ea_fit_com_catalisador = params\n",
    "\n",
    "# Calcular os valores ajustados\n",
    "valores_ajustados_com_catalisador = arrhenius_eq(temperaturas_arrhenius_com_catalisador, A_fit_com_catalisador, Ea_fit_com_catalisador)\n",
    "\n",
    "# Imprimir os resultados\n",
    "print(f\"Fator de pré-exponencial (A): {A_fit_com_catalisador}\")\n",
    "print(f\"Energia de ativação (Ea): {Ea_fit_com_catalisador} J/mol\")\n",
    "\n",
    "# Plotar os dados experimentais e a curva ajustada\n",
    "plt.scatter(temperaturas_arrhenius_com_catalisador, ln_taxas_com_catalisador, color='red', label='Dados simulados')\n",
    "plt.plot(temperaturas_arrhenius_com_catalisador, valores_ajustados_com_catalisador, color='blue', label='Ajuste de Arrhenius')\n",
    "plt.xlabel('Temperatura (K)')\n",
    "plt.ylabel('ln(Taxas)')\n",
    "plt.legend()\n",
    "plt.show()\n"
   ]
  },
  {
   "cell_type": "markdown",
   "id": "c7dbf154-7b5c-45ae-b91b-2ce4aa121c01",
   "metadata": {},
   "source": []
  },
  {
   "cell_type": "code",
   "execution_count": null,
   "id": "980548d5-817f-41b9-a309-34228debc842",
   "metadata": {},
   "outputs": [],
   "source": []
  }
 ],
 "metadata": {
  "kernelspec": {
   "display_name": "ilumpy",
   "language": "python",
   "name": "ilumpy"
  },
  "language_info": {
   "codemirror_mode": {
    "name": "ipython",
    "version": 3
   },
   "file_extension": ".py",
   "mimetype": "text/x-python",
   "name": "python",
   "nbconvert_exporter": "python",
   "pygments_lexer": "ipython3",
   "version": "3.9.7"
  }
 },
 "nbformat": 4,
 "nbformat_minor": 5
}
